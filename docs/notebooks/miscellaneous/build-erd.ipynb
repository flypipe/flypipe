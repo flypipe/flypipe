{
 "cells": [
  {
   "cell_type": "markdown",
   "id": "7b5f2453-6e87-4a9e-8054-c8e91c33fe0f",
   "metadata": {},
   "source": [
    "# Building ERD\n",
    "\n",
    "Here is described how to build a ERD diagram using [dbml-renderer](https://github.com/softwaretechnik-berlin/dbml-renderer), [dbdiagram.io](https://dbdiagram.io/) and [dbdocs.io](https://dbdocs.io/).\n"
   ]
  },
  {
   "cell_type": "markdown",
   "id": "c2b3a112-3e4e-4269-8289-a9475605d370",
   "metadata": {},
   "source": [
    "## Building DBML\n",
    "\n",
    "You can build DBML source code using `build_dbml` from `flypipe.misc.dbml`"
   ]
  },
  {
   "cell_type": "code",
   "execution_count": null,
   "id": "d7b95078-8aa7-49b0-b623-18b56c191cc9",
   "metadata": {},
   "outputs": [],
   "source": [
    "from flypipe.misc.dbml import build_dbml\n",
    "\n",
    "help(build_dbml)"
   ]
  },
  {
   "cell_type": "markdown",
   "id": "ac5ea4c8-d1f4-484c-9163-97dc178f605d",
   "metadata": {},
   "source": [
    "example:"
   ]
  },
  {
   "cell_type": "code",
   "execution_count": null,
   "id": "a9e6bca3-986b-47ed-aa41-8d4398ee80a1",
   "metadata": {},
   "outputs": [],
   "source": [
    "from flypipe import node\n",
    "from flypipe.cache import Cache\n",
    "from flypipe.misc.dbml import build_dbml\n",
    "from flypipe.schema import Schema, Column\n",
    "from flypipe.schema.types import String\n",
    "from pprint import pprint\n",
    "\n",
    "class MyCache(Cache):\n",
    "    def __init__(self, cache_name):\n",
    "        self.cache_name = cache_name\n",
    "\n",
    "    @property\n",
    "    def color(self): # <-- ADDS THIS COLOR TO THE DBML TABLE\n",
    "        return \"#3498DB\"\n",
    "\n",
    "    @property\n",
    "    def name(self): # <-- ADDS THIS NAME TO THE DBML TABLE\n",
    "        return self.cache_name\n",
    "\n",
    "    def read(self, spark):\n",
    "        pass\n",
    "\n",
    "    def write(self, spark, df):\n",
    "        pass\n",
    "\n",
    "    def exists(self, spark=None):\n",
    "        pass\n",
    "                \n",
    "@node(\n",
    "    type=\"pandas\",\n",
    "    description=\"this is node A\",\n",
    "    cache=MyCache(\"cache table a\"),\n",
    "    output=Schema(\n",
    "        Column(\"node_a_col1\", String(), \"description node_a_col1\"),\n",
    "        Column(\"node_a_col2\", String(), \"description node_a_col2\")\n",
    "    )\n",
    ")\n",
    "def A():\n",
    "    pass\n",
    "\n",
    "@node(\n",
    "    type=\"pandas\",\n",
    "    description=\"this is node B\",\n",
    "    output=Schema(\n",
    "        Column(\"node_b_col1\", String(), \"description node_b_col1\"),\n",
    "        Column(\"node_b_col2\", String(), \"description node_b_col2\"),\n",
    "        Column(\"node_b_col3\", String(), \"description node_b_col3\")\n",
    "    )\n",
    ")\n",
    "def B(**dfs):\n",
    "    pass\n",
    "\n",
    "dbml = build_dbml(B)\n",
    "print(f\"{dbml}\")"
   ]
  },
  {
   "cell_type": "markdown",
   "id": "53245d42-f57f-43df-8387-af9453d3e8e1",
   "metadata": {},
   "source": [
    "# Build the Relationships\n",
    "\n",
    "You can define the relationships in the column definition:\n",
    "\n",
    "``` python\n",
    "@node(\n",
    "    ...\n",
    "    output=Schema(\n",
    "        Column(\"node_b_col1\", String(), \"description node_b_col1\", pk=True)\n",
    "        .many_to_one(A.output.node_a_col1), # <-- relationship\n",
    "        ...\n",
    "    )\n",
    ")\n",
    "def B(**dfs):\n",
    "    ...\n",
    "```\n",
    "\n",
    "<div class=\"admonition warning\">\n",
    "    <p class=\"admonition-title\">Important</p>\n",
    "    <p>\n",
    "        You can easily cause python errors ``circular imports`` when importing nodes to define the relationships.\n",
    "        In order to avoid circular dependency, it is recommented to keep a separated py file to define the relationships for your graph.\n",
    "    </p>\n",
    "</div>\n",
    "\n",
    "## Here is how you can avoid circular dependecies:"
   ]
  },
  {
   "cell_type": "code",
   "execution_count": null,
   "id": "5aa2fe74-de11-4d98-b625-71d5c7a6018f",
   "metadata": {},
   "outputs": [],
   "source": [
    "# Example of relationships.py:\n",
    "A.output.node_a_col1.pk = True\n",
    "B.output.node_b_col1.pk = True\n",
    "B.output.node_b_col2.pk = True\n",
    "\n",
    "B.output.node_b_col1.many_to_one(A.output.node_a_col1)"
   ]
  },
  {
   "cell_type": "markdown",
   "id": "9549a057-b57f-4aae-8f96-e695270ff783",
   "metadata": {},
   "source": [
    "## Build ERD Diagram (SVG) using [dbml-renderer](https://github.com/softwaretechnik-berlin/dbml-renderer)"
   ]
  },
  {
   "cell_type": "code",
   "execution_count": null,
   "id": "bc2b93b7-bd03-4472-b46d-95dd88866a5c",
   "metadata": {},
   "outputs": [],
   "source": [
    "from flypipe.misc.erd import build_erd_svg\n",
    "help(build_erd_svg)\n",
    "\n",
    "build_erd_svg(B, \"test.svg\")"
   ]
  },
  {
   "cell_type": "code",
   "execution_count": null,
   "id": "a2c1e64a-ca56-4970-94b2-1884ae29bdc5",
   "metadata": {},
   "outputs": [],
   "source": [
    "from IPython.display import SVG, display\n",
    "\n",
    "display(SVG(filename=\"test.svg\"))  # Replace with your SVG file path\n"
   ]
  },
  {
   "cell_type": "markdown",
   "id": "dde614ff-1349-44eb-a3d4-b65e0bfd33d8",
   "metadata": {},
   "source": [
    "## [dbdiagram.io](https://dbdiagram.io/)\n",
    "\n",
    "Import the DBML file into dbdiagram\n",
    "\n",
    "```sql\n",
    "Table b {\n",
    "\tnode_b_col1 String() [note: '''description node_b_col1''', PK]\n",
    "\tnode_b_col2 String() [note: '''description node_b_col2''', PK]\n",
    "\tnode_b_col3 String() [note: '''description node_b_col3''']\n",
    "\n",
    "\tNote: '''Managed by flypipe node `B`\n",
    "\n",
    "this is node B'''\n",
    "}\n",
    "\n",
    "Ref : cache_table_a.node_a_col1 > b.node_b_col1\n",
    "\n",
    "Table cache_table_a [headercolor: #3498DB] {\n",
    "\tnode_a_col1 String() [note: '''description node_a_col1''', PK]\n",
    "\tnode_a_col2 String() [note: '''description node_a_col2''']\n",
    "\n",
    "\tNote: '''Managed by flypipe node `A`\n",
    "\n",
    "this is node A'''\n",
    "}\n",
    "```"
   ]
  },
  {
   "cell_type": "markdown",
   "id": "6a51a4c4-f02d-4785-b541-0a0b4f54afd6",
   "metadata": {},
   "source": [
    "following is an example of the dbdiagram"
   ]
  },
  {
   "cell_type": "code",
   "execution_count": null,
   "id": "936b7573-ff82-4295-a486-0dc6a97ee90b",
   "metadata": {},
   "outputs": [],
   "source": [
    "from IPython.display import IFrame\n",
    "\n",
    "IFrame(\"https://dbdiagram.io/e/67c9e4b0263d6cf9a07dd726/67c9e4f6263d6cf9a07dde8e\", width=800, height=600)"
   ]
  },
  {
   "cell_type": "markdown",
   "id": "89bd0b71-b50e-466d-b76d-fbadc6069aa5",
   "metadata": {},
   "source": [
    "## [dbdocs.io](https://dbdocs.io/)\n",
    "\n",
    "1. Follow dbdocs the [installation steps](https://docs.dbdocs.io/#1-install-dbdocs-via-terminal)\n",
    "2. [Login](https://docs.dbdocs.io/#3-login-to-dbdocs)\n",
    "3. [Publish your DBML file](https://docs.dbdocs.io/#3-login-to-dbdocs)\n",
    "\n",
    "You can acess [this example](https://dbdocs.io/joseheliomuller/flypipe)."
   ]
  },
  {
   "cell_type": "code",
   "execution_count": null,
   "id": "8317438f-f7ed-4910-ac39-3a42ca5f957f",
   "metadata": {},
   "outputs": [],
   "source": [
    "from IPython.display import IFrame\n",
    "\n",
    "IFrame(\"https://dbdocs.io/joseheliomuller/flypipe\", width=1280, height=1000)"
   ]
  }
 ],
 "metadata": {
  "kernelspec": {
   "display_name": "Python 3 (ipykernel)",
   "language": "python",
   "name": "python3"
  },
  "language_info": {
   "codemirror_mode": {
    "name": "ipython",
    "version": 3
   },
   "file_extension": ".py",
   "mimetype": "text/x-python",
   "name": "python",
   "nbconvert_exporter": "python",
   "pygments_lexer": "ipython3",
   "version": "3.9.23"
  }
 },
 "nbformat": 4,
 "nbformat_minor": 5
}
