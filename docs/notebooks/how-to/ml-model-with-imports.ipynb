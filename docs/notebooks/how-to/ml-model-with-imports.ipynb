{
 "cells": [
  {
   "cell_type": "markdown",
   "id": "a7485b76-b4d2-43eb-b9e1-4f1802ef1971",
   "metadata": {},
   "source": [
    "## ML model `demo`\n",
    "\n",
    "Predicts the type of iris plant.\n"
   ]
  },
  {
   "cell_type": "markdown",
   "id": "726c5734-ce00-4e48-809c-c06a6e7e6519",
   "metadata": {},
   "source": [
    "### Graph"
   ]
  },
  {
   "cell_type": "code",
   "execution_count": null,
   "id": "6623e1ab-9144-40d2-afaa-4a753bcacc62",
   "metadata": {},
   "outputs": [],
   "source": [
    "from flypipe.examples.pipeline.model.demo.graph import graph\n",
    "displayHTML(graph.html())"
   ]
  },
  {
   "cell_type": "markdown",
   "id": "5b339e4d-5fe8-49af-9bdc-31f340f458ce",
   "metadata": {},
   "source": [
    "### How to train?"
   ]
  },
  {
   "cell_type": "code",
   "execution_count": null,
   "id": "dddfeb62-9147-42bb-904e-35a1511f1dc4",
   "metadata": {},
   "outputs": [],
   "source": [
    "import os\n",
    "import mlflow\n",
    "from flypipe.examples.pipeline.model.demo.train.evaluate import evaluate\n",
    "from flypipe.examples.pipeline.model.demo.config import _config\n",
    "\n",
    "ARTIFACT_LOCATION = _config[\"artifact_location\"]\n",
    "EXPERIMENT_PATH = _config[\"experiment_path\"]\n",
    "EXPERIMENT_NAME = _config[\"experiment_name\"]\n",
    "\n",
    "\n",
    "experiment_name = os.path.join(EXPERIMENT_PATH, EXPERIMENT_NAME)\n",
    "# Ends any actve mlflow run\n",
    "try:\n",
    "    mlflow.end_run()\n",
    "except Exception as e:\n",
    "    pass\n",
    "\n",
    "\"\"\"\n",
    "Creates or gets an experiment from /Shared folder\n",
    "Sets the artifact location to the mounted blob\n",
    "\"\"\"\n",
    "os.makedirs(ARTIFACT_LOCATION, exist_ok=True)\n",
    "\n",
    "try:\n",
    "    experiment_id = mlflow.create_experiment(EXPERIMENT_NAME,\n",
    "                                             artifact_location=ARTIFACT_LOCATION.replace(\"/dbfs/\", \"dbfs:/\"))\n",
    "except Exception as e:\n",
    "    pass\n",
    "finally:\n",
    "    experiment = mlflow.get_experiment_by_name(EXPERIMENT_NAME)\n",
    "    experiment_id = experiment.experiment_id\n",
    "\n",
    "experiment = mlflow.get_experiment_by_name(EXPERIMENT_NAME)\n",
    "print(f\"Experiment: {experiment}\")\n",
    "\n",
    "\"\"\"\n",
    "Starts the mlflow run with the experiment\n",
    "\"\"\"\n",
    "mlflow.start_run(experiment_id=experiment_id)\n",
    "RUN_ID = mlflow.active_run().info.run_id\n",
    "print(f\"Active run_id: {RUN_ID}\")\n",
    "\n",
    "\"\"\"\n",
    "Run train/evaluate graph\n",
    "\"\"\"\n",
    "df = evaluate.run()\n",
    "display(df)\n",
    "\n",
    "mlflow.end_run()"
   ]
  },
  {
   "cell_type": "markdown",
   "id": "ca981523-d809-4f6a-b543-ceb3feff1890",
   "metadata": {},
   "source": [
    "### How to run predictions?\n",
    "\n",
    "> Note: as `config` node contains information of the run used for production, the code bellow can be simplified as\n",
    "\n",
    "``` py\n",
    "\n",
    "from flypipe.examples.pipeline.model.demo.predict.predict import predict\n",
    "df = predict.run()\n",
    "display(df)\n",
    "\n",
    "```"
   ]
  },
  {
   "cell_type": "code",
   "execution_count": null,
   "id": "c1c3506b-9b92-4b93-9053-db7bfde2970c",
   "metadata": {},
   "outputs": [],
   "source": [
    "from flypipe.examples.pipeline.model.demo.config import config\n",
    "from flypipe.examples.pipeline.model.demo.predict.predict import predict\n",
    "import pandas as pd\n",
    "\n",
    "config_df = pd.DataFrame(data=[{\n",
    "    \"artifact_location\": ARTIFACT_LOCATION,\n",
    "    \"production_run_id\":RUN_ID,\n",
    "}])\n",
    "\n",
    "df = predict.run(inputs={\n",
    "    config: config_df\n",
    "})\n",
    "\n",
    "display(df)"
   ]
  },
  {
   "cell_type": "markdown",
   "id": "c68deeb7-9f8e-4ed0-a863-5e86bdc8ee66",
   "metadata": {},
   "source": [
    "### Predict using your own inputs?"
   ]
  },
  {
   "cell_type": "code",
   "execution_count": null,
   "id": "1c90e869-a151-4ce1-903a-b238df843cf2",
   "metadata": {},
   "outputs": [],
   "source": [
    "from flypipe.examples.pipeline.model.demo.config import config\n",
    "from flypipe.examples.pipeline.model.demo.predict.predict import predict\n",
    "from flypipe.examples.pipeline.model.demo.data import data\n",
    "import pandas as pd\n",
    "\n",
    "config_df = pd.DataFrame(data=[{\n",
    "    \"artifact_location\": ARTIFACT_LOCATION,\n",
    "    \"production_run_id\":RUN_ID,\n",
    "}])\n",
    "\n",
    "# Hard coded data to be predicted\n",
    "df = pd.DataFrame(data = {\n",
    "        'sepal_length': [6.6],\n",
    "        'sepal_width': [3.1],\n",
    "        'petal_length': [5.1],\n",
    "        'petal_width': [2.4]\n",
    "    })\n",
    "\n",
    "# Run the predictions\n",
    "predictions = (\n",
    "    predict\n",
    "    .run(inputs={\n",
    "        config: config_df,\n",
    "        data: df\n",
    "    })\n",
    ")\n",
    "\n",
    "# Show predictions\n",
    "display(predictions)"
   ]
  }
 ],
 "metadata": {
  "kernelspec": {
   "display_name": "Python 3 (ipykernel)",
   "language": "python",
   "name": "python3"
  },
  "language_info": {
   "codemirror_mode": {
    "name": "ipython",
    "version": 3
   },
   "file_extension": ".py",
   "mimetype": "text/x-python",
   "name": "python",
   "nbconvert_exporter": "python",
   "pygments_lexer": "ipython3",
   "version": "3.9.17"
  }
 },
 "nbformat": 4,
 "nbformat_minor": 5
}
