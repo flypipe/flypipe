{
 "cells": [
  {
   "cell_type": "markdown",
   "id": "dc6944fd-8f9e-4344-ac27-2e39a36f9093",
   "metadata": {},
   "source": [
    "# Databricks"
   ]
  },
  {
   "cell_type": "markdown",
   "id": "6257910b-1358-412f-9c7a-9abb7f4a6ba4",
   "metadata": {},
   "source": [
    "Below we have a very simple transformation pipeline setup that shows how Flypipe might be used. Given the names of various fruits, we will do some minor cleaning of the data and add two columns- color and category. "
   ]
  },
  {
   "cell_type": "markdown",
   "id": "ec06f5a2-3ed2-468d-8f84-20195b60353f",
   "metadata": {},
   "source": [
    "## Install flypipe"
   ]
  },
  {
   "cell_type": "code",
   "execution_count": null,
   "id": "1dc54da8-7fe8-42d6-bbd4-1d727cf55a16",
   "metadata": {},
   "outputs": [],
   "source": [
    "%pip install flypipe"
   ]
  },
  {
   "cell_type": "markdown",
   "id": "f9c254d8-223d-466b-8f6f-ff45cd18bb9b",
   "metadata": {},
   "source": [
    "## Create a temporary view representing a table"
   ]
  },
  {
   "cell_type": "code",
   "execution_count": null,
   "id": "3fe59d11-256c-4b2f-8117-10c3ba6b1af1",
   "metadata": {},
   "outputs": [],
   "source": [
    "df = spark.createDataFrame(\n",
    "    schema=(\"_fruit\",),\n",
    "    data=[\n",
    "        (\"ORANGE\",),\n",
    "        (\"WATERMELON\",),\n",
    "        (\"LEMON\",),\n",
    "    ]\n",
    ")\n",
    "\n",
    "df.createOrReplaceTempView(\"table\")\n",
    "\n",
    "display(df)"
   ]
  },
  {
   "cell_type": "markdown",
   "id": "9daa9e31-b7f6-46ca-88c9-06e0ba222467",
   "metadata": {},
   "source": [
    "## Create a graph"
   ]
  },
  {
   "cell_type": "code",
   "execution_count": null,
   "id": "5589b597-b58c-4406-aa05-c53c4593917b",
   "metadata": {},
   "outputs": [],
   "source": [
    "from flypipe import node\n",
    "from flypipe.datasource.spark import Spark\n",
    "from flypipe.schema import Schema, Column\n",
    "from flypipe.schema.types import String\n",
    "\n",
    "import pyspark.sql.functions as F\n",
    "@node(\n",
    "    type=\"pyspark\",\n",
    "    dependencies=[\n",
    "        Spark(\"table\").select(\"_fruit\").alias(\"df\")\n",
    "    ],\n",
    "    output=Schema(\n",
    "     Column(\"fruit\", String(), \"fruit name\"),\n",
    "    )\n",
    ")\n",
    "def clean(df):\n",
    "    df = df.withColumnRenamed('_fruit', 'fruit')\n",
    "    df = df.withColumn('fruit', F.lower(F.col('fruit')))\n",
    "    return df\n",
    "\n",
    "\n",
    "\n",
    "@node(\n",
    "    type=\"pyspark\",\n",
    "    dependencies=[\n",
    "       clean.select(\"fruit\").alias(\"df\")\n",
    "    ],\n",
    "    output=Schema(\n",
    "        Column(\"fruit\", String(), \"fruit name\"),\n",
    "        Column(\"color\", String(), \"color of the fruit\"),\n",
    "    )\n",
    ")\n",
    "def color(df):\n",
    "    \n",
    "    replacements = {\n",
    "        \"blackberry\": \"black\",\n",
    "        \"strawberry\": \"red\",\n",
    "        \"orange\": \"orange\",\n",
    "        \"watermelon\": \"red\",\n",
    "        \"lemon\": \"yellow\",\n",
    "        \"plum\": \"purple\",\n",
    "    }\n",
    "    \n",
    "    df = df.withColumn(\"color\", F.col(\"fruit\"))\n",
    "    df = df.replace(list(replacements.keys()), list(replacements.values()), \"color\")\n",
    "    return df\n",
    "\n",
    "\n",
    "\n",
    "@node(\n",
    "    type=\"pyspark\",\n",
    "    dependencies=[\n",
    "       clean.select(\"fruit\").alias(\"df\")\n",
    "    ],\n",
    "    output=Schema(\n",
    "        Column(\"fruit\", String(), \"fruit name\"),\n",
    "        Column(\"category\", String(), \"category of the fruit\"),\n",
    "    )\n",
    ")\n",
    "def category(df):\n",
    "    \n",
    "    replacements = {\n",
    "        \"blackberry\": \"berry\",\n",
    "        \"strawberry\": \"berry\",\n",
    "        \"orange\": \"citrus\",\n",
    "        \"watermelon\": \"misc\",\n",
    "        \"lemon\": \"citrus\",\n",
    "        \"plum\": \"stonefruit\",\n",
    "    }\n",
    "    \n",
    "    df = df.withColumn(\"category\", F.col(\"fruit\"))\n",
    "    df = df.replace(list(replacements.keys()), list(replacements.values()), \"category\")\n",
    "    return df\n",
    "\n",
    "\n",
    "\n",
    "\n",
    "@node(\n",
    "    type=\"pyspark\",\n",
    "    dependencies=[\n",
    "       color.select(\"fruit\", \"color\"),\n",
    "       category.select(\"fruit\", \"category\")  \n",
    "    ],\n",
    "    output=Schema(\n",
    "        Column(\"fruit\", String(), \"fruit description\"),\n",
    "        Column(\"color\", String(), \"color of the fruit\"),\n",
    "        Column(\"category\", String(), \"category of the fruit\"),\n",
    "    )\n",
    ")\n",
    "def fruits(color, category):\n",
    "    return color.join(category, on=\"fruit\", how=\"left\")\n"
   ]
  },
  {
   "cell_type": "markdown",
   "id": "039583b5-524a-41c1-b787-bc379830b72c",
   "metadata": {},
   "source": [
    "## Execution Graph"
   ]
  },
  {
   "cell_type": "code",
   "execution_count": null,
   "id": "f772807d-57d2-4048-a9e0-ebc25085b851",
   "metadata": {},
   "outputs": [],
   "source": [
    "displayHTML(fruits.html())"
   ]
  },
  {
   "cell_type": "markdown",
   "id": "cbeae3cb-5a8d-4263-90ac-8d6c1332b2f6",
   "metadata": {},
   "source": [
    "## Running a pipeline"
   ]
  },
  {
   "cell_type": "code",
   "execution_count": null,
   "id": "241fc011-f56f-45c0-a714-d378de526a47",
   "metadata": {},
   "outputs": [],
   "source": [
    "df = fruits.run(spark)\n",
    "display(df)"
   ]
  }
 ],
 "metadata": {
  "kernelspec": {
   "display_name": "Python 3 (ipykernel)",
   "language": "python",
   "name": "python3"
  },
  "language_info": {
   "codemirror_mode": {
    "name": "ipython",
    "version": 3
   },
   "file_extension": ".py",
   "mimetype": "text/x-python",
   "name": "python",
   "nbconvert_exporter": "python",
   "pygments_lexer": "ipython3",
   "version": "3.9.23"
  }
 },
 "nbformat": 4,
 "nbformat_minor": 5
}
