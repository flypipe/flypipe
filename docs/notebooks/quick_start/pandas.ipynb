{
 "cells": [
  {
   "cell_type": "markdown",
   "id": "dc6944fd-8f9e-4344-ac27-2e39a36f9093",
   "metadata": {
    "tags": []
   },
   "source": [
    "# Pandas"
   ]
  },
  {
   "cell_type": "markdown",
   "id": "4778c7ce-1ccf-46bc-ad07-96811bc355b6",
   "metadata": {},
   "source": [
    "Below we have a very simple transformation pipeline setup that shows how Flypipe might be used. Given the names of various fruits, we will do some minor cleaning of the data and add two columns- color and category. "
   ]
  },
  {
   "cell_type": "code",
   "execution_count": null,
   "id": "3fe59d11-256c-4b2f-8117-10c3ba6b1af1",
   "metadata": {},
   "outputs": [],
   "source": [
    "from flypipe import node\n",
    "from flypipe.schema import Schema, Column\n",
    "from flypipe.schema.types import String\n",
    "import pandas as pd\n",
    "\n",
    "# Create the Graph\n",
    "@node(\n",
    "    type=\"pandas\",\n",
    "    output=Schema(\n",
    "     Column(\"_fruit\", String(), \"_fruit\"),\n",
    "    )\n",
    ")\n",
    "def table():\n",
    "    return pd.DataFrame(data={'_fruit': ['ORANGE', 'WATERMELON', 'LEMON']})\n",
    "\n",
    "\n",
    "\n",
    "@node(\n",
    "    type=\"pandas\",\n",
    "    dependencies=[\n",
    "        table.select(\"_fruit\").alias(\"df\")\n",
    "    ],\n",
    "    output=Schema(\n",
    "     Column(\"fruit\", String(), \"fruit name\"),\n",
    "    )\n",
    ")\n",
    "def clean(df):\n",
    "    df = df.rename(columns={'_fruit': 'fruit'})\n",
    "    df['fruit'] = df['fruit'].str.lower()\n",
    "    return df\n",
    "\n",
    "@node(\n",
    "    type=\"pandas\",\n",
    "    dependencies=[\n",
    "       clean.select(\"fruit\").alias(\"df\")\n",
    "    ],\n",
    "    output=Schema(\n",
    "        Column(\"fruit\", String(), \"fruit name\"),\n",
    "        Column(\"color\", String(), \"color of the fruit\"),\n",
    "    )\n",
    ")\n",
    "def color(df):\n",
    "    \n",
    "    replacements = {\n",
    "        \"blackberry\": \"black\",\n",
    "        \"strawberry\": \"red\",\n",
    "        \"orange\": \"orange\",\n",
    "        \"watermelon\": \"red\",\n",
    "        \"lemon\": \"yellow\",\n",
    "        \"plum\": \"purple\",\n",
    "    }\n",
    "    \n",
    "    df['color'] = df['fruit']\n",
    "    df = df.replace({\"color\": replacements})\n",
    "    return df\n",
    "\n",
    "@node(\n",
    "    type=\"pandas\",\n",
    "    dependencies=[\n",
    "       clean.select(\"fruit\").alias(\"df\")\n",
    "    ],\n",
    "    output=Schema(\n",
    "        Column(\"fruit\", String(), \"fruit name\"),\n",
    "        Column(\"category\", String(), \"category of the fruit\"),\n",
    "    )\n",
    ")\n",
    "def category(df):\n",
    "    \n",
    "    replacements = {\n",
    "        \"blackberry\": \"berry\",\n",
    "        \"strawberry\": \"berry\",\n",
    "        \"orange\": \"citrus\",\n",
    "        \"watermelon\": \"misc\",\n",
    "        \"lemon\": \"citrus\",\n",
    "        \"plum\": \"stonefruit\",\n",
    "    }\n",
    "    \n",
    "    df['category'] = df['fruit']\n",
    "    df = df.replace({\"category\": replacements})\n",
    "    return df\n",
    "\n",
    "\n",
    "@node(\n",
    "    type=\"pandas\",\n",
    "    dependencies=[\n",
    "       color.select(\"fruit\", \"color\"),\n",
    "       category.select(\"fruit\", \"category\")  \n",
    "    ],\n",
    "    output=Schema(\n",
    "        Column(\"fruit\", String(), \"fruit name\"),\n",
    "        Column(\"color\", String(), \"color of the fruit\"),\n",
    "        Column(\"category\", String(), \"category of the fruit\"),\n",
    "    )\n",
    ")\n",
    "def fruits(color, category):\n",
    "    return color.merge(category, on=\"fruit\", how=\"left\")\n"
   ]
  },
  {
   "cell_type": "code",
   "execution_count": null,
   "id": "f57045cf-66d9-42b1-8ba3-8c79845a1566",
   "metadata": {},
   "outputs": [],
   "source": [
    "displayHTML(fruits.html())"
   ]
  },
  {
   "cell_type": "code",
   "execution_count": null,
   "id": "f2dcfc5e-1bf2-4c9f-a1cf-12cc167e1cc5",
   "metadata": {},
   "outputs": [],
   "source": [
    "# Run \n",
    "df = fruits.run()\n",
    "print(df)"
   ]
  }
 ],
 "metadata": {
  "kernelspec": {
   "display_name": "Python 3 (ipykernel)",
   "language": "python",
   "name": "python3"
  },
  "language_info": {
   "codemirror_mode": {
    "name": "ipython",
    "version": 3
   },
   "file_extension": ".py",
   "mimetype": "text/x-python",
   "name": "python",
   "nbconvert_exporter": "python",
   "pygments_lexer": "ipython3",
   "version": "3.9.23"
  }
 },
 "nbformat": 4,
 "nbformat_minor": 5
}
