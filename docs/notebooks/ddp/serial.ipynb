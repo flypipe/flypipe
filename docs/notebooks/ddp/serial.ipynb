{
 "cells": [
  {
   "cell_type": "markdown",
   "id": "7d1dbbc4-c13c-4beb-a28d-cea32d61cb59",
   "metadata": {},
   "source": [
    "# Serial"
   ]
  },
  {
   "cell_type": "code",
   "execution_count": null,
   "id": "366086c3-af8f-494c-8f7c-ad186a2c7a30",
   "metadata": {},
   "outputs": [],
   "source": [
    "from flypipe import node\n",
    "from flypipe.schema import Schema, Column\n",
    "from flypipe.schema.types import Float, Integer\n",
    "\n",
    "import pandas as pd\n",
    "from sklearn import datasets\n",
    "\n",
    "\n",
    "@node(type=\"pandas\")\n",
    "def node_1():\n",
    "    return pd.DataFrame(data = {'col1': ['val1']})\n",
    "    \n",
    "\n",
    "@node(type=\"pandas\",\n",
    "     dependencies=[node_1])\n",
    "def node_2(node_1):\n",
    "    node_1['col2'] = 'val2'\n",
    "    return node_1\n",
    "\n",
    "\n",
    "@node(type=\"pandas\",\n",
    "     dependencies=[node_2])\n",
    "def node_3(node_2):\n",
    "    node_2['col3'] = 'val3'\n",
    "    return node_2\n",
    "    \n",
    "displayHTML(node_3.html())"
   ]
  }
 ],
 "metadata": {
  "kernelspec": {
   "display_name": "Python 3 (ipykernel)",
   "language": "python",
   "name": "python3"
  },
  "language_info": {
   "codemirror_mode": {
    "name": "ipython",
    "version": 3
   },
   "file_extension": ".py",
   "mimetype": "text/x-python",
   "name": "python",
   "nbconvert_exporter": "python",
   "pygments_lexer": "ipython3",
   "version": "3.9.17"
  }
 },
 "nbformat": 4,
 "nbformat_minor": 5
}
