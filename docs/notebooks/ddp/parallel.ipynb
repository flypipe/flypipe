{
 "cells": [
  {
   "cell_type": "markdown",
   "id": "76976952-bf51-4f4a-be56-46fb56907a12",
   "metadata": {},
   "source": [
    "# Parallel"
   ]
  },
  {
   "cell_type": "code",
   "execution_count": null,
   "id": "953227e4-a313-4f54-9e85-797ada76063e",
   "metadata": {},
   "outputs": [],
   "source": [
    "from flypipe import node\n",
    "from flypipe.schema import Schema, Column\n",
    "from flypipe.schema.types import Float, Integer\n",
    "\n",
    "import pandas as pd\n",
    "from sklearn import datasets\n",
    "\n",
    "@node(type=\"pandas\")\n",
    "def node_0():\n",
    "    return pd.DataFrame(data = {'col1': ['val1']})\n",
    "\n",
    "\n",
    "@node(type=\"pandas\",\n",
    "     dependencies=[node_0])\n",
    "def node_1(node_0):\n",
    "    return node_0\n",
    "    \n",
    "@node(type=\"pandas\",\n",
    "     dependencies=[node_0])\n",
    "def node_2(node_0):\n",
    "    return node_0\n",
    "\n",
    "@node(type=\"pandas\",\n",
    "     dependencies=[node_0])\n",
    "def node_3(node_0):\n",
    "    return node_0\n",
    "\n",
    "\n",
    "@node(type=\"pandas\",\n",
    "     dependencies=[\n",
    "         node_1,\n",
    "         node_2,\n",
    "         node_3\n",
    "     ])\n",
    "def node_4(node_1, node_2, node_3):\n",
    "    return node_1\n",
    "    \n",
    "displayHTML(node_4.html())"
   ]
  }
 ],
 "metadata": {
  "kernelspec": {
   "display_name": "Python 3 (ipykernel)",
   "language": "python",
   "name": "python3"
  },
  "language_info": {
   "codemirror_mode": {
    "name": "ipython",
    "version": 3
   },
   "file_extension": ".py",
   "mimetype": "text/x-python",
   "name": "python",
   "nbconvert_exporter": "python",
   "pygments_lexer": "ipython3",
   "version": "3.9.17"
  }
 },
 "nbformat": 4,
 "nbformat_minor": 5
}
