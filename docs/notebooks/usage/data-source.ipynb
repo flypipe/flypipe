{
 "cells": [
  {
   "cell_type": "markdown",
   "id": "dee7731c-a9e6-4df5-a31c-445abfd15837",
   "metadata": {},
   "source": [
    "#### Spark"
   ]
  },
  {
   "cell_type": "code",
   "execution_count": null,
   "id": "8ba479c8-5e56-4fb3-8e53-bf0be4bac86c",
   "metadata": {},
   "outputs": [],
   "source": [
    "df = spark.createDataFrame(\n",
    "    data=[\n",
    "        (\"LEMON\", \"Yellow\",), \n",
    "        (\"LIME\", \"Green\",)\n",
    "    ], schema=[\"fruit\", \"color\"])\n",
    "\n",
    "df.createOrReplaceTempView(\"fruits_table\")\n",
    "\n",
    "display(df)"
   ]
  },
  {
   "cell_type": "code",
   "execution_count": null,
   "id": "7f3f879c-b17a-4854-8105-7e0c6a213f5c",
   "metadata": {},
   "outputs": [],
   "source": [
    "from flypipe.node import node\n",
    "from flypipe.datasource.spark import Spark\n",
    "\n",
    "@node(\n",
    "    type=\"pyspark\",\n",
    "    dependencies=[Spark(\"fruits_table\").select(\"fruit\")]\n",
    ")\n",
    "def my_fruits(fruits_table):\n",
    "    return fruits_table\n",
    "\n",
    "df = my_fruits.run(spark)\n",
    "display(df)              \n",
    "\n",
    "displayHTML(my_fruits.html())"
   ]
  },
  {
   "cell_type": "markdown",
   "id": "9f6d9145-d775-43f1-8fca-d6f0ca0b76a3",
   "metadata": {},
   "source": [
    "#### Adding your own data source"
   ]
  },
  {
   "cell_type": "code",
   "execution_count": null,
   "id": "ec1014c5-356e-4802-9391-dca04cb6f055",
   "metadata": {},
   "outputs": [],
   "source": [
    "import os\n",
    "import re\n",
    "import pandas as pd\n",
    "\n",
    "from flypipe.node import node\n",
    "from flypipe.node_type import NodeType\n",
    "\n",
    "\n",
    "def CSV(path_csv):\n",
    "    @node(\n",
    "        type=\"pandas\",\n",
    "        description=f\"Loading CSV file at {path_csv}\",\n",
    "        tags=[\"datasource\", \"csv\"]\n",
    "    )\n",
    "    def load_csv():\n",
    "        return pd.read_csv(open(path_csv, 'r'))\n",
    "\n",
    "    file_name = os.path.basename(path_csv)\n",
    "    file_name = re.sub(\"[^\\da-zA-Z]\", \"_\", file_name)\n",
    "    key = re.sub(\"[^\\da-zA-Z]\", \"_\", path_csv)\n",
    "\n",
    "    load_csv.function.__name__ = file_name\n",
    "    load_csv.key = key\n",
    "    load_csv.node_type = NodeType.DATASOURCE\n",
    "    return load_csv"
   ]
  },
  {
   "cell_type": "markdown",
   "id": "554ad7a9-cc8b-48ca-89f8-802bce96a19c",
   "metadata": {},
   "source": [
    "##### Testing"
   ]
  },
  {
   "cell_type": "code",
   "execution_count": null,
   "id": "e7e4c730-2429-45e0-a54d-6306dec4fffe",
   "metadata": {},
   "outputs": [],
   "source": [
    "import pytest\n",
    "import pandas as pd\n",
    "from pyspark_test import assert_pyspark_df_equal\n",
    "from pandas.testing import assert_frame_equal\n",
    "\n",
    "from flypipe.node import node\n",
    "from flypipe.datasource.spark import Spark\n",
    "from flypipe.schema.column import Column\n",
    "from flypipe.schema.schema import Schema\n",
    "from flypipe.schema.types import Long\n",
    "\n",
    "#Fixtures\n",
    "@pytest.fixture(scope=\"function\")\n",
    "def dummy_df():\n",
    "    import pandas as pd\n",
    "    \n",
    "    #dummy dataframe\n",
    "    df = pd.DataFrame(columns=[\"color\", \"fruit\"])\n",
    "    df.loc[0] = [\"yellow\", \"lemon\"]\n",
    "    df.loc[0] = [\"green\", \"lime\"]\n",
    "    \n",
    "    #save dataframe \n",
    "    df.to_csv(\"/tmp/test.csv\", index=False)\n",
    "    \n",
    "    return df\n",
    "\n",
    "\n",
    "class TestPyspark:\n",
    "    \n",
    "    def test_(self, dummy_df):\n",
    "        \"\"\"\n",
    "        Test a CSV datasource\n",
    "        \"\"\"\n",
    "        \n",
    "        @node(\n",
    "            type=\"pandas\",\n",
    "            dependencies=[\n",
    "                CSV(\"/tmp/test.csv\").select([\"fruit\", \"color\"])\n",
    "            ]\n",
    "        )\n",
    "        def t1(test_csv):\n",
    "            return test_csv\n",
    "\n",
    "        df = t1.run()\n",
    "        assert_frame_equal(dummy_df, df)\n",
    "        \n",
    "import ipytest\n",
    "ipytest.run()"
   ]
  }
 ],
 "metadata": {
  "kernelspec": {
   "display_name": "Python 3 (ipykernel)",
   "language": "python",
   "name": "python3"
  },
  "language_info": {
   "codemirror_mode": {
    "name": "ipython",
    "version": 3
   },
   "file_extension": ".py",
   "mimetype": "text/x-python",
   "name": "python",
   "nbconvert_exporter": "python",
   "pygments_lexer": "ipython3",
   "version": "3.9.23"
  }
 },
 "nbformat": 4,
 "nbformat_minor": 5
}
