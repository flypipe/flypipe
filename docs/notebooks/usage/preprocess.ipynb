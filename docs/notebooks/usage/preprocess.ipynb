{
 "cells": [
  {
   "cell_type": "code",
   "execution_count": null,
   "id": "05b7f32f-8c26-44c7-bd69-32f4afefca05",
   "metadata": {},
   "outputs": [],
   "source": [
    "from flypipe import node\n",
    "import pandas as pd\n",
    "from datetime import datetime\n",
    "\n",
    "@node(type=\"pandas\")\n",
    "def raw_sales():\n",
    "    return pd.DataFrame(data={\n",
    "        \"product\": [\"apple\", \"banana\", \"orange\"], \n",
    "        \"price\": [5.33, 1.2, 7.5],\n",
    "        \"datetime_sale\": [datetime(2025, 1, 1, 10, 55, 32), datetime(2025, 1, 3, 13, 15, 22), datetime(2025, 1, 4, 1, 5, 1)]\n",
    "    })\n",
    "df = raw_sales.run()\n",
    "display(df)"
   ]
  },
  {
   "cell_type": "markdown",
   "id": "29ef2da8-c660-4f59-81b6-6a470d17a437",
   "metadata": {},
   "source": [
    "<h3>Preprocess function</h3>"
   ]
  },
  {
   "cell_type": "code",
   "execution_count": null,
   "id": "1d4a4abb-f7c9-4a76-9bc3-7e626d11f903",
   "metadata": {},
   "outputs": [],
   "source": [
    "def cdc_changes(df):\n",
    "    sales_from_datetime = datetime(2025, 1, 3, 0, 0, 0)\n",
    "    print(f\"==> Getting cdc_changes from {sales_from_datetime}\")\n",
    "    return df[df['datetime_sale'] >= sales_from_datetime]"
   ]
  },
  {
   "cell_type": "code",
   "execution_count": null,
   "id": "e5aa3d84-5408-4916-9f6b-f2c2f9061aca",
   "metadata": {},
   "outputs": [],
   "source": [
    "@node(\n",
    "    type=\"pandas\",\n",
    "    dependencies=[\n",
    "        raw_sales.preprocess(cdc_changes).alias(\"df_raw\")\n",
    "    ]\n",
    ")\n",
    "def sales(df_raw):\n",
    "    return df_raw\n",
    "    \n",
    "df = sales.run()\n",
    "display(df)"
   ]
  },
  {
   "cell_type": "markdown",
   "id": "2022c1c8-e7d6-4d82-85a8-82b78039fb0f",
   "metadata": {},
   "source": [
    "## Disabling preprocessing"
   ]
  },
  {
   "cell_type": "markdown",
   "id": "2186ae2e-8178-4800-993b-2fabfe9d5a46",
   "metadata": {},
   "source": [
    "### All nodes dependencies"
   ]
  },
  {
   "cell_type": "code",
   "execution_count": null,
   "id": "4449b6c9-4cd6-4f17-8256-a108e960dffb",
   "metadata": {},
   "outputs": [],
   "source": [
    "from flypipe.mode import PreprocessMode\n",
    "\n",
    "@node(\n",
    "    type=\"pandas\",\n",
    "    dependencies=[\n",
    "        raw_sales.preprocess(cdc_changes).alias(\"df_raw\")\n",
    "    ]\n",
    ")\n",
    "def sales(df_raw):\n",
    "    return df_raw\n",
    "    \n",
    "df = sales.run(preprocess=PreprocessMode.DISABLE)\n",
    "display(df)"
   ]
  },
  {
   "cell_type": "markdown",
   "id": "237c233d-316c-4c2e-bc9f-573dbc19c955",
   "metadata": {},
   "source": [
    "### Specific node dependencies"
   ]
  },
  {
   "cell_type": "code",
   "execution_count": null,
   "id": "16334484-92a5-4142-b68f-bcf8186c2252",
   "metadata": {},
   "outputs": [],
   "source": [
    "from flypipe.mode import PreprocessMode\n",
    "\n",
    "@node(\n",
    "    type=\"pandas\",\n",
    "    dependencies=[\n",
    "        raw_sales.preprocess(cdc_changes).alias(\"df_raw\")\n",
    "    ]\n",
    ")\n",
    "def sales(df_raw):\n",
    "    return df_raw\n",
    "    \n",
    "df = sales.run(preprocess={    \n",
    "    # node: {node_dependency: PreprocessMode.DISABLE}\n",
    "    sales: {raw_sales: PreprocessMode.DISABLE}\n",
    "})\n",
    "display(df)"
   ]
  },
  {
   "cell_type": "markdown",
   "id": "d3ae662f-d57e-4635-8df8-ea7485fe98bb",
   "metadata": {},
   "source": [
    "## Enable preprocess for all dependencies by default"
   ]
  },
  {
   "cell_type": "code",
   "execution_count": null,
   "id": "4857df33-1d46-492d-8f25-e1ba9f8a07fe",
   "metadata": {},
   "outputs": [],
   "source": [
    "import os\n",
    "from flypipe.config import config_context\n",
    "\n",
    "@node(\n",
    "    type=\"pandas\",\n",
    "    dependencies=[\n",
    "        raw_sales.alias(\"df_raw\")\n",
    "    ]\n",
    ")\n",
    "def other_sales(df_raw):\n",
    "    return df_raw\n",
    "\n",
    "\n",
    "# with context was used here only to show how global processes work, in production use environment variables\n",
    "with config_context(\n",
    "    default_dependencies_preprocess_module=\"preprocess_function\",\n",
    "    default_dependencies_preprocess_function=\"global_preprocess\"\n",
    "):\n",
    "    df = other_sales.run()\n",
    "    display(df)"
   ]
  },
  {
   "cell_type": "markdown",
   "id": "483ffbaa-0879-47fc-b356-80702681fe8d",
   "metadata": {},
   "source": [
    "as you can see bellow, `flypipe` still uses `cdc_function` to preprocess the dependency of `sales` node"
   ]
  },
  {
   "cell_type": "code",
   "execution_count": null,
   "id": "e3c221fc-7df7-40aa-9559-550d69e895cc",
   "metadata": {},
   "outputs": [],
   "source": [
    "import os\n",
    "from flypipe.config import config_context\n",
    "\n",
    "@node(\n",
    "    type=\"pandas\",\n",
    "    dependencies=[\n",
    "        raw_sales.alias(\"df_raw\")\n",
    "    ]\n",
    ")\n",
    "def other_sales(df_raw):\n",
    "    return df_raw\n",
    "\n",
    "\n",
    "# with context was used here only to show how global processes work, in production use environment variables\n",
    "with config_context(\n",
    "    default_dependencies_preprocess_module=\"preprocess_function\",\n",
    "    default_dependencies_preprocess_function=\"global_preprocess\"\n",
    "):\n",
    "    df = sales.run()\n",
    "    display(df)"
   ]
  },
  {
   "cell_type": "markdown",
   "id": "3f97d0af-958c-4471-bcc0-e237df2f625c",
   "metadata": {},
   "source": [
    "## Chaining preprocessing functions"
   ]
  },
  {
   "cell_type": "code",
   "execution_count": null,
   "id": "c4c78ff7-1bf5-4e3b-b140-3fb196bcc20a",
   "metadata": {},
   "outputs": [],
   "source": [
    "def preprocess_1(df):\n",
    "    datetime_sales = datetime(2025, 1, 3, 0, 0, 0)\n",
    "    print(f\"==> Applying preprocess_1 (filter datime_sale from `{datetime_sales}`)\")\n",
    "    return df[df['datetime_sale'] >= datetime_sales]\n",
    "\n",
    "def preprocess_2(df):\n",
    "    datetime_sales = datetime(2025, 1, 4, 0, 0, 0)\n",
    "    print(f\"==> Applying preprocess_2 (filter datime_sale from `{datetime_sales}`)\")\n",
    "    return df[df['datetime_sale'] >= datetime_sales]"
   ]
  },
  {
   "cell_type": "code",
   "execution_count": null,
   "id": "27c94ec7-abb7-44ef-99f3-4502d4590936",
   "metadata": {},
   "outputs": [],
   "source": [
    "@node(\n",
    "    type=\"pandas\",\n",
    "    dependencies=[\n",
    "        raw_sales.preprocess(preprocess_1, preprocess_2).alias(\"df_raw\")\n",
    "    ]\n",
    ")\n",
    "def chaining(df_raw):\n",
    "    return df_raw\n",
    "    \n",
    "df = chaining.run()\n",
    "display(df)"
   ]
  },
  {
   "cell_type": "markdown",
   "id": "47ac04d0-0782-4d43-828d-b06a95c18740",
   "metadata": {},
   "source": [
    "reverting the order fo the preprocess functions, reverts the callings"
   ]
  },
  {
   "cell_type": "code",
   "execution_count": null,
   "id": "31728900-36fa-48a1-a2bd-d3693ab7f5ef",
   "metadata": {},
   "outputs": [],
   "source": [
    "@node(\n",
    "    type=\"pandas\",\n",
    "    dependencies=[\n",
    "        raw_sales.preprocess(preprocess_2, preprocess_1).alias(\"df_raw\")\n",
    "    ]\n",
    ")\n",
    "def chaining(df_raw):\n",
    "    return df_raw\n",
    "    \n",
    "df = chaining.run()\n",
    "display(df)"
   ]
  }
 ],
 "metadata": {
  "kernelspec": {
   "display_name": "Python 3 (ipykernel)",
   "language": "python",
   "name": "python3"
  },
  "language_info": {
   "codemirror_mode": {
    "name": "ipython",
    "version": 3
   },
   "file_extension": ".py",
   "mimetype": "text/x-python",
   "name": "python",
   "nbconvert_exporter": "python",
   "pygments_lexer": "ipython3",
   "version": "3.9.23"
  }
 },
 "nbformat": 4,
 "nbformat_minor": 5
}
