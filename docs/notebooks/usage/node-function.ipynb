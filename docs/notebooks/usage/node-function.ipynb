{
 "cells": [
  {
   "cell_type": "markdown",
   "id": "4993d9fa-2b38-4a71-ac8a-760ad8aaaa18",
   "metadata": {},
   "source": [
    "# Node Function Examples\n",
    "\n",
    "A node function allows you to create nodes programmatically.\n",
    "\n",
    "It is useful when you need nodes to behave in different ways, depending on specific conditions."
   ]
  },
  {
   "cell_type": "code",
   "execution_count": null,
   "id": "cde5e711-054b-43b9-a7a7-b2bae1b10c1f",
   "metadata": {},
   "outputs": [],
   "source": [
    "df = spark.createDataFrame(\n",
    "    data=[\n",
    "        (\"LEMON\", \"Yellow\",), \n",
    "        (\"LIME\", \"Green\",)\n",
    "    ], schema=[\"fruit\", \"color\"])\n",
    "\n",
    "df.createOrReplaceTempView(\"fruits_table\")\n",
    "\n",
    "display(df)"
   ]
  },
  {
   "cell_type": "markdown",
   "id": "56c8f267-64a3-40e5-9b1c-2e87b9b82ed3",
   "metadata": {},
   "source": [
    "### Dynamic transformations\n",
    "\n",
    "Suppose you want to lower case the columns of the dataframe above, \n",
    "however this dataframe can contain hundreds of columns, therefore, you only want to apply transformations on columns requested by the graph.\n",
    "\n",
    "In this example, if a node is importing this dataframe and selecting only column `fruit`, then only the raw column `fruit` should be queried and applied lower case transformation. "
   ]
  },
  {
   "cell_type": "code",
   "execution_count": null,
   "id": "38b6e97c-4930-41a1-8da2-959d630b7fb7",
   "metadata": {},
   "outputs": [],
   "source": [
    "from flypipe import node\n",
    "from flypipe import node_function\n",
    "from flypipe.datasource.spark import Spark\n",
    "from flypipe.schema import Schema, Column\n",
    "from flypipe.schema.types import String\n",
    "import pyspark.sql.functions as F\n",
    "\n",
    "@node_function(\n",
    "    requested_columns=True,\n",
    "    node_dependencies=[\n",
    "        Spark(\"fruits_table\")\n",
    "    ]\n",
    ")\n",
    "def fruits_function(requested_columns):\n",
    "    \n",
    "    print(f\"Raw columns queried: {requested_columns}\")\n",
    "    \n",
    "    @node(\n",
    "        type=\"pyspark\",\n",
    "        dependencies=[\n",
    "            Spark(\"fruits_table\").select(requested_columns)\n",
    "        ],\n",
    "        output=Schema([\n",
    "         Column(col, String(), col) for col in requested_columns   \n",
    "        ])\n",
    "    )\n",
    "    def lower(fruits_table):\n",
    "        for col in requested_columns:\n",
    "            print(f\"lower case column `{col}`\")\n",
    "            fruits_table = fruits_table.withColumn(col, F.lower(col))\n",
    "        \n",
    "        return fruits_table\n",
    "    \n",
    "    return lower"
   ]
  },
  {
   "cell_type": "markdown",
   "id": "118444c1-6841-424d-98d8-a80f9e819bb3",
   "metadata": {},
   "source": [
    "#### Selecting `fruit`"
   ]
  },
  {
   "cell_type": "code",
   "execution_count": null,
   "id": "1c368350-0dae-407e-902d-d01d8d50fc52",
   "metadata": {},
   "outputs": [],
   "source": [
    "@node(\n",
    "    type=\"pyspark\",\n",
    "    dependencies=[fruits_function.select(\"fruit\")]\n",
    ")\n",
    "def my_fruits(fruits_function):\n",
    "    return fruits_function\n",
    "\n",
    "df = my_fruits.run(spark)\n",
    "display(df)              \n",
    "\n",
    "displayHTML(my_fruits.html())"
   ]
  },
  {
   "cell_type": "markdown",
   "id": "2bb92a9a-b032-420c-9ec5-d08a58480236",
   "metadata": {},
   "source": [
    "#### Selecting `fruit` and `flavour`"
   ]
  },
  {
   "cell_type": "code",
   "execution_count": null,
   "id": "5b28e6f7-cd25-422b-bd3c-dc4e2c47752b",
   "metadata": {},
   "outputs": [],
   "source": [
    "@node(\n",
    "    type=\"pyspark\",\n",
    "    dependencies=[fruits_function.select(\"fruit\",  \"color\")]\n",
    ")\n",
    "def my_fruits(fruits_function):\n",
    "    return fruits_function\n",
    "\n",
    "df = my_fruits.run(spark)\n",
    "display(df)   \n",
    "           \n",
    "displayHTML(my_fruits.html())"
   ]
  },
  {
   "cell_type": "markdown",
   "id": "4dbbba0e-e690-4a75-a59c-878c11a9869b",
   "metadata": {},
   "source": [
    "### Expanded graph \n",
    "\n",
    "Observe that the graph for both operations did not change, but the number of transformations inside node fruits changed.\n",
    "\n",
    "We can make use of node functions to expand this operations"
   ]
  },
  {
   "cell_type": "code",
   "execution_count": null,
   "id": "75eb0330-93fb-460f-8292-5cea21ecc0e8",
   "metadata": {},
   "outputs": [],
   "source": [
    "from flypipe import node\n",
    "from flypipe import node_function\n",
    "from flypipe.datasource.spark import Spark\n",
    "from flypipe.schema import Schema, Column\n",
    "from flypipe.schema.types import String\n",
    "import pyspark.sql.functions as F\n",
    "\n",
    "@node_function(\n",
    "    requested_columns=True,\n",
    "    node_dependencies=[\n",
    "        Spark(\"fruits_table\")\n",
    "    ]\n",
    ")\n",
    "def fruits_function_expanded(requested_columns):\n",
    "    \n",
    "    print(f\"Raw columns queried: {requested_columns}\")\n",
    "    datasource = Spark(\"fruits_table\").select(requested_columns)\n",
    "    \n",
    "    last_transformation = datasource\n",
    "    for col in requested_columns:\n",
    "        \n",
    "        @node(\n",
    "            type=\"pyspark\",\n",
    "            dependencies=[\n",
    "                datasource.alias(\"df\")\n",
    "            ],\n",
    "            output=Schema([\n",
    "             Column(col, String(), col) for col in requested_columns   \n",
    "            ])\n",
    "        )\n",
    "        def lower_fn(df):\n",
    "            print(f\"lower case column `{col}`\")\n",
    "            df = df.withColumn(col, F.lower(col))\n",
    "            return df\n",
    "        \n",
    "        lower_fn.function.__name__ = f\"lower_{col}\"\n",
    "        last_transformation = lower_fn\n",
    "    \n",
    "    return last_transformation"
   ]
  },
  {
   "cell_type": "markdown",
   "id": "667f31d0-c8a4-416d-89a9-961ce7db7720",
   "metadata": {},
   "source": [
    "#### Selecting `fruit` and `flavour`"
   ]
  },
  {
   "cell_type": "code",
   "execution_count": null,
   "id": "5743a657-16f2-4edd-9373-b681a74ac706",
   "metadata": {},
   "outputs": [],
   "source": [
    "@node(\n",
    "    type=\"pyspark\",\n",
    "    dependencies=[fruits_function_expanded.select(\"fruit\",  \"color\").alias(\"df\")]\n",
    ")\n",
    "def my_fruits_expanded(df):\n",
    "    return df\n",
    "\n",
    "df = my_fruits_expanded.run(spark)\n",
    "display(df)   \n",
    "           \n",
    "displayHTML(my_fruits_expanded.html())        "
   ]
  }
 ],
 "metadata": {
  "kernelspec": {
   "display_name": "Python 3 (ipykernel)",
   "language": "python",
   "name": "python3"
  },
  "language_info": {
   "codemirror_mode": {
    "name": "ipython",
    "version": 3
   },
   "file_extension": ".py",
   "mimetype": "text/x-python",
   "name": "python",
   "nbconvert_exporter": "python",
   "pygments_lexer": "ipython3",
   "version": "3.9.23"
  }
 },
 "nbformat": 4,
 "nbformat_minor": 5
}
