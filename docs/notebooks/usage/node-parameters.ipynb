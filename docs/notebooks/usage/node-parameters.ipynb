{
 "cells": [
  {
   "cell_type": "markdown",
   "id": "fb461c0a-327c-48dd-bfa2-0168f4c40828",
   "metadata": {},
   "source": [
    "# Node Parameters\n",
    "\n",
    "Up to this point we've dealt with defining nodes and composing them together into pipelines. One issue is that all of the logic is static, the pipelines are unable to changed by external sources. Node Parameters are the solution to this- they comprise named arguments of a node that are defined at the point where the pipeline is run. "
   ]
  },
  {
   "cell_type": "markdown",
   "id": "03719519-1604-4206-b335-9ae829b18a40",
   "metadata": {},
   "source": [
    "## Definition"
   ]
  },
  {
   "cell_type": "code",
   "execution_count": null,
   "id": "89093793-ee27-4baf-b8de-4b9310d2c688",
   "metadata": {},
   "outputs": [],
   "source": [
    "import pandas as pd\n",
    "from flypipe.node import node\n",
    "\n",
    "@node(type=\"pandas\")\n",
    "def t1(param1):\n",
    "    print(f\"param1: `{param1}`\")\n",
    "    return pd.DataFrame()\n",
    "\n",
    "@node(\n",
    "    type=\"pandas\",\n",
    "    dependencies=[t1]\n",
    ")\n",
    "def t2(t1):\n",
    "    return t1\n",
    "    \n",
    "df = t2.run(parameters={t1: {\"param1\": \"hello\"}})"
   ]
  },
  {
   "cell_type": "markdown",
   "id": "060c3b96-82e9-4f2e-b962-904d8226e54b",
   "metadata": {},
   "source": [
    "Note just like any python function argument we can give a default value to use if no value is provided at runtime. "
   ]
  },
  {
   "cell_type": "code",
   "execution_count": null,
   "id": "bb435960-861c-4d58-ac81-6afc0dfa346e",
   "metadata": {},
   "outputs": [],
   "source": [
    "import pandas as pd\n",
    "from flypipe.node import node\n",
    "\n",
    "@node(type=\"pandas\")\n",
    "def t1(param1=None):\n",
    "    print(f\"param1: `{param1}`\")\n",
    "    return pd.DataFrame()\n",
    "    \n",
    "df = t1()"
   ]
  },
  {
   "cell_type": "markdown",
   "id": "fc22b33a-764b-4436-aa37-47f39cd8e4c0",
   "metadata": {},
   "source": [
    "## Parameters and node functions\n",
    "\n",
    "Parameters can also be used with node functions, together you have more flexibility on dynamically changing not only node behaviours but also graph compositions"
   ]
  },
  {
   "cell_type": "code",
   "execution_count": null,
   "id": "d1ea3edc-7255-4b7c-955a-989fe9a19b18",
   "metadata": {},
   "outputs": [],
   "source": [
    "from flypipe import node_function\n",
    "\n",
    "@node_function()\n",
    "def t1_func(node_selector=\"t1\"):\n",
    "    \n",
    "    @node(type=\"pandas\")\n",
    "    def t1():\n",
    "        return pd.DataFrame()\n",
    "    \n",
    "    if node_selector == \"t1\":\n",
    "        return t1\n",
    "    \n",
    "    @node(\n",
    "        type=\"pandas\",\n",
    "        dependencies=[t1]\n",
    "    )\n",
    "    def t2():\n",
    "        return pd.DataFrame()\n",
    "    \n",
    "    return t2, t1\n",
    "\n",
    "displayHTML(t1_func.html())    "
   ]
  },
  {
   "cell_type": "markdown",
   "id": "a556a8e1-1400-4815-aa48-df37f2b09ca8",
   "metadata": {},
   "source": [
    "#### Changing parameter `node_selector`"
   ]
  },
  {
   "cell_type": "code",
   "execution_count": null,
   "id": "811f34f5-b0ab-4232-adb3-fcf0af5c6d96",
   "metadata": {},
   "outputs": [],
   "source": [
    "\n",
    "displayHTML(\n",
    "    t1_func.html(\n",
    "        parameters={\n",
    "            t1_func: {'node_selector': 't2'}\n",
    "        }\n",
    "    ))"
   ]
  },
  {
   "cell_type": "markdown",
   "id": "a262ad51-0914-4d7d-9683-c2e7e2a8496b",
   "metadata": {},
   "source": [
    "## Suggested use cases for node parameters\n",
    "\n",
    "- you need the node to behave differently accordingly to some settings\n",
    "- train a model inside a node with changeable splits of data between train, test and validation\n",
    "- run nodes that execute customisable versions of an mlflow model by encoding the model run id into a node parameter\n"
   ]
  },
  {
   "cell_type": "markdown",
   "id": "12467e4a-57fe-4424-867f-4305f85657a1",
   "metadata": {},
   "source": [
    "**train a model with different splits of data (train, test and validation)**"
   ]
  },
  {
   "cell_type": "code",
   "execution_count": null,
   "id": "56990ec6-5622-4913-9b6e-1e62c47ae7e9",
   "metadata": {},
   "outputs": [],
   "source": [
    "from flypipe.node import node\n",
    "from flypipe.schema import Schema, Column\n",
    "from flypipe.schema.types import Date\n",
    "import pandas as pd\n",
    "from datetime import datetime, timedelta\n",
    "\n",
    "@node(\n",
    "    type=\"pandas\",\n",
    "    output=Schema([\n",
    "        Column(\"date\", Date(), \"date\"),\n",
    "    ])\n",
    ")\n",
    "def my_model_features():\n",
    "    \n",
    "    date = datetime(2022,1,1)\n",
    "    dates = [date + timedelta(days=day) for day in range(11)]\n",
    "    \n",
    "    return pd.DataFrame(data={\"date\": dates})\n",
    "\n",
    "@node(\n",
    "    type=\"pandas\",\n",
    "    dependencies=[my_model_features]\n",
    "    \n",
    ")\n",
    "def tag_data(my_model_features, split={'train': datetime(2022,1,4), \"test\": datetime(2022,1,7)}):\n",
    "    print(f\"\"\"\n",
    "    Split data\n",
    "    ----------\n",
    "    train: date <= {split['train'].date()}\n",
    "    test: {split['train'].date()} < date <= {split['test'].date()}\n",
    "    val: {split['test'].date()} < date\n",
    "    \"\"\")\n",
    "    \n",
    "    my_model_features[\"tag\"] = \"val\"\n",
    "    my_model_features.loc[my_model_features['date'] <= split['test'], \"tag\"] = \"test\"\n",
    "    my_model_features.loc[my_model_features['date'] <= split['train'], \"tag\"] = \"train\"    \n",
    "    \n",
    "    return my_model_features\n",
    "\n",
    "@node(\n",
    "    type=\"pandas\",\n",
    "    dependencies=[tag_data]\n",
    "    \n",
    ")\n",
    "def my_model(tag_data):    \n",
    "    return tag_data\n",
    "\n",
    "df = my_model.run()\n",
    "display(df)"
   ]
  },
  {
   "cell_type": "markdown",
   "id": "0cf80f6e-4394-4510-8c49-abb11e423b21",
   "metadata": {},
   "source": [
    "**running with different splits**"
   ]
  },
  {
   "cell_type": "code",
   "execution_count": null,
   "id": "3cf8c861-0a6c-414b-b644-1a84066af3f8",
   "metadata": {},
   "outputs": [],
   "source": [
    "df = my_model.run(parameters={\n",
    "     tag_data: {\n",
    "         'split': {'train': datetime(2022,1,2), \"test\": datetime(2022,1,4)}\n",
    "     }\n",
    "})\n",
    "display(df)"
   ]
  }
 ],
 "metadata": {
  "kernelspec": {
   "display_name": "Python 3 (ipykernel)",
   "language": "python",
   "name": "python3"
  },
  "language_info": {
   "codemirror_mode": {
    "name": "ipython",
    "version": 3
   },
   "file_extension": ".py",
   "mimetype": "text/x-python",
   "name": "python",
   "nbconvert_exporter": "python",
   "pygments_lexer": "ipython3",
   "version": "3.9.23"
  }
 },
 "nbformat": 4,
 "nbformat_minor": 5
}
