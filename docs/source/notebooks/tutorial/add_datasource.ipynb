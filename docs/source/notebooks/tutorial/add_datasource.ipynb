{
 "cells": [
  {
   "cell_type": "markdown",
   "id": "dee7731c-a9e6-4df5-a31c-445abfd15837",
   "metadata": {},
   "source": [
    "## Adding your own data source"
   ]
  },
  {
   "cell_type": "code",
   "execution_count": 1,
   "id": "ec1014c5-356e-4802-9391-dca04cb6f055",
   "metadata": {},
   "outputs": [],
   "source": [
    "import os\n",
    "import re\n",
    "import pandas as pd\n",
    "\n",
    "from flypipe.node import node\n",
    "from flypipe.node_type import NodeType\n",
    "\n",
    "\n",
    "def CSV(path_csv):\n",
    "    @node(\n",
    "        type=\"pandas\",\n",
    "        description=f\"Loading CSV file at {path_csv}\",\n",
    "        tags=[\"datasource\", \"csv\"]\n",
    "    )\n",
    "    def load_csv():\n",
    "        return pd.read_csv(open(path_csv, 'r'))\n",
    "\n",
    "    file_name = os.path.basename(path_csv)\n",
    "    file_name = re.sub(\"[^\\da-zA-Z]\", \"_\", file_name)\n",
    "    key = re.sub(\"[^\\da-zA-Z]\", \"_\", path_csv)\n",
    "\n",
    "    load_csv.function.__name__ = file_name\n",
    "    load_csv.key = key\n",
    "    load_csv.node_type = NodeType.DATASOURCE\n",
    "    return load_csv"
   ]
  },
  {
   "cell_type": "markdown",
   "id": "554ad7a9-cc8b-48ca-89f8-802bce96a19c",
   "metadata": {},
   "source": [
    "#### Testing"
   ]
  },
  {
   "cell_type": "code",
   "execution_count": 2,
   "id": "e7e4c730-2429-45e0-a54d-6306dec4fffe",
   "metadata": {},
   "outputs": [],
   "source": [
    "import pytest\n",
    "import pandas as pd\n",
    "from pyspark_test import assert_pyspark_df_equal\n",
    "from pandas.testing import assert_frame_equal\n",
    "\n",
    "from flypipe.node import node\n",
    "from flypipe.datasource.spark import Spark\n",
    "from flypipe.schema.column import Column\n",
    "from flypipe.schema.schema import Schema\n",
    "from flypipe.schema.types import Long\n",
    "\n",
    "#Fixtures\n",
    "@pytest.fixture(scope=\"function\")\n",
    "def dummy_df():\n",
    "    import pandas as pd\n",
    "    \n",
    "    #dummy dataframe\n",
    "    df = pd.DataFrame(columns=[\"color\", \"fruit\"])\n",
    "    df.loc[0] = [\"yellow\", \"lemon\"]\n",
    "    df.loc[0] = [\"green\", \"lime\"]\n",
    "    \n",
    "    #save dataframe \n",
    "    df.to_csv(\"/tmp/test.csv\", index=False)\n",
    "    \n",
    "    return df"
   ]
  },
  {
   "cell_type": "code",
   "execution_count": 3,
   "id": "ee0c8dad-e7e2-4de0-8715-3bf822491067",
   "metadata": {},
   "outputs": [],
   "source": [
    "class TestPyspark:\n",
    "    \n",
    "    def test_(self, dummy_df):\n",
    "        \"\"\"\n",
    "        Test a CSV datasource\n",
    "        \"\"\"\n",
    "        \n",
    "        @node(\n",
    "            type=\"pandas\",\n",
    "            dependencies=[\n",
    "                CSV(\"/tmp/test.csv\").select([\"fruit\", \"color\"])\n",
    "            ]\n",
    "        )\n",
    "        def t1(test_csv):\n",
    "            return test_csv\n",
    "\n",
    "        df = t1.run()\n",
    "        assert_frame_equal(dummy_df, df)"
   ]
  },
  {
   "cell_type": "code",
   "execution_count": 4,
   "id": "3df61c57-83f3-47c4-b0ea-d2f2785397ee",
   "metadata": {},
   "outputs": [
    {
     "name": "stdout",
     "output_type": "stream",
     "text": [
      "======================================= test session starts ========================================\n",
      "platform linux -- Python 3.9.5, pytest-7.1.3, pluggy-1.0.0\n",
      "rootdir: /notebooks/docs/tutorial\n",
      "plugins: mock-3.9.0, anyio-3.6.2\n",
      "collected 1 item\n",
      "\n",
      "t_2e522ae4850d427cb03a56c369c75e1a.py .                                                      [100%]\n",
      "\n",
      "======================================== 1 passed in 0.11s =========================================\n"
     ]
    },
    {
     "data": {
      "text/plain": [
       "<ExitCode.OK: 0>"
      ]
     },
     "execution_count": 4,
     "metadata": {},
     "output_type": "execute_result"
    }
   ],
   "source": [
    "import ipytest\n",
    "ipytest.run()"
   ]
  }
 ],
 "metadata": {
  "kernelspec": {
   "display_name": "Python 3 (ipykernel)",
   "language": "python",
   "name": "python3"
  },
  "language_info": {
   "codemirror_mode": {
    "name": "ipython",
    "version": 3
   },
   "file_extension": ".py",
   "mimetype": "text/x-python",
   "name": "python",
   "nbconvert_exporter": "python",
   "pygments_lexer": "ipython3",
   "version": "3.9.5"
  }
 },
 "nbformat": 4,
 "nbformat_minor": 5
}
