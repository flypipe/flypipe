{
 "cells": [
  {
   "cell_type": "markdown",
   "id": "fb461c0a-327c-48dd-bfa2-0168f4c40828",
   "metadata": {},
   "source": [
    "# Examples"
   ]
  },
  {
   "cell_type": "markdown",
   "id": "3e54a062-69e3-426c-98a6-2b594b37ae47",
   "metadata": {},
   "source": [
    "## `pandas` node"
   ]
  },
  {
   "cell_type": "code",
   "execution_count": 1,
   "id": "32f931ca-a264-4486-8cad-3047408e7ed4",
   "metadata": {},
   "outputs": [
    {
     "data": {
      "text/html": [
       "<div>\n",
       "<style scoped>\n",
       "    .dataframe tbody tr th:only-of-type {\n",
       "        vertical-align: middle;\n",
       "    }\n",
       "\n",
       "    .dataframe tbody tr th {\n",
       "        vertical-align: top;\n",
       "    }\n",
       "\n",
       "    .dataframe thead th {\n",
       "        text-align: right;\n",
       "    }\n",
       "</style>\n",
       "<table border=\"1\" class=\"dataframe\">\n",
       "  <thead>\n",
       "    <tr style=\"text-align: right;\">\n",
       "      <th></th>\n",
       "      <th>fruit</th>\n",
       "    </tr>\n",
       "  </thead>\n",
       "  <tbody>\n",
       "    <tr>\n",
       "      <th>0</th>\n",
       "      <td>mango</td>\n",
       "    </tr>\n",
       "    <tr>\n",
       "      <th>1</th>\n",
       "      <td>lemon</td>\n",
       "    </tr>\n",
       "  </tbody>\n",
       "</table>\n",
       "</div>"
      ],
      "text/plain": [
       "   fruit\n",
       "0  mango\n",
       "1  lemon"
      ]
     },
     "execution_count": 1,
     "metadata": {},
     "output_type": "execute_result"
    }
   ],
   "source": [
    "from flypipe.node import node\n",
    "from flypipe.schema import Schema, Column\n",
    "from flypipe.schema.types import String\n",
    "import pandas as pd\n",
    "@node(\n",
    "    type=\"pandas\",\n",
    "    description=\"Outputs a dataframe with fruit names\",\n",
    "    tags=[\"fruit\"],\n",
    "    output=Schema([\n",
    "        Column(\"fruit\", String(), \"name of the fruit\"),\n",
    "    ])\n",
    ")\n",
    "def fruits():\n",
    "    return pd.DataFrame(data={\"fruit\": [\"mango\", \"lemon\"]})\n",
    "\n",
    "fruits.run()\n"
   ]
  },
  {
   "cell_type": "markdown",
   "id": "f355a974-ae07-4cf3-a5a9-c43432c35510",
   "metadata": {},
   "source": [
    "## `pandas_on_spark` node"
   ]
  },
  {
   "cell_type": "code",
   "execution_count": 2,
   "id": "e3fc01d0-d9e3-4220-ac6e-6ef702e3541b",
   "metadata": {},
   "outputs": [
    {
     "data": {
      "text/html": [
       "<div>\n",
       "<style scoped>\n",
       "    .dataframe tbody tr th:only-of-type {\n",
       "        vertical-align: middle;\n",
       "    }\n",
       "\n",
       "    .dataframe tbody tr th {\n",
       "        vertical-align: top;\n",
       "    }\n",
       "\n",
       "    .dataframe thead th {\n",
       "        text-align: right;\n",
       "    }\n",
       "</style>\n",
       "<table border=\"1\" class=\"dataframe\">\n",
       "  <thead>\n",
       "    <tr style=\"text-align: right;\">\n",
       "      <th></th>\n",
       "      <th>fruit</th>\n",
       "      <th>flavour</th>\n",
       "    </tr>\n",
       "  </thead>\n",
       "  <tbody>\n",
       "    <tr>\n",
       "      <th>0</th>\n",
       "      <td>mango</td>\n",
       "      <td>sweet</td>\n",
       "    </tr>\n",
       "    <tr>\n",
       "      <th>1</th>\n",
       "      <td>lemon</td>\n",
       "      <td>citric</td>\n",
       "    </tr>\n",
       "  </tbody>\n",
       "</table>\n",
       "</div>"
      ],
      "text/plain": [
       "   fruit flavour\n",
       "0  mango   sweet\n",
       "1  lemon  citric"
      ]
     },
     "execution_count": 2,
     "metadata": {},
     "output_type": "execute_result"
    }
   ],
   "source": [
    "from flypipe.node import node\n",
    "from flypipe.schema import Schema, Column\n",
    "from flypipe.schema.types import String\n",
    "import pandas as pd\n",
    "\n",
    "@node(\n",
    "    type=\"pandas_on_spark\",\n",
    "    description=\"Only outputs a pandas dataframe\",\n",
    "    tags=[\"flavour\", \"pandas_on_spark\"],\n",
    "    dependencies = [\n",
    "        fruits.select(\"fruit\").alias(\"df\")\n",
    "    ],\n",
    "    output=Schema(\n",
    "        fruits.output.get(\"fruit\"),\n",
    "        Column(\"flavour\", String(), \"fruit flavour\")\n",
    "    )\n",
    ")\n",
    "def flavour_pandas_spark(df):\n",
    "    flavours = {'mango': 'sweet', 'lemon': 'citric'}\n",
    "    df['flavour'] = df['fruit']\n",
    "    df = df.replace({'flavour': flavours})\n",
    "    return df\n",
    "\n",
    "flavour_pandas_spark.run(spark)"
   ]
  },
  {
   "cell_type": "markdown",
   "id": "4253fe70-4c23-498b-beb7-63d50a3647f2",
   "metadata": {
    "tags": []
   },
   "source": [
    "## `pyspark` node"
   ]
  },
  {
   "cell_type": "code",
   "execution_count": 3,
   "id": "d5069498-3ece-4304-afba-444f61e75c0a",
   "metadata": {},
   "outputs": [
    {
     "data": {
      "text/html": [
       "<table border='1'>\n",
       "<tr><th>fruit</th><th>flavour</th></tr>\n",
       "<tr><td>mango</td><td>sweet</td></tr>\n",
       "<tr><td>lemon</td><td>citric</td></tr>\n",
       "</table>\n"
      ],
      "text/plain": [
       "+-----+-------+\n",
       "|fruit|flavour|\n",
       "+-----+-------+\n",
       "|mango|  sweet|\n",
       "|lemon| citric|\n",
       "+-----+-------+"
      ]
     },
     "execution_count": 3,
     "metadata": {},
     "output_type": "execute_result"
    }
   ],
   "source": [
    "from flypipe.node import node\n",
    "from flypipe.schema import Schema, Column\n",
    "from flypipe.schema.types import String\n",
    "import pyspark.sql.functions as F\n",
    "\n",
    "@node(\n",
    "    type=\"pyspark\",\n",
    "    description=\"Only outputs a pandas dataframe\",\n",
    "    tags=[\"flavour\", \"pyspark\"],\n",
    "    dependencies = [\n",
    "        fruits.select(\"fruit\").alias(\"df\")\n",
    "    ],\n",
    "    output=Schema(\n",
    "        fruits.output.get(\"fruit\"),\n",
    "        Column(\"flavour\", String(), \"fruit flavour\")\n",
    "    )\n",
    ")\n",
    "def flavour_pyspark(df):\n",
    "    fruits = ['mango', 'lemon']\n",
    "    flavours = ['sweet', 'citric']\n",
    "    \n",
    "    df = df.withColumn('flavour', F.col('fruit'))\n",
    "    df = df.replace(fruits, flavours, 'flavour')\n",
    "    return df\n",
    "\n",
    "flavour_pyspark.run(spark)"
   ]
  },
  {
   "cell_type": "markdown",
   "id": "e3d190c7-89a4-44fe-948a-d6054a7ef3de",
   "metadata": {},
   "source": [
    "## `spark_sql` node"
   ]
  },
  {
   "cell_type": "code",
   "execution_count": 4,
   "id": "ac9cdb57-5d3e-4f33-9aa2-d797b20832de",
   "metadata": {},
   "outputs": [
    {
     "data": {
      "text/html": [
       "<table border='1'>\n",
       "<tr><th>fruit</th><th>flavour</th></tr>\n",
       "<tr><td>mango</td><td>sweet</td></tr>\n",
       "<tr><td>lemon</td><td>citric</td></tr>\n",
       "</table>\n"
      ],
      "text/plain": [
       "+-----+-------+\n",
       "|fruit|flavour|\n",
       "+-----+-------+\n",
       "|mango|  sweet|\n",
       "|lemon| citric|\n",
       "+-----+-------+"
      ]
     },
     "execution_count": 4,
     "metadata": {},
     "output_type": "execute_result"
    }
   ],
   "source": [
    "from flypipe.node import node\n",
    "\n",
    "@node(\n",
    "    type='spark_sql',\n",
    "    dependencies=[fruits.select('fruit')]\n",
    ")\n",
    "def flavour_spark_sql(fruits):\n",
    "    return f\"\"\"\n",
    "    SELECT fruit, CASE WHEN fruit='mango' THEN 'sweet' ELSE 'citric' END as flavour from {fruits}\n",
    "    \"\"\"\n",
    "\n",
    "flavour_spark_sql.run(spark=spark)"
   ]
  },
  {
   "cell_type": "markdown",
   "id": "62ff4242-47a2-4d43-8b70-22faac897865",
   "metadata": {},
   "source": [
    "## dependencies"
   ]
  },
  {
   "cell_type": "code",
   "execution_count": 5,
   "id": "10a91560-e4cc-4e29-be00-a991ba5be13d",
   "metadata": {},
   "outputs": [
    {
     "data": {
      "text/html": [
       "<div>\n",
       "<style scoped>\n",
       "    .dataframe tbody tr th:only-of-type {\n",
       "        vertical-align: middle;\n",
       "    }\n",
       "\n",
       "    .dataframe tbody tr th {\n",
       "        vertical-align: top;\n",
       "    }\n",
       "\n",
       "    .dataframe thead th {\n",
       "        text-align: right;\n",
       "    }\n",
       "</style>\n",
       "<table border=\"1\" class=\"dataframe\">\n",
       "  <thead>\n",
       "    <tr style=\"text-align: right;\">\n",
       "      <th></th>\n",
       "      <th>fruit</th>\n",
       "      <th>flavour</th>\n",
       "    </tr>\n",
       "  </thead>\n",
       "  <tbody>\n",
       "    <tr>\n",
       "      <th>0</th>\n",
       "      <td>mango</td>\n",
       "      <td>sweet</td>\n",
       "    </tr>\n",
       "    <tr>\n",
       "      <th>1</th>\n",
       "      <td>lemon</td>\n",
       "      <td>citric</td>\n",
       "    </tr>\n",
       "  </tbody>\n",
       "</table>\n",
       "</div>"
      ],
      "text/plain": [
       "   fruit flavour\n",
       "0  mango   sweet\n",
       "1  lemon  citric"
      ]
     },
     "execution_count": 5,
     "metadata": {},
     "output_type": "execute_result"
    }
   ],
   "source": [
    "from flypipe.node import node\n",
    "from flypipe.schema import Schema, Column\n",
    "from flypipe.schema.types import String\n",
    "import pandas as pd\n",
    "\n",
    "@node(\n",
    "    type=\"pandas\",\n",
    "    description=\"Only outputs a pandas dataframe\",\n",
    "    tags=[\"flavour\", \"pandas\"],\n",
    "    dependencies = [\n",
    "        fruits.select(\"fruit\").alias(\"df\")\n",
    "    ],\n",
    "    output=Schema(\n",
    "        fruits.output.get(\"fruit\"),\n",
    "        Column(\"flavour\", String(), \"fruit flavour\")\n",
    "    )\n",
    ")\n",
    "def flavour_pandas(df):\n",
    "    flavours = {'mango': 'sweet', 'lemon': 'citric'}\n",
    "    df['flavour'] = df['fruit']\n",
    "    df = df.replace({'flavour': flavours})\n",
    "    return df\n",
    "\n",
    "flavour_pandas.run()"
   ]
  }
 ],
 "metadata": {
  "kernelspec": {
   "display_name": "Python 3 (ipykernel)",
   "language": "python",
   "name": "python3"
  },
  "language_info": {
   "codemirror_mode": {
    "name": "ipython",
    "version": 3
   },
   "file_extension": ".py",
   "mimetype": "text/x-python",
   "name": "python",
   "nbconvert_exporter": "python",
   "pygments_lexer": "ipython3",
   "version": "3.9.16"
  }
 },
 "nbformat": 4,
 "nbformat_minor": 5
}
