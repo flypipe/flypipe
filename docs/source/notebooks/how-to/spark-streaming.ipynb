{
 "cells": [
  {
   "cell_type": "markdown",
   "id": "09a30792-ced0-4190-b38c-aed23268ff64",
   "metadata": {},
   "source": [
    "# Spark Streaming\n",
    "\n",
    "\n",
    "You integrate Flypipe graphs to Spark streaming.\n",
    "\n",
    "One way of doing it is using Spark [foreachBatch](https://spark.apache.org/docs/3.1.1/api/python/reference/api/pyspark.sql.streaming.DataStreamWriter.foreachBatch.html). Here we create a function `total_sales(batch_df, batch_id)` that receives the bacth dataframe and calls a Flypipe node with provided inputs."
   ]
  },
  {
   "cell_type": "markdown",
   "id": "0dafede5-9356-4193-809e-13d086a38ac3",
   "metadata": {},
   "source": [
    "## Cleaning environment"
   ]
  },
  {
   "cell_type": "code",
   "execution_count": 1,
   "id": "e52a32ba-6508-4581-a361-aac3d246bbd7",
   "metadata": {},
   "outputs": [
    {
     "name": "stderr",
     "output_type": "stream",
     "text": [
      "                                                                                \r"
     ]
    }
   ],
   "source": [
    "import shutil\n",
    "\n",
    "spark.sql(\n",
    "f\"\"\"\n",
    "    CREATE DATABASE IF NOT EXISTS flypipe\n",
    "    LOCATION '/data/warehouse/flypipe'\n",
    "\"\"\"\n",
    ")\n",
    "\n",
    "spark.sql(\"drop table if exists flypipe.total_sales\")\n",
    "shutil.rmtree(\"/spark-warehouse/flypipe/total_sales\", ignore_errors=True)\n",
    "shutil.rmtree(\"/data/tmp/stream/_checkpoints\", ignore_errors=True)\n",
    "shutil.rmtree(\"/data/tmp/stream/json\", ignore_errors=True)"
   ]
  },
  {
   "cell_type": "markdown",
   "id": "4a5807ca-5a06-46b6-8ffd-7a91ab93081d",
   "metadata": {},
   "source": [
    "## Adding json files simulating a source"
   ]
  },
  {
   "cell_type": "code",
   "execution_count": 2,
   "id": "c9a70d0f-93b4-4959-be2a-7fc10b760f12",
   "metadata": {},
   "outputs": [
    {
     "name": "stdout",
     "output_type": "stream",
     "text": [
      "\n",
      "Added /data/tmp/stream/json/c1229353-a96a-44db-bb4d-fd10f773369d.json\n",
      "{'price': 372,\n",
      " 'product_id': 4,\n",
      " 'quantity': 1,\n",
      " 'sale_datetime': 1688541607,\n",
      " 'sale_id': 'c1229353-a96a-44db-bb4d-fd10f773369d'}\n",
      "\n",
      "Added /data/tmp/stream/json/2d6fedc6-49cf-4134-830a-abf684d0f018.json\n",
      "{'price': 747,\n",
      " 'product_id': 4,\n",
      " 'quantity': 5,\n",
      " 'sale_datetime': 1688541607,\n",
      " 'sale_id': '2d6fedc6-49cf-4134-830a-abf684d0f018'}\n",
      "\n",
      "Added /data/tmp/stream/json/8da9945c-513e-4215-88fd-6e6c31679153.json\n",
      "{'price': 505,\n",
      " 'product_id': 2,\n",
      " 'quantity': 1,\n",
      " 'sale_datetime': 1688541607,\n",
      " 'sale_id': '8da9945c-513e-4215-88fd-6e6c31679153'}\n",
      "\n",
      "Added /data/tmp/stream/json/2d615cab-0ce3-446a-9f8f-30b4f1aa7983.json\n",
      "{'price': 528,\n",
      " 'product_id': 3,\n",
      " 'quantity': 5,\n",
      " 'sale_datetime': 1688541607,\n",
      " 'sale_id': '2d615cab-0ce3-446a-9f8f-30b4f1aa7983'}\n",
      "\n",
      "Added /data/tmp/stream/json/bca40fc7-f2cf-45a0-875c-647983a687a3.json\n",
      "{'price': 421,\n",
      " 'product_id': 3,\n",
      " 'quantity': 3,\n",
      " 'sale_datetime': 1688541607,\n",
      " 'sale_id': 'bca40fc7-f2cf-45a0-875c-647983a687a3'}\n"
     ]
    }
   ],
   "source": [
    "import json\n",
    "from time import time\n",
    "import os\n",
    "import uuid\n",
    "import random\n",
    "from pprint import pprint\n",
    "\n",
    "JSON_LOCATION = \"/data/tmp/stream/json\"\n",
    "\n",
    "os.makedirs(JSON_LOCATION, exist_ok=True)\n",
    "\n",
    "def add_sale(quantity):\n",
    "    \n",
    "    for _ in range(quantity):\n",
    "        sale_id = str(uuid.uuid4())\n",
    "        out_file = open(f\"{JSON_LOCATION}/{sale_id}.json\", \"w\")\n",
    "        \n",
    "        data = {\n",
    "            'sale_id': sale_id,\n",
    "            'product_id': random.randrange(1, 5, 1),\n",
    "            'price': random.randrange(100, 1000, 1),\n",
    "            'quantity': random.randrange(1, 10, 1),\n",
    "            'sale_datetime': int(time())\n",
    "        }\n",
    "        \n",
    "\n",
    "        json.dump(data, out_file)\n",
    "        \n",
    "        print(f\"\\nAdded {JSON_LOCATION}/{sale_id}.json\")\n",
    "        pprint(data)\n",
    "             \n",
    "        \n",
    "add_sale(5)"
   ]
  },
  {
   "cell_type": "markdown",
   "id": "76dfd889-9298-4a07-9cd6-c027406b1e6e",
   "metadata": {},
   "source": [
    "## Flypipe graph to process the data"
   ]
  },
  {
   "cell_type": "code",
   "execution_count": 3,
   "id": "f1885109-b75b-41f6-b553-e2c88d7f8a43",
   "metadata": {},
   "outputs": [],
   "source": [
    "from flypipe import node\n",
    "from flypipe.schema import Schema, Column\n",
    "from flypipe.schema.types import Decimal, String\n",
    "from flypipe.datasource.spark import Spark\n",
    "import pyspark.sql.functions as F\n",
    "\n",
    "@node(\n",
    "    type=\"pyspark\",\n",
    "    dependencies=[\n",
    "        Spark(\"sales\")\n",
    "    ],\n",
    "    output=Schema(\n",
    "     Column(\"product_id\", String(), \"product identifier\"),   \n",
    "     Column(\"total_sales\", Decimal(18,2), \"total sales amount\"),\n",
    "    )\n",
    ")\n",
    "def total_sales_node(sales):\n",
    "    df = sales.groupBy(\"product_id\").agg(F.sum(F.col(\"price\") * F.col(\"quantity\")).alias(\"total_sales\"))\n",
    "    return df"
   ]
  },
  {
   "cell_type": "markdown",
   "id": "4fa753eb-f994-4f8f-900e-50efe0aeac1d",
   "metadata": {},
   "source": [
    "## Defines a bacth function that wraps the Flypipe graph"
   ]
  },
  {
   "cell_type": "code",
   "execution_count": 4,
   "id": "79976ae3-9cdd-4d55-bc95-3c82dc721a56",
   "metadata": {},
   "outputs": [],
   "source": [
    "from pyspark.sql.types import StructType, ArrayType, StructField, StringType, DecimalType, IntegerType, TimestampType\n",
    "\n",
    "\n",
    "def total_sales(batch_df, batch_id):\n",
    "    \n",
    "    print(\"Batch dataframe received:\")\n",
    "    display(batch_df)\n",
    "    \n",
    "    total_sales_df = (\n",
    "        total_sales_node\n",
    "        .run(inputs = {\n",
    "            Spark(\"sales\"): batch_df\n",
    "        })\n",
    "    )\n",
    "    \n",
    "    print(\"===> Saving dataframe calculated with node `total_sales_node` into table `total_sales`\")\n",
    "    \n",
    "    (\n",
    "      total_sales_df\n",
    "      .write\n",
    "      .format('delta')\n",
    "      .mode('overwrite')\n",
    "      .saveAsTable(\"flypipe.total_sales\")\n",
    "    )\n",
    "    \n",
    "    return total_sales_df"
   ]
  },
  {
   "cell_type": "markdown",
   "id": "a061808d-5312-486d-81e3-9b57497d5952",
   "metadata": {},
   "source": [
    "## Sets up and start the streaming"
   ]
  },
  {
   "cell_type": "code",
   "execution_count": 5,
   "id": "f873ec99-8aae-4166-b48b-71011a078710",
   "metadata": {},
   "outputs": [
    {
     "name": "stdout",
     "output_type": "stream",
     "text": [
      "Batch dataframe received:\n"
     ]
    },
    {
     "data": {
      "text/html": [
       "<table border='1'>\n",
       "<tr><th>sale_id</th><th>product_id</th><th>price</th><th>quantity</th><th>sale_datetime</th></tr>\n",
       "<tr><td>c1229353-a96a-44d...</td><td>4</td><td>372.00</td><td>1</td><td>2023-07-05 07:20:07</td></tr>\n",
       "<tr><td>2d6fedc6-49cf-413...</td><td>4</td><td>747.00</td><td>5</td><td>2023-07-05 07:20:07</td></tr>\n",
       "<tr><td>8da9945c-513e-421...</td><td>2</td><td>505.00</td><td>1</td><td>2023-07-05 07:20:07</td></tr>\n",
       "<tr><td>2d615cab-0ce3-446...</td><td>3</td><td>528.00</td><td>5</td><td>2023-07-05 07:20:07</td></tr>\n",
       "<tr><td>bca40fc7-f2cf-45a...</td><td>3</td><td>421.00</td><td>3</td><td>2023-07-05 07:20:07</td></tr>\n",
       "</table>\n"
      ],
      "text/plain": [
       "+--------------------+----------+------+--------+-------------------+\n",
       "|             sale_id|product_id| price|quantity|      sale_datetime|\n",
       "+--------------------+----------+------+--------+-------------------+\n",
       "|c1229353-a96a-44d...|         4|372.00|       1|2023-07-05 07:20:07|\n",
       "|2d6fedc6-49cf-413...|         4|747.00|       5|2023-07-05 07:20:07|\n",
       "|8da9945c-513e-421...|         2|505.00|       1|2023-07-05 07:20:07|\n",
       "|2d615cab-0ce3-446...|         3|528.00|       5|2023-07-05 07:20:07|\n",
       "|bca40fc7-f2cf-45a...|         3|421.00|       3|2023-07-05 07:20:07|\n",
       "+--------------------+----------+------+--------+-------------------+"
      ]
     },
     "metadata": {},
     "output_type": "display_data"
    },
    {
     "name": "stdout",
     "output_type": "stream",
     "text": [
      "===> Saving dataframe calculated with node `total_sales_node` into table `total_sales`\n"
     ]
    },
    {
     "name": "stderr",
     "output_type": "stream",
     "text": [
      "                                                                                \r"
     ]
    }
   ],
   "source": [
    "# Create Stream\n",
    "json_schema = StructType([\n",
    "    StructField(\"sale_id\", StringType(), True),\n",
    "    StructField(\"product_id\", StringType(), True),\n",
    "    StructField(\"price\", DecimalType(18,2), True),\n",
    "    StructField(\"quantity\", IntegerType(), True),\n",
    "    StructField(\"sale_datetime\", TimestampType(), True),\n",
    "])\n",
    "\n",
    "\n",
    "(\n",
    "  spark\n",
    "  .readStream\n",
    "  .json(JSON_LOCATION, schema=json_schema)\n",
    "  .writeStream\n",
    "  .trigger(availableNow=True) # <-- Change the trigger as you wish\n",
    "  .option(\"checkpointLocation\", \"/data/tmp/stream/_checkpoints/\")\n",
    "  .foreachBatch(total_sales)\n",
    "  .start()\n",
    ")\n",
    "\n",
    "# Waitting process\n",
    "from time import sleep\n",
    "\n",
    "while True:\n",
    "    try:\n",
    "        spark.sql(\"select * from flypipe.total_sales\")\n",
    "        break\n",
    "    except Exception as e:\n",
    "        sleep(2)"
   ]
  },
  {
   "cell_type": "markdown",
   "id": "5cef9634-3763-4e6c-9acd-6289c03ed95e",
   "metadata": {},
   "source": [
    "## Display results"
   ]
  },
  {
   "cell_type": "code",
   "execution_count": 6,
   "id": "5b1d7803-e329-4ee3-a482-da0f14029e4a",
   "metadata": {},
   "outputs": [
    {
     "name": "stderr",
     "output_type": "stream",
     "text": [
      "                                                                                \r"
     ]
    },
    {
     "data": {
      "text/html": [
       "<table border='1'>\n",
       "<tr><th>product_id</th><th>total_sales</th></tr>\n",
       "<tr><td>4</td><td>4107.00</td></tr>\n",
       "<tr><td>3</td><td>3903.00</td></tr>\n",
       "<tr><td>2</td><td>505.00</td></tr>\n",
       "</table>\n"
      ],
      "text/plain": [
       "+----------+-----------+\n",
       "|product_id|total_sales|\n",
       "+----------+-----------+\n",
       "|         4|    4107.00|\n",
       "|         3|    3903.00|\n",
       "|         2|     505.00|\n",
       "+----------+-----------+"
      ]
     },
     "metadata": {},
     "output_type": "display_data"
    }
   ],
   "source": [
    "display(spark.sql(\"select * from flypipe.total_sales\"))"
   ]
  }
 ],
 "metadata": {
  "kernelspec": {
   "display_name": "Python 3 (ipykernel)",
   "language": "python",
   "name": "python3"
  },
  "language_info": {
   "codemirror_mode": {
    "name": "ipython",
    "version": 3
   },
   "file_extension": ".py",
   "mimetype": "text/x-python",
   "name": "python",
   "nbconvert_exporter": "python",
   "pygments_lexer": "ipython3",
   "version": "3.9.17"
  }
 },
 "nbformat": 4,
 "nbformat_minor": 5
}
