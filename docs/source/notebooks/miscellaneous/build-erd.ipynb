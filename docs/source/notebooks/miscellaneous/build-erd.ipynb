{
 "cells": [
  {
   "cell_type": "markdown",
   "id": "7b5f2453-6e87-4a9e-8054-c8e91c33fe0f",
   "metadata": {},
   "source": [
    "# Building ERD\n",
    "\n",
    "Here is described how to build a ERD diagram using [dbml-renderer](https://github.com/softwaretechnik-berlin/dbml-renderer), [dbdiagram.io](https://dbdiagram.io/) and [dbdocs.io](https://dbdocs.io/).\n"
   ]
  },
  {
   "cell_type": "markdown",
   "id": "c2b3a112-3e4e-4269-8289-a9475605d370",
   "metadata": {},
   "source": [
    "## Building DBML\n",
    "\n",
    "You can build DBML source code using `build_dbml` from `flypipe.misc.dbml`"
   ]
  },
  {
   "cell_type": "code",
   "execution_count": 1,
   "id": "d7b95078-8aa7-49b0-b623-18b56c191cc9",
   "metadata": {},
   "outputs": [
    {
     "name": "stdout",
     "output_type": "stream",
     "text": [
      "Help on function build_dbml in module flypipe.misc.dbml:\n",
      "\n",
      "build_dbml(nodes: Union[List[<property object at 0xfee82c4ee360>.Node], <property object at 0xfee82c4ee360>.Node], only_nodes_with_tags: Union[List[str], str] = None, only_nodes_with_cache: bool = False, file_path_name=None)\n",
      "    Reads flypipe nodes and builds a dbml source code with the relationships, if output columns have been defined.\n",
      "    \n",
      "    Parameters\n",
      "    ----------\n",
      "    \n",
      "    nodes : Union[List[Node], Node]\n",
      "        nodes to be considered to be added to the dbml\n",
      "    only_nodes_with_tags : Union[List[str], str], optional, defafult None\n",
      "        include only nodes with tags\n",
      "    only_nodes_with_cache: bool, optional, default True\n",
      "        True: include nodes with cache, False: do not include nodes.\n",
      "    \n",
      "        Note: the cache objects must have name method implemented, example:\n",
      "    \n",
      "            class MyCache(Cache):\n",
      "                ...\n",
      "                @property\n",
      "                def name(self):\n",
      "                    return <NAME TO BE USED FOR THE DBML TABLE NAME>\n",
      "    \n",
      "    file_path_name: str, optional, default None\n",
      "        full file path name where the dbml table is stored.\n",
      "    \n",
      "    Returns\n",
      "    -------\n",
      "    \n",
      "    dbml string if file_path_name is None else it will return None\n",
      "\n"
     ]
    }
   ],
   "source": [
    "from flypipe.misc.dbml import build_dbml\n",
    "\n",
    "help(build_dbml)"
   ]
  },
  {
   "cell_type": "markdown",
   "id": "ac5ea4c8-d1f4-484c-9163-97dc178f605d",
   "metadata": {},
   "source": [
    "example:"
   ]
  },
  {
   "cell_type": "code",
   "execution_count": 2,
   "id": "82daefdd-c708-47b8-9cbd-2ed024fc8544",
   "metadata": {},
   "outputs": [
    {
     "name": "stdout",
     "output_type": "stream",
     "text": [
      "Table b {\n",
      "\tnode_b_col1 String() [note: '''description node_b_col1''', PK]\n",
      "\tnode_b_col2 String() [note: '''description node_b_col2''', PK]\n",
      "\tnode_b_col3 String() [note: '''description node_b_col3''']\n",
      "\n",
      "\tNote: '''Managed by flypipe node `B`\n",
      "\n",
      "this is node B'''\n",
      "}\n",
      "\n",
      "Ref : cache_table_a.node_a_col1 > b.node_b_col1\n",
      "\n",
      "Table cache_table_a [headercolor: #3498DB] {\n",
      "\tnode_a_col1 String() [note: '''description node_a_col1''', PK]\n",
      "\tnode_a_col2 String() [note: '''description node_a_col2''']\n",
      "\n",
      "\tNote: '''Managed by flypipe node `A`\n",
      "\n",
      "this is node A'''\n",
      "}\n"
     ]
    }
   ],
   "source": [
    "from flypipe import node\n",
    "from flypipe.cache import Cache\n",
    "from flypipe.misc.dbml import build_dbml\n",
    "from flypipe.schema import Schema, Column\n",
    "from flypipe.schema.types import String\n",
    "from pprint import pprint\n",
    "\n",
    "class MyCache(Cache):\n",
    "    def __init__(self, cache_name):\n",
    "        self.cache_name = cache_name\n",
    "\n",
    "    @property\n",
    "    def color(self): # <-- ADDS THIS COLOR TO THE DBML TABLE\n",
    "        return \"#3498DB\"\n",
    "\n",
    "    @property\n",
    "    def name(self): # <-- ADDS THIS NAME TO THE DBML TABLE\n",
    "        return self.cache_name\n",
    "\n",
    "    def read(self, spark):\n",
    "        pass\n",
    "\n",
    "    def write(self, spark, df):\n",
    "        pass\n",
    "\n",
    "    def exists(self, spark=None):\n",
    "        pass\n",
    "                \n",
    "@node(\n",
    "    type=\"pandas\",\n",
    "    description=\"this is node A\",\n",
    "    cache=MyCache(\"cache table a\"),\n",
    "    output=Schema(\n",
    "        Column(\"node_a_col1\", String(), \"description node_a_col1\", pk=True),\n",
    "        Column(\"node_a_col2\", String(), \"description node_a_col2\")\n",
    "    )\n",
    ")\n",
    "def A():\n",
    "    pass\n",
    "\n",
    "@node(\n",
    "    type=\"pandas\",\n",
    "    description=\"this is node B\",\n",
    "    output=Schema(\n",
    "        Column(\"node_b_col1\", String(), \"description node_b_col1\", pk=True)\n",
    "        .many_to_one(A.output.node_a_col1),\n",
    "        Column(\"node_b_col2\", String(), \"description node_b_col2\", pk=True),\n",
    "        Column(\"node_b_col3\", String(), \"description node_b_col3\")\n",
    "    )\n",
    ")\n",
    "def B(**dfs):\n",
    "    pass\n",
    "\n",
    "dbml = build_dbml(B)\n",
    "print(f\"{dbml}\")"
   ]
  },
  {
   "cell_type": "markdown",
   "id": "9549a057-b57f-4aae-8f96-e695270ff783",
   "metadata": {},
   "source": [
    "## Build ERD Diagram (SVG) using [dbml-renderer](https://github.com/softwaretechnik-berlin/dbml-renderer)"
   ]
  },
  {
   "cell_type": "code",
   "execution_count": 3,
   "id": "bc2b93b7-bd03-4472-b46d-95dd88866a5c",
   "metadata": {},
   "outputs": [
    {
     "name": "stdout",
     "output_type": "stream",
     "text": [
      "Help on function build_erd_svg in module flypipe.misc.erd:\n",
      "\n",
      "build_erd_svg(nodes: Union[List[<property object at 0xfee82c4ee360>.Node], <property object at 0xfee82c4ee360>.Node], output_path, only_nodes_with_tags: Union[List[str], str] = None, only_nodes_with_cache: bool = False)\n",
      "    Reads flypipe nodes and builds a SVG image with the ERD diagram\n",
      "    \n",
      "    Parameters\n",
      "    ----------\n",
      "    \n",
      "    nodes : Union[List[Node], Node]\n",
      "        nodes to be considered to be added to the dbml\n",
      "    output_path: str\n",
      "        full file path name where the svg is stored.\n",
      "    only_nodes_with_tags : Union[List[str], str], optional, defafult None\n",
      "        include only nodes with tags\n",
      "    only_nodes_with_cache: bool, optional, default True\n",
      "        True: include nodes with cache, False: do not include nodes.\n",
      "    \n",
      "        Note: the cache objects must have name method implemented, example:\n",
      "    \n",
      "            class MyCache(Cache):\n",
      "                ...\n",
      "                @property\n",
      "                def name(self):\n",
      "                    return <NAME TO BE USED FOR THE DBML TABLE NAME>\n",
      "\n"
     ]
    }
   ],
   "source": [
    "from flypipe.misc.erd import build_erd_svg\n",
    "help(build_erd_svg)\n",
    "\n",
    "build_erd_svg(B, \"test.svg\")"
   ]
  },
  {
   "cell_type": "code",
   "execution_count": 4,
   "id": "a2c1e64a-ca56-4970-94b2-1884ae29bdc5",
   "metadata": {},
   "outputs": [
    {
     "data": {
      "image/svg+xml": [
       "<svg xmlns=\"http://www.w3.org/2000/svg\" xmlns:xlink=\"http://www.w3.org/1999/xlink\" width=\"1042pt\" height=\"353pt\" viewBox=\"0.00 0.00 1042.43 353.07\">\n",
       "<g id=\"graph0\" class=\"graph\" transform=\"scale(1 1) rotate(0) translate(4 349.07)\">\n",
       "<title>dbml</title>\n",
       "<!-- b -->\n",
       "<g id=\"b\" class=\"node\">\n",
       "<title>b</title>\n",
       "<g id=\"a_b\"><a xlink:title=\"b\n",
       "Managed by flypipe node `B`\n",
       "\n",
       "this is node B\">\n",
       "<ellipse fill=\"none\" stroke=\"black\" stroke-width=\"0\" cx=\"788.36\" cy=\"-172.53\" rx=\"246.15\" ry=\"172.57\"/>\n",
       "<polygon fill=\"#1d71b8\" stroke=\"transparent\" points=\"616.36,-232.53 616.36,-292.53 960.36,-292.53 960.36,-232.53 616.36,-232.53\"/>\n",
       "<polygon fill=\"none\" stroke=\"#29235c\" points=\"616.36,-232.53 616.36,-292.53 960.36,-292.53 960.36,-232.53 616.36,-232.53\"/>\n",
       "<text text-anchor=\"start\" x=\"717.22\" y=\"-253.73\" font-family=\"Helvetica,sans-Serif\" font-weight=\"bold\" font-size=\"32.00\" fill=\"#ffffff\">       b       </text>\n",
       "<polygon fill=\"#e7e2dd\" stroke=\"transparent\" points=\"616.36,-172.53 616.36,-232.53 960.36,-232.53 960.36,-172.53 616.36,-172.53\"/>\n",
       "<polygon fill=\"none\" stroke=\"#29235c\" points=\"616.36,-172.53 616.36,-232.53 960.36,-232.53 960.36,-172.53 616.36,-172.53\"/>\n",
       "<text text-anchor=\"start\" x=\"626.98\" y=\"-192.73\" font-family=\"Helvetica,sans-Serif\" font-size=\"32.00\" fill=\"#29235c\">node_b_col1    </text>\n",
       "<text text-anchor=\"start\" x=\"844.93\" y=\"-193.73\" font-family=\"Helvetica,sans-Serif\" font-style=\"italic\" font-size=\"32.00\" fill=\"#29235c\">String()</text>\n",
       "<polygon fill=\"#e7e2dd\" stroke=\"transparent\" points=\"616.36,-112.53 616.36,-172.53 960.36,-172.53 960.36,-112.53 616.36,-112.53\"/>\n",
       "<polygon fill=\"none\" stroke=\"#29235c\" points=\"616.36,-112.53 616.36,-172.53 960.36,-172.53 960.36,-112.53 616.36,-112.53\"/>\n",
       "<text text-anchor=\"start\" x=\"626.98\" y=\"-132.73\" font-family=\"Helvetica,sans-Serif\" font-size=\"32.00\" fill=\"#29235c\">node_b_col2    </text>\n",
       "<text text-anchor=\"start\" x=\"844.93\" y=\"-133.73\" font-family=\"Helvetica,sans-Serif\" font-style=\"italic\" font-size=\"32.00\" fill=\"#29235c\">String()</text>\n",
       "<polygon fill=\"#e7e2dd\" stroke=\"transparent\" points=\"616.36,-52.53 616.36,-112.53 960.36,-112.53 960.36,-52.53 616.36,-52.53\"/>\n",
       "<polygon fill=\"none\" stroke=\"#29235c\" points=\"616.36,-52.53 616.36,-112.53 960.36,-112.53 960.36,-52.53 616.36,-52.53\"/>\n",
       "<text text-anchor=\"start\" x=\"626.98\" y=\"-72.73\" font-family=\"Helvetica,sans-Serif\" font-size=\"32.00\" fill=\"#29235c\">node_b_col3    </text>\n",
       "<text text-anchor=\"start\" x=\"844.93\" y=\"-73.73\" font-family=\"Helvetica,sans-Serif\" font-style=\"italic\" font-size=\"32.00\" fill=\"#29235c\">String()</text>\n",
       "<polygon fill=\"none\" stroke=\"#29235c\" stroke-width=\"2\" points=\"615.36,-51.53 615.36,-293.53 961.36,-293.53 961.36,-51.53 615.36,-51.53\"/>\n",
       "</a>\n",
       "</g>\n",
       "</g>\n",
       "<!-- cache_table_a -->\n",
       "<g id=\"cache_table_a\" class=\"node\">\n",
       "<title>cache_table_a</title>\n",
       "<g id=\"a_cache_table_a\"><a xlink:title=\"cache_table_a\n",
       "Managed by flypipe node `A`\n",
       "\n",
       "this is node A\">\n",
       "<ellipse fill=\"none\" stroke=\"black\" stroke-width=\"0\" cx=\"253.14\" cy=\"-202.53\" rx=\"253.29\" ry=\"130.22\"/>\n",
       "<polygon fill=\"#3498db\" stroke=\"transparent\" points=\"76.14,-232.53 76.14,-292.53 430.14,-292.53 430.14,-232.53 76.14,-232.53\"/>\n",
       "<polygon fill=\"none\" stroke=\"#29235c\" points=\"76.14,-232.53 76.14,-292.53 430.14,-292.53 430.14,-232.53 76.14,-232.53\"/>\n",
       "<text text-anchor=\"start\" x=\"86.85\" y=\"-253.73\" font-family=\"Helvetica,sans-Serif\" font-weight=\"bold\" font-size=\"32.00\" fill=\"#ffffff\">       cache_table_a       </text>\n",
       "<polygon fill=\"#e7e2dd\" stroke=\"transparent\" points=\"76.14,-172.53 76.14,-232.53 430.14,-232.53 430.14,-172.53 76.14,-172.53\"/>\n",
       "<polygon fill=\"none\" stroke=\"#29235c\" points=\"76.14,-172.53 76.14,-232.53 430.14,-232.53 430.14,-172.53 76.14,-172.53\"/>\n",
       "<text text-anchor=\"start\" x=\"87.14\" y=\"-192.73\" font-family=\"Helvetica,sans-Serif\" font-size=\"32.00\" fill=\"#29235c\">node_a_col1    </text>\n",
       "<text text-anchor=\"start\" x=\"314.27\" y=\"-193.73\" font-family=\"Helvetica,sans-Serif\" font-style=\"italic\" font-size=\"32.00\" fill=\"#29235c\">String()</text>\n",
       "<polygon fill=\"#e7e2dd\" stroke=\"transparent\" points=\"76.14,-112.53 76.14,-172.53 430.14,-172.53 430.14,-112.53 76.14,-112.53\"/>\n",
       "<polygon fill=\"none\" stroke=\"#29235c\" points=\"76.14,-112.53 76.14,-172.53 430.14,-172.53 430.14,-112.53 76.14,-112.53\"/>\n",
       "<text text-anchor=\"start\" x=\"87.14\" y=\"-132.73\" font-family=\"Helvetica,sans-Serif\" font-size=\"32.00\" fill=\"#29235c\">node_a_col2    </text>\n",
       "<text text-anchor=\"start\" x=\"314.27\" y=\"-133.73\" font-family=\"Helvetica,sans-Serif\" font-style=\"italic\" font-size=\"32.00\" fill=\"#29235c\">String()</text>\n",
       "<polygon fill=\"none\" stroke=\"#29235c\" stroke-width=\"2\" points=\"75.14,-111.53 75.14,-293.53 431.14,-293.53 431.14,-111.53 75.14,-111.53\"/>\n",
       "</a>\n",
       "</g>\n",
       "</g>\n",
       "<!-- cache_table_a&#45;&gt;b -->\n",
       "<!-- cache_table_a&#45;&gt;b -->\n",
       "<g id=\"edge2\" class=\"edge\">\n",
       "<title>cache_table_a:e-&gt;b:w</title>\n",
       "<path fill=\"none\" stroke=\"#29235c\" stroke-width=\"3\" d=\"M431.14,-202.53C509.5,-202.53 531.61,-202.53 605.14,-202.53\"/>\n",
       "<polygon fill=\"#29235c\" stroke=\"#29235c\" stroke-width=\"3\" points=\"605.36,-206.03 615.36,-202.53 605.36,-199.03 605.36,-206.03\"/>\n",
       "<text text-anchor=\"middle\" x=\"606.47\" y=\"-173.73\" font-family=\"Helvetica,sans-Serif\" font-size=\"32.00\" fill=\"#29235c\">1</text>\n",
       "<text text-anchor=\"middle\" x=\"424.92\" y=\"-173.73\" font-family=\"Helvetica,sans-Serif\" font-size=\"32.00\" fill=\"#29235c\">*</text>\n",
       "</g>\n",
       "</g>\n",
       "</svg>"
      ],
      "text/plain": [
       "<IPython.core.display.SVG object>"
      ]
     },
     "metadata": {},
     "output_type": "display_data"
    }
   ],
   "source": [
    "from IPython.display import SVG, display\n",
    "\n",
    "display(SVG(filename=\"test.svg\"))  # Replace with your SVG file path\n"
   ]
  },
  {
   "cell_type": "markdown",
   "id": "dde614ff-1349-44eb-a3d4-b65e0bfd33d8",
   "metadata": {},
   "source": [
    "## [dbdiagram.io](https://dbdiagram.io/)\n",
    "\n",
    "Import the DBML file into dbdiagram\n",
    "\n",
    "```sql\n",
    "Table b {\n",
    "\tnode_b_col1 String() [note: '''description node_b_col1''', PK]\n",
    "\tnode_b_col2 String() [note: '''description node_b_col2''', PK]\n",
    "\tnode_b_col3 String() [note: '''description node_b_col3''']\n",
    "\n",
    "\tNote: '''Managed by flypipe node `B`\n",
    "\n",
    "this is node B'''\n",
    "}\n",
    "\n",
    "Ref : cache_table_a.node_a_col1 > b.node_b_col1\n",
    "\n",
    "Table cache_table_a [headercolor: #3498DB] {\n",
    "\tnode_a_col1 String() [note: '''description node_a_col1''', PK]\n",
    "\tnode_a_col2 String() [note: '''description node_a_col2''']\n",
    "\n",
    "\tNote: '''Managed by flypipe node `A`\n",
    "\n",
    "this is node A'''\n",
    "}\n",
    "```"
   ]
  },
  {
   "cell_type": "markdown",
   "id": "6a51a4c4-f02d-4785-b541-0a0b4f54afd6",
   "metadata": {},
   "source": [
    "following is an example of the dbdiagram"
   ]
  },
  {
   "cell_type": "code",
   "execution_count": 5,
   "id": "936b7573-ff82-4295-a486-0dc6a97ee90b",
   "metadata": {},
   "outputs": [
    {
     "data": {
      "text/html": [
       "\n",
       "        <iframe\n",
       "            width=\"800\"\n",
       "            height=\"600\"\n",
       "            src=\"https://dbdiagram.io/e/67c9e4b0263d6cf9a07dd726/67c9e4f6263d6cf9a07dde8e\"\n",
       "            frameborder=\"0\"\n",
       "            allowfullscreen\n",
       "            \n",
       "        ></iframe>\n",
       "        "
      ],
      "text/plain": [
       "<IPython.lib.display.IFrame at 0xfee852add670>"
      ]
     },
     "execution_count": 5,
     "metadata": {},
     "output_type": "execute_result"
    }
   ],
   "source": [
    "from IPython.display import IFrame\n",
    "\n",
    "IFrame(\"https://dbdiagram.io/e/67c9e4b0263d6cf9a07dd726/67c9e4f6263d6cf9a07dde8e\", width=800, height=600)"
   ]
  },
  {
   "cell_type": "markdown",
   "id": "89bd0b71-b50e-466d-b76d-fbadc6069aa5",
   "metadata": {},
   "source": [
    "## [dbdocs.io](https://dbdocs.io/)\n",
    "\n",
    "1. Follow dbdocs the [installation steps](https://docs.dbdocs.io/#1-install-dbdocs-via-terminal)\n",
    "2. [Login](https://docs.dbdocs.io/#3-login-to-dbdocs)\n",
    "3. [Publish your DBML file](https://docs.dbdocs.io/#3-login-to-dbdocs)\n",
    "\n",
    "You can acess [this example](https://dbdocs.io/joseheliomuller/flypipe)."
   ]
  },
  {
   "cell_type": "code",
   "execution_count": 6,
   "id": "8317438f-f7ed-4910-ac39-3a42ca5f957f",
   "metadata": {},
   "outputs": [
    {
     "data": {
      "text/html": [
       "\n",
       "        <iframe\n",
       "            width=\"1280\"\n",
       "            height=\"1000\"\n",
       "            src=\"https://dbdocs.io/joseheliomuller/flypipe\"\n",
       "            frameborder=\"0\"\n",
       "            allowfullscreen\n",
       "            \n",
       "        ></iframe>\n",
       "        "
      ],
      "text/plain": [
       "<IPython.lib.display.IFrame at 0xfee82c4f6b80>"
      ]
     },
     "execution_count": 6,
     "metadata": {},
     "output_type": "execute_result"
    }
   ],
   "source": [
    "from IPython.display import IFrame\n",
    "\n",
    "IFrame(\"https://dbdocs.io/joseheliomuller/flypipe\", width=1280, height=1000)"
   ]
  },
  {
   "cell_type": "code",
   "execution_count": null,
   "id": "7fd1b25b-4b59-414d-af22-443ecffa223b",
   "metadata": {},
   "outputs": [],
   "source": []
  }
 ],
 "metadata": {
  "kernelspec": {
   "display_name": "Python 3 (ipykernel)",
   "language": "python",
   "name": "python3"
  },
  "language_info": {
   "codemirror_mode": {
    "name": "ipython",
    "version": 3
   },
   "file_extension": ".py",
   "mimetype": "text/x-python",
   "name": "python",
   "nbconvert_exporter": "python",
   "pygments_lexer": "ipython3",
   "version": "3.9.21"
  }
 },
 "nbformat": 4,
 "nbformat_minor": 5
}
