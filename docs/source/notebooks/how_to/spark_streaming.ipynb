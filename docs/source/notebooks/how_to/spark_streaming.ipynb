{
 "cells": [
  {
   "cell_type": "markdown",
   "id": "09a30792-ced0-4190-b38c-aed23268ff64",
   "metadata": {},
   "source": [
    "# Spark Streaming\n"
   ]
  },
  {
   "cell_type": "markdown",
   "id": "0dafede5-9356-4193-809e-13d086a38ac3",
   "metadata": {},
   "source": [
    "## title 2"
   ]
  },
  {
   "cell_type": "code",
   "execution_count": 1,
   "id": "e52a32ba-6508-4581-a361-aac3d246bbd7",
   "metadata": {},
   "outputs": [],
   "source": [
    "import shutil\n",
    "\n",
    "spark.sql(\"drop table if exists total_sales\")\n",
    "shutil.rmtree(\"/spark-warehouse/total_sales\", ignore_errors=True)\n",
    "shutil.rmtree(\"./tmp/stream/_checkpoints\", ignore_errors=True)\n",
    "shutil.rmtree(\"./tmp/stream/json\", ignore_errors=True)"
   ]
  },
  {
   "cell_type": "code",
   "execution_count": 2,
   "id": "c9a70d0f-93b4-4959-be2a-7fc10b760f12",
   "metadata": {},
   "outputs": [
    {
     "name": "stdout",
     "output_type": "stream",
     "text": [
      "Added ./tmp/stream/json/1c967e6a-37ec-4778-a7c0-f9d853e00c4a.json\n",
      "Added ./tmp/stream/json/fbce3dc5-afcd-43cc-a68e-b1aaf2347e16.json\n",
      "Added ./tmp/stream/json/4cb9762b-3b31-4da5-ba9e-164f3adbfa35.json\n",
      "Added ./tmp/stream/json/0714f0c1-48d4-4e46-9818-6f5b0f5ff1a2.json\n",
      "Added ./tmp/stream/json/37a55a44-69a3-4738-aa30-b368240522b6.json\n",
      "Added ./tmp/stream/json/4a0cd365-ebfe-411c-8da2-e7137c2d8f2a.json\n",
      "Added ./tmp/stream/json/c63d4fa9-e130-4f92-adc8-d86e0ee5dc1f.json\n",
      "Added ./tmp/stream/json/58bcd6e3-9a74-4472-a044-a68d2e7a67c1.json\n",
      "Added ./tmp/stream/json/e7e12635-2dbc-447b-8358-835e5ddf382f.json\n",
      "Added ./tmp/stream/json/7240f18e-35a7-4372-b66c-7d8426d157bf.json\n"
     ]
    }
   ],
   "source": [
    "import json\n",
    "from time import time\n",
    "import os\n",
    "import uuid\n",
    "import random\n",
    "\n",
    "JSON_LOCATION = \"./tmp/stream/json\"\n",
    "\n",
    "os.makedirs(JSON_LOCATION, exist_ok=True)\n",
    "\n",
    "def add_sale(quantity):\n",
    "    \n",
    "    for _ in range(quantity):\n",
    "        sale_id = str(uuid.uuid4())\n",
    "        out_file = open(f\"{JSON_LOCATION}/{sale_id}.json\", \"w\")\n",
    "        \n",
    "        data = {\n",
    "            'sale_id': sale_id,\n",
    "            'product_id': random.randrange(1, 5, 1),\n",
    "            'price': random.randrange(100, 1000, 1),\n",
    "            'quantity': random.randrange(1, 10, 1),\n",
    "            'sale_datetime': int(time())\n",
    "        }\n",
    "\n",
    "        json.dump(data, out_file)\n",
    "        \n",
    "        print(f\"Added {JSON_LOCATION}/{sale_id}.json\")\n",
    "        \n",
    "add_sale(10)\n"
   ]
  },
  {
   "cell_type": "code",
   "execution_count": 3,
   "id": "f1885109-b75b-41f6-b553-e2c88d7f8a43",
   "metadata": {},
   "outputs": [],
   "source": [
    "from flypipe import node\n",
    "from flypipe.schema import Schema, Column\n",
    "from flypipe.schema.types import Decimal, String\n",
    "from flypipe.datasource.spark import Spark\n",
    "import pyspark.sql.functions as F\n",
    "@node(\n",
    "    type=\"pyspark\",\n",
    "    dependencies=[\n",
    "        Spark(\"sales\")\n",
    "    ],\n",
    "    output=Schema(\n",
    "     Column(\"product_id\", String(), \"product identifier\"),   \n",
    "     Column(\"total_sales\", Decimal(18,2), \"total sales amount\"),\n",
    "    )\n",
    ")\n",
    "def total_sales_node(sales):\n",
    "    df = sales.groupBy(\"product_id\").agg(F.sum(F.col(\"price\") * F.col(\"quantity\")).alias(\"total_sales\"))\n",
    "    return df"
   ]
  },
  {
   "cell_type": "code",
   "execution_count": 4,
   "id": "79976ae3-9cdd-4d55-bc95-3c82dc721a56",
   "metadata": {},
   "outputs": [
    {
     "name": "stdout",
     "output_type": "stream",
     "text": [
      "Batch dataframe received:\n"
     ]
    },
    {
     "data": {
      "text/html": [
       "<table border='1'>\n",
       "<tr><th>sale_id</th><th>product_id</th><th>price</th><th>quantity</th><th>sale_datetime</th></tr>\n",
       "<tr><td>1c967e6a-37ec-477...</td><td>1</td><td>293.00</td><td>3</td><td>2022-11-29 06:49:29</td></tr>\n",
       "<tr><td>fbce3dc5-afcd-43c...</td><td>2</td><td>126.00</td><td>4</td><td>2022-11-29 06:49:29</td></tr>\n",
       "<tr><td>4cb9762b-3b31-4da...</td><td>1</td><td>704.00</td><td>9</td><td>2022-11-29 06:49:29</td></tr>\n",
       "<tr><td>0714f0c1-48d4-4e4...</td><td>1</td><td>301.00</td><td>1</td><td>2022-11-29 06:49:29</td></tr>\n",
       "<tr><td>37a55a44-69a3-473...</td><td>2</td><td>526.00</td><td>7</td><td>2022-11-29 06:49:29</td></tr>\n",
       "<tr><td>4a0cd365-ebfe-411...</td><td>3</td><td>290.00</td><td>5</td><td>2022-11-29 06:49:29</td></tr>\n",
       "<tr><td>c63d4fa9-e130-4f9...</td><td>4</td><td>142.00</td><td>8</td><td>2022-11-29 06:49:29</td></tr>\n",
       "<tr><td>58bcd6e3-9a74-447...</td><td>2</td><td>182.00</td><td>8</td><td>2022-11-29 06:49:29</td></tr>\n",
       "<tr><td>e7e12635-2dbc-447...</td><td>1</td><td>760.00</td><td>3</td><td>2022-11-29 06:49:29</td></tr>\n",
       "<tr><td>7240f18e-35a7-437...</td><td>2</td><td>300.00</td><td>7</td><td>2022-11-29 06:49:29</td></tr>\n",
       "</table>\n"
      ],
      "text/plain": [
       "+--------------------+----------+------+--------+-------------------+\n",
       "|             sale_id|product_id| price|quantity|      sale_datetime|\n",
       "+--------------------+----------+------+--------+-------------------+\n",
       "|1c967e6a-37ec-477...|         1|293.00|       3|2022-11-29 06:49:29|\n",
       "|fbce3dc5-afcd-43c...|         2|126.00|       4|2022-11-29 06:49:29|\n",
       "|4cb9762b-3b31-4da...|         1|704.00|       9|2022-11-29 06:49:29|\n",
       "|0714f0c1-48d4-4e4...|         1|301.00|       1|2022-11-29 06:49:29|\n",
       "|37a55a44-69a3-473...|         2|526.00|       7|2022-11-29 06:49:29|\n",
       "|4a0cd365-ebfe-411...|         3|290.00|       5|2022-11-29 06:49:29|\n",
       "|c63d4fa9-e130-4f9...|         4|142.00|       8|2022-11-29 06:49:29|\n",
       "|58bcd6e3-9a74-447...|         2|182.00|       8|2022-11-29 06:49:29|\n",
       "|e7e12635-2dbc-447...|         1|760.00|       3|2022-11-29 06:49:29|\n",
       "|7240f18e-35a7-437...|         2|300.00|       7|2022-11-29 06:49:29|\n",
       "+--------------------+----------+------+--------+-------------------+"
      ]
     },
     "metadata": {},
     "output_type": "display_data"
    },
    {
     "name": "stdout",
     "output_type": "stream",
     "text": [
      "===> Saving dataframe calculated with node `total_sales_node` into table `total_sales`\n"
     ]
    },
    {
     "name": "stderr",
     "output_type": "stream",
     "text": [
      "                                                                                \r"
     ]
    }
   ],
   "source": [
    "from pyspark.sql.types import StructType, ArrayType, StructField, StringType, DecimalType, IntegerType, TimestampType\n",
    "\n",
    "\n",
    "def total_sales(batch_df, batch_id):\n",
    "    \n",
    "    print(\"Batch dataframe received:\")\n",
    "    display(batch_df)\n",
    "    \n",
    "    total_sales_df = (\n",
    "        total_sales_node\n",
    "        .run(inputs = {\n",
    "            Spark(\"sales\"): batch_df\n",
    "        })\n",
    "    )\n",
    "    \n",
    "    print(\"===> Saving dataframe calculated with node `total_sales_node` into table `total_sales`\")\n",
    "    \n",
    "    (\n",
    "      total_sales_df\n",
    "      .write\n",
    "      .format('delta')\n",
    "      .mode('overwrite')\n",
    "      .saveAsTable(\"total_sales\")\n",
    "    )\n",
    "    \n",
    "    return total_sales_df\n",
    "\n",
    "\n",
    "\n",
    "\n",
    "# Create Stream\n",
    "json_schema = StructType([\n",
    "    StructField(\"sale_id\", StringType(), True),\n",
    "    StructField(\"product_id\", StringType(), True),\n",
    "    StructField(\"price\", DecimalType(18,2), True),\n",
    "    StructField(\"quantity\", IntegerType(), True),\n",
    "    StructField(\"sale_datetime\", TimestampType(), True),\n",
    "])\n",
    "\n",
    "\n",
    "(\n",
    "  spark\n",
    "  .readStream\n",
    "  .json(JSON_LOCATION, schema=json_schema)\n",
    "  .writeStream\n",
    "  .trigger(availableNow=True)\n",
    "  .option(\"checkpointLocation\", \"./tmp/stream/_checkpoints/\")\n",
    "  .foreachBatch(total_sales)\n",
    "  .start()\n",
    ")\n",
    "\n",
    "# Waitting process\n",
    "from time import sleep\n",
    "\n",
    "while True:\n",
    "    try:\n",
    "        spark.sql(\"select * from total_sales\")\n",
    "        break\n",
    "    except Exception as e:\n",
    "        sleep(2)"
   ]
  },
  {
   "cell_type": "code",
   "execution_count": 5,
   "id": "5b1d7803-e329-4ee3-a482-da0f14029e4a",
   "metadata": {},
   "outputs": [
    {
     "data": {
      "text/html": [
       "<table border='1'>\n",
       "<tr><th>product_id</th><th>total_sales</th></tr>\n",
       "<tr><td>3</td><td>1450.00</td></tr>\n",
       "<tr><td>1</td><td>9796.00</td></tr>\n",
       "<tr><td>4</td><td>1136.00</td></tr>\n",
       "<tr><td>2</td><td>7742.00</td></tr>\n",
       "</table>\n"
      ],
      "text/plain": [
       "+----------+-----------+\n",
       "|product_id|total_sales|\n",
       "+----------+-----------+\n",
       "|         3|    1450.00|\n",
       "|         1|    9796.00|\n",
       "|         4|    1136.00|\n",
       "|         2|    7742.00|\n",
       "+----------+-----------+"
      ]
     },
     "metadata": {},
     "output_type": "display_data"
    }
   ],
   "source": [
    "display(spark.sql(\"select * from total_sales\"))"
   ]
  }
 ],
 "metadata": {
  "kernelspec": {
   "display_name": "Python 3 (ipykernel)",
   "language": "python",
   "name": "python3"
  },
  "language_info": {
   "codemirror_mode": {
    "name": "ipython",
    "version": 3
   },
   "file_extension": ".py",
   "mimetype": "text/x-python",
   "name": "python",
   "nbconvert_exporter": "python",
   "pygments_lexer": "ipython3",
   "version": "3.9.5"
  }
 },
 "nbformat": 4,
 "nbformat_minor": 5
}
