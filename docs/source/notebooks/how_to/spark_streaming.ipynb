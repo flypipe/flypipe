{
 "cells": [
  {
   "cell_type": "markdown",
   "id": "09a30792-ced0-4190-b38c-aed23268ff64",
   "metadata": {},
   "source": [
    "# Spark Streaming\n"
   ]
  },
  {
   "cell_type": "markdown",
   "id": "0dafede5-9356-4193-809e-13d086a38ac3",
   "metadata": {},
   "source": [
    "## title 2"
   ]
  },
  {
   "cell_type": "code",
   "execution_count": 1,
   "id": "e52a32ba-6508-4581-a361-aac3d246bbd7",
   "metadata": {},
   "outputs": [],
   "source": [
    "import shutil\n",
    "\n",
    "spark.sql(\"drop table if exists total_sales\")\n",
    "shutil.rmtree(\"/spark-warehouse/total_sales\", ignore_errors=True)\n",
    "shutil.rmtree(\"./tmp/stream/_checkpoints\", ignore_errors=True)\n",
    "shutil.rmtree(\"./tmp/stream/json\", ignore_errors=True)"
   ]
  },
  {
   "cell_type": "code",
   "execution_count": 2,
   "id": "c9a70d0f-93b4-4959-be2a-7fc10b760f12",
   "metadata": {},
   "outputs": [
    {
     "name": "stdout",
     "output_type": "stream",
     "text": [
      "\n",
      "Added ./tmp/stream/json/8e86d225-fd46-46c0-972b-98f671e21439.json\n",
      "{'price': 220,\n",
      " 'product_id': 1,\n",
      " 'quantity': 2,\n",
      " 'sale_datetime': 1669704769,\n",
      " 'sale_id': '8e86d225-fd46-46c0-972b-98f671e21439'}\n",
      "\n",
      "Added ./tmp/stream/json/7bda9211-d603-4efa-aea2-c7cf34ec3baa.json\n",
      "{'price': 802,\n",
      " 'product_id': 3,\n",
      " 'quantity': 1,\n",
      " 'sale_datetime': 1669704769,\n",
      " 'sale_id': '7bda9211-d603-4efa-aea2-c7cf34ec3baa'}\n",
      "\n",
      "Added ./tmp/stream/json/0306e840-3a1f-4255-b470-477bda4ba014.json\n",
      "{'price': 600,\n",
      " 'product_id': 2,\n",
      " 'quantity': 2,\n",
      " 'sale_datetime': 1669704769,\n",
      " 'sale_id': '0306e840-3a1f-4255-b470-477bda4ba014'}\n",
      "\n",
      "Added ./tmp/stream/json/f52fc13e-4368-4947-a165-e12768273934.json\n",
      "{'price': 583,\n",
      " 'product_id': 4,\n",
      " 'quantity': 2,\n",
      " 'sale_datetime': 1669704769,\n",
      " 'sale_id': 'f52fc13e-4368-4947-a165-e12768273934'}\n",
      "\n",
      "Added ./tmp/stream/json/2e855c7c-1098-443f-8fa8-ca73ae97eae9.json\n",
      "{'price': 128,\n",
      " 'product_id': 2,\n",
      " 'quantity': 1,\n",
      " 'sale_datetime': 1669704769,\n",
      " 'sale_id': '2e855c7c-1098-443f-8fa8-ca73ae97eae9'}\n"
     ]
    }
   ],
   "source": [
    "import json\n",
    "from time import time\n",
    "import os\n",
    "import uuid\n",
    "import random\n",
    "from pprint import pprint\n",
    "\n",
    "JSON_LOCATION = \"./tmp/stream/json\"\n",
    "\n",
    "os.makedirs(JSON_LOCATION, exist_ok=True)\n",
    "\n",
    "def add_sale(quantity):\n",
    "    \n",
    "    for _ in range(quantity):\n",
    "        sale_id = str(uuid.uuid4())\n",
    "        out_file = open(f\"{JSON_LOCATION}/{sale_id}.json\", \"w\")\n",
    "        \n",
    "        data = {\n",
    "            'sale_id': sale_id,\n",
    "            'product_id': random.randrange(1, 5, 1),\n",
    "            'price': random.randrange(100, 1000, 1),\n",
    "            'quantity': random.randrange(1, 10, 1),\n",
    "            'sale_datetime': int(time())\n",
    "        }\n",
    "        \n",
    "\n",
    "        json.dump(data, out_file)\n",
    "        \n",
    "        print(f\"\\nAdded {JSON_LOCATION}/{sale_id}.json\")\n",
    "        pprint(data)\n",
    "        \n",
    "        \n",
    "        \n",
    "add_sale(5)\n"
   ]
  },
  {
   "cell_type": "code",
   "execution_count": 3,
   "id": "f1885109-b75b-41f6-b553-e2c88d7f8a43",
   "metadata": {},
   "outputs": [],
   "source": [
    "from flypipe import node\n",
    "from flypipe.schema import Schema, Column\n",
    "from flypipe.schema.types import Decimal, String\n",
    "from flypipe.datasource.spark import Spark\n",
    "import pyspark.sql.functions as F\n",
    "@node(\n",
    "    type=\"pyspark\",\n",
    "    dependencies=[\n",
    "        Spark(\"sales\")\n",
    "    ],\n",
    "    output=Schema(\n",
    "     Column(\"product_id\", String(), \"product identifier\"),   \n",
    "     Column(\"total_sales\", Decimal(18,2), \"total sales amount\"),\n",
    "    )\n",
    ")\n",
    "def total_sales_node(sales):\n",
    "    df = sales.groupBy(\"product_id\").agg(F.sum(F.col(\"price\") * F.col(\"quantity\")).alias(\"total_sales\"))\n",
    "    return df"
   ]
  },
  {
   "cell_type": "code",
   "execution_count": 4,
   "id": "79976ae3-9cdd-4d55-bc95-3c82dc721a56",
   "metadata": {},
   "outputs": [
    {
     "name": "stdout",
     "output_type": "stream",
     "text": [
      "Batch dataframe received:\n"
     ]
    },
    {
     "data": {
      "text/html": [
       "<table border='1'>\n",
       "<tr><th>sale_id</th><th>product_id</th><th>price</th><th>quantity</th><th>sale_datetime</th></tr>\n",
       "<tr><td>8e86d225-fd46-46c...</td><td>1</td><td>220.00</td><td>2</td><td>2022-11-29 06:52:49</td></tr>\n",
       "<tr><td>7bda9211-d603-4ef...</td><td>3</td><td>802.00</td><td>1</td><td>2022-11-29 06:52:49</td></tr>\n",
       "<tr><td>0306e840-3a1f-425...</td><td>2</td><td>600.00</td><td>2</td><td>2022-11-29 06:52:49</td></tr>\n",
       "<tr><td>f52fc13e-4368-494...</td><td>4</td><td>583.00</td><td>2</td><td>2022-11-29 06:52:49</td></tr>\n",
       "<tr><td>2e855c7c-1098-443...</td><td>2</td><td>128.00</td><td>1</td><td>2022-11-29 06:52:49</td></tr>\n",
       "</table>\n"
      ],
      "text/plain": [
       "+--------------------+----------+------+--------+-------------------+\n",
       "|             sale_id|product_id| price|quantity|      sale_datetime|\n",
       "+--------------------+----------+------+--------+-------------------+\n",
       "|8e86d225-fd46-46c...|         1|220.00|       2|2022-11-29 06:52:49|\n",
       "|7bda9211-d603-4ef...|         3|802.00|       1|2022-11-29 06:52:49|\n",
       "|0306e840-3a1f-425...|         2|600.00|       2|2022-11-29 06:52:49|\n",
       "|f52fc13e-4368-494...|         4|583.00|       2|2022-11-29 06:52:49|\n",
       "|2e855c7c-1098-443...|         2|128.00|       1|2022-11-29 06:52:49|\n",
       "+--------------------+----------+------+--------+-------------------+"
      ]
     },
     "metadata": {},
     "output_type": "display_data"
    },
    {
     "name": "stdout",
     "output_type": "stream",
     "text": [
      "===> Saving dataframe calculated with node `total_sales_node` into table `total_sales`\n"
     ]
    },
    {
     "name": "stderr",
     "output_type": "stream",
     "text": [
      "                                                                                \r"
     ]
    }
   ],
   "source": [
    "from pyspark.sql.types import StructType, ArrayType, StructField, StringType, DecimalType, IntegerType, TimestampType\n",
    "\n",
    "\n",
    "def total_sales(batch_df, batch_id):\n",
    "    \n",
    "    print(\"Batch dataframe received:\")\n",
    "    display(batch_df)\n",
    "    \n",
    "    total_sales_df = (\n",
    "        total_sales_node\n",
    "        .run(inputs = {\n",
    "            Spark(\"sales\"): batch_df\n",
    "        })\n",
    "    )\n",
    "    \n",
    "    print(\"===> Saving dataframe calculated with node `total_sales_node` into table `total_sales`\")\n",
    "    \n",
    "    (\n",
    "      total_sales_df\n",
    "      .write\n",
    "      .format('delta')\n",
    "      .mode('overwrite')\n",
    "      .saveAsTable(\"total_sales\")\n",
    "    )\n",
    "    \n",
    "    return total_sales_df\n",
    "\n",
    "\n",
    "\n",
    "\n",
    "# Create Stream\n",
    "json_schema = StructType([\n",
    "    StructField(\"sale_id\", StringType(), True),\n",
    "    StructField(\"product_id\", StringType(), True),\n",
    "    StructField(\"price\", DecimalType(18,2), True),\n",
    "    StructField(\"quantity\", IntegerType(), True),\n",
    "    StructField(\"sale_datetime\", TimestampType(), True),\n",
    "])\n",
    "\n",
    "\n",
    "(\n",
    "  spark\n",
    "  .readStream\n",
    "  .json(JSON_LOCATION, schema=json_schema)\n",
    "  .writeStream\n",
    "  .trigger(availableNow=True)\n",
    "  .option(\"checkpointLocation\", \"./tmp/stream/_checkpoints/\")\n",
    "  .foreachBatch(total_sales)\n",
    "  .start()\n",
    ")\n",
    "\n",
    "# Waitting process\n",
    "from time import sleep\n",
    "\n",
    "while True:\n",
    "    try:\n",
    "        spark.sql(\"select * from total_sales\")\n",
    "        break\n",
    "    except Exception as e:\n",
    "        sleep(2)"
   ]
  },
  {
   "cell_type": "code",
   "execution_count": 5,
   "id": "5b1d7803-e329-4ee3-a482-da0f14029e4a",
   "metadata": {},
   "outputs": [
    {
     "data": {
      "text/html": [
       "<table border='1'>\n",
       "<tr><th>product_id</th><th>total_sales</th></tr>\n",
       "<tr><td>2</td><td>1328.00</td></tr>\n",
       "<tr><td>3</td><td>802.00</td></tr>\n",
       "<tr><td>1</td><td>440.00</td></tr>\n",
       "<tr><td>4</td><td>1166.00</td></tr>\n",
       "</table>\n"
      ],
      "text/plain": [
       "+----------+-----------+\n",
       "|product_id|total_sales|\n",
       "+----------+-----------+\n",
       "|         2|    1328.00|\n",
       "|         3|     802.00|\n",
       "|         1|     440.00|\n",
       "|         4|    1166.00|\n",
       "+----------+-----------+"
      ]
     },
     "metadata": {},
     "output_type": "display_data"
    }
   ],
   "source": [
    "display(spark.sql(\"select * from total_sales\"))"
   ]
  }
 ],
 "metadata": {
  "kernelspec": {
   "display_name": "Python 3 (ipykernel)",
   "language": "python",
   "name": "python3"
  },
  "language_info": {
   "codemirror_mode": {
    "name": "ipython",
    "version": 3
   },
   "file_extension": ".py",
   "mimetype": "text/x-python",
   "name": "python",
   "nbconvert_exporter": "python",
   "pygments_lexer": "ipython3",
   "version": "3.9.5"
  }
 },
 "nbformat": 4,
 "nbformat_minor": 5
}
