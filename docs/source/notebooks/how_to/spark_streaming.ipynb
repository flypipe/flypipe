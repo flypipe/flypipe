{
 "cells": [
  {
   "cell_type": "markdown",
   "id": "09a30792-ced0-4190-b38c-aed23268ff64",
   "metadata": {},
   "source": [
    "# Spark Streaming\n"
   ]
  },
  {
   "cell_type": "markdown",
   "id": "0dafede5-9356-4193-809e-13d086a38ac3",
   "metadata": {},
   "source": [
    "## title 2"
   ]
  },
  {
   "cell_type": "code",
   "execution_count": 1,
   "id": "c9a70d0f-93b4-4959-be2a-7fc10b760f12",
   "metadata": {},
   "outputs": [],
   "source": [
    "import json\n",
    "from time import time\n",
    "import os\n",
    "import uuid\n",
    "import random\n",
    "\n",
    "JSON_LOCATION = \"./tmp/stream/json\"\n",
    "\n",
    "os.makedirs(JSON_LOCATION, exist_ok=True)\n",
    "\n",
    "def add_sale(quantity):\n",
    "    \n",
    "    for _ in range(quantity):\n",
    "        sale_id = str(uuid.uuid4())\n",
    "        out_file = open(f\"{JSON_LOCATION}/{sale_id}.json\", \"w\")\n",
    "        \n",
    "        data = {\n",
    "            'sale_id': sale_id,\n",
    "            'product_id': random.randrange(1, 5, 1),\n",
    "            'price': random.randrange(100, 1000, 1),\n",
    "            'quantity': random.randrange(1, 10, 1),\n",
    "            'sale_datetime': int(time())\n",
    "        }\n",
    "\n",
    "        json.dump(data, out_file)\n",
    "        \n",
    "add_sale(1)\n"
   ]
  },
  {
   "cell_type": "code",
   "execution_count": 2,
   "id": "e52a32ba-6508-4581-a361-aac3d246bbd7",
   "metadata": {},
   "outputs": [],
   "source": [
    "import shutil\n",
    "\n",
    "spark.sql(\"drop table if exists total_sales\")\n",
    "shutil.rmtree(\"/spark-warehouse/total_sales\", ignore_errors=True)\n",
    "shutil.rmtree(\"./tmp/stream/_checkpoints\", ignore_errors=True)"
   ]
  },
  {
   "cell_type": "code",
   "execution_count": 3,
   "id": "f1885109-b75b-41f6-b553-e2c88d7f8a43",
   "metadata": {},
   "outputs": [],
   "source": [
    "from flypipe import node\n",
    "from flypipe.schema import Schema, Column\n",
    "from flypipe.schema.types import Decimal, String\n",
    "from flypipe.datasource.spark import Spark\n",
    "import pyspark.sql.functions as F\n",
    "@node(\n",
    "    type=\"pyspark\",\n",
    "    dependencies=[\n",
    "        Spark(\"sales\")\n",
    "    ],\n",
    "    output=Schema(\n",
    "     Column(\"product_id\", String(), \"product identifier\"),   \n",
    "     Column(\"total_sales\", Decimal(18,2), \"total sales amount\"),\n",
    "    )\n",
    ")\n",
    "def total_sales_node(sales):\n",
    "    df = sales.groupBy(\"product_id\").agg(F.sum(F.col(\"price\") * F.col(\"quantity\")).alias(\"total_sales\"))\n",
    "    return df"
   ]
  },
  {
   "cell_type": "code",
   "execution_count": 4,
   "id": "79976ae3-9cdd-4d55-bc95-3c82dc721a56",
   "metadata": {},
   "outputs": [
    {
     "name": "stdout",
     "output_type": "stream",
     "text": [
      "Batch dataframe received:\n"
     ]
    },
    {
     "data": {
      "text/html": [
       "<table border='1'>\n",
       "<tr><th>sale_id</th><th>product_id</th><th>price</th><th>quantity</th><th>sale_datetime</th></tr>\n",
       "<tr><td>802c8edf-5204-41a...</td><td>4</td><td>683.00</td><td>3</td><td>2022-11-29 05:34:34</td></tr>\n",
       "<tr><td>eb4eeb9d-0db3-4c8...</td><td>4</td><td>923.00</td><td>5</td><td>2022-11-29 05:34:59</td></tr>\n",
       "<tr><td>2902cdc7-8601-483...</td><td>1</td><td>498.00</td><td>1</td><td>2022-11-29 05:54:39</td></tr>\n",
       "<tr><td>7462eca8-1c82-480...</td><td>4</td><td>586.00</td><td>3</td><td>2022-11-29 05:56:15</td></tr>\n",
       "<tr><td>8c16c051-a0c7-482...</td><td>2</td><td>654.00</td><td>4</td><td>2022-11-29 05:58:22</td></tr>\n",
       "<tr><td>c24d8880-dbba-480...</td><td>4</td><td>442.00</td><td>3</td><td>2022-11-29 06:00:21</td></tr>\n",
       "<tr><td>554de741-18bc-489...</td><td>3</td><td>638.00</td><td>3</td><td>2022-11-29 06:19:20</td></tr>\n",
       "<tr><td>ed7f28ca-6221-4dc...</td><td>2</td><td>873.00</td><td>5</td><td>2022-11-29 06:20:00</td></tr>\n",
       "<tr><td>4ecb2cc1-fcf9-45f...</td><td>1</td><td>155.00</td><td>3</td><td>2022-11-29 06:35:47</td></tr>\n",
       "<tr><td>02e40608-afcd-4d4...</td><td>2</td><td>873.00</td><td>3</td><td>2022-11-29 06:39:05</td></tr>\n",
       "<tr><td>6d411f6b-c4d9-4ea...</td><td>3</td><td>824.00</td><td>3</td><td>2022-11-29 06:39:51</td></tr>\n",
       "<tr><td>645215b5-f61a-469...</td><td>2</td><td>814.00</td><td>6</td><td>2022-11-29 06:40:10</td></tr>\n",
       "<tr><td>b55a1e3b-e7e2-463...</td><td>4</td><td>493.00</td><td>8</td><td>2022-11-29 06:41:10</td></tr>\n",
       "<tr><td>3d0e2c95-468d-466...</td><td>1</td><td>747.00</td><td>2</td><td>2022-11-29 06:41:18</td></tr>\n",
       "<tr><td>b287bb70-3720-4f8...</td><td>3</td><td>737.00</td><td>2</td><td>2022-11-29 06:42:02</td></tr>\n",
       "</table>\n"
      ],
      "text/plain": [
       "+--------------------+----------+------+--------+-------------------+\n",
       "|             sale_id|product_id| price|quantity|      sale_datetime|\n",
       "+--------------------+----------+------+--------+-------------------+\n",
       "|802c8edf-5204-41a...|         4|683.00|       3|2022-11-29 05:34:34|\n",
       "|eb4eeb9d-0db3-4c8...|         4|923.00|       5|2022-11-29 05:34:59|\n",
       "|2902cdc7-8601-483...|         1|498.00|       1|2022-11-29 05:54:39|\n",
       "|7462eca8-1c82-480...|         4|586.00|       3|2022-11-29 05:56:15|\n",
       "|8c16c051-a0c7-482...|         2|654.00|       4|2022-11-29 05:58:22|\n",
       "|c24d8880-dbba-480...|         4|442.00|       3|2022-11-29 06:00:21|\n",
       "|554de741-18bc-489...|         3|638.00|       3|2022-11-29 06:19:20|\n",
       "|ed7f28ca-6221-4dc...|         2|873.00|       5|2022-11-29 06:20:00|\n",
       "|4ecb2cc1-fcf9-45f...|         1|155.00|       3|2022-11-29 06:35:47|\n",
       "|02e40608-afcd-4d4...|         2|873.00|       3|2022-11-29 06:39:05|\n",
       "|6d411f6b-c4d9-4ea...|         3|824.00|       3|2022-11-29 06:39:51|\n",
       "|645215b5-f61a-469...|         2|814.00|       6|2022-11-29 06:40:10|\n",
       "|b55a1e3b-e7e2-463...|         4|493.00|       8|2022-11-29 06:41:10|\n",
       "|3d0e2c95-468d-466...|         1|747.00|       2|2022-11-29 06:41:18|\n",
       "|b287bb70-3720-4f8...|         3|737.00|       2|2022-11-29 06:42:02|\n",
       "+--------------------+----------+------+--------+-------------------+"
      ]
     },
     "metadata": {},
     "output_type": "display_data"
    },
    {
     "name": "stdout",
     "output_type": "stream",
     "text": [
      "Total sales dataframe:\n"
     ]
    },
    {
     "name": "stderr",
     "output_type": "stream",
     "text": [
      "                                                                                \r"
     ]
    },
    {
     "data": {
      "text/html": [
       "<table border='1'>\n",
       "<tr><th>product_id</th><th>total_sales</th></tr>\n",
       "<tr><td>3</td><td>5860.00</td></tr>\n",
       "<tr><td>1</td><td>2457.00</td></tr>\n",
       "<tr><td>4</td><td>13692.00</td></tr>\n",
       "<tr><td>2</td><td>14484.00</td></tr>\n",
       "</table>\n"
      ],
      "text/plain": [
       "+----------+-----------+\n",
       "|product_id|total_sales|\n",
       "+----------+-----------+\n",
       "|         3|    5860.00|\n",
       "|         1|    2457.00|\n",
       "|         4|   13692.00|\n",
       "|         2|   14484.00|\n",
       "+----------+-----------+"
      ]
     },
     "metadata": {},
     "output_type": "display_data"
    },
    {
     "name": "stderr",
     "output_type": "stream",
     "text": [
      "                                                                                \r"
     ]
    }
   ],
   "source": [
    "from pyspark.sql.types import StructType, ArrayType, StructField, StringType, DecimalType, IntegerType, TimestampType\n",
    "\n",
    "\n",
    "def total_sales(batch_df, batch_id):\n",
    "    \n",
    "    print(\"Batch dataframe received:\")\n",
    "    display(batch_df)\n",
    "    \n",
    "    total_sales_df = (\n",
    "        total_sales_node\n",
    "        .run(inputs = {\n",
    "            Spark(\"sales\"): batch_df\n",
    "        })\n",
    "    )\n",
    "    \n",
    "    print(\"Total sales dataframe:\")\n",
    "    display(total_sales_df)\n",
    "    \n",
    "    (\n",
    "      total_sales_df\n",
    "      .write\n",
    "      .format('delta')\n",
    "      .mode('append')\n",
    "      .saveAsTable(\"total_sales\")\n",
    "    )\n",
    "    \n",
    "    return total_sales_df\n",
    "\n",
    "\n",
    "\n",
    "\n",
    "# Create Stream\n",
    "json_schema = StructType([\n",
    "    StructField(\"sale_id\", StringType(), True),\n",
    "    StructField(\"product_id\", StringType(), True),\n",
    "    StructField(\"price\", DecimalType(18,2), True),\n",
    "    StructField(\"quantity\", IntegerType(), True),\n",
    "    StructField(\"sale_datetime\", TimestampType(), True),\n",
    "])\n",
    "\n",
    "\n",
    "(\n",
    "  spark\n",
    "  .readStream\n",
    "  .json(JSON_LOCATION, schema=json_schema)\n",
    "  .writeStream\n",
    "  .trigger(availableNow=True)\n",
    "  .option(\"checkpointLocation\", \"./tmp/stream/_checkpoints/\")\n",
    "  .foreachBatch(total_sales)\n",
    "  .start()\n",
    ")\n",
    "\n",
    "# Waitting process\n",
    "from time import sleep\n",
    "\n",
    "while True:\n",
    "    try:\n",
    "        spark.sql(\"select * from total_sales\")\n",
    "        break\n",
    "    except Exception as e:\n",
    "        sleep(2)"
   ]
  },
  {
   "cell_type": "code",
   "execution_count": 5,
   "id": "5b1d7803-e329-4ee3-a482-da0f14029e4a",
   "metadata": {},
   "outputs": [
    {
     "data": {
      "text/html": [
       "<table border='1'>\n",
       "<tr><th>product_id</th><th>total_sales</th></tr>\n",
       "<tr><td>2</td><td>14484.00</td></tr>\n",
       "<tr><td>3</td><td>5860.00</td></tr>\n",
       "<tr><td>4</td><td>13692.00</td></tr>\n",
       "<tr><td>1</td><td>2457.00</td></tr>\n",
       "</table>\n"
      ],
      "text/plain": [
       "+----------+-----------+\n",
       "|product_id|total_sales|\n",
       "+----------+-----------+\n",
       "|         2|   14484.00|\n",
       "|         3|    5860.00|\n",
       "|         4|   13692.00|\n",
       "|         1|    2457.00|\n",
       "+----------+-----------+"
      ]
     },
     "metadata": {},
     "output_type": "display_data"
    }
   ],
   "source": [
    "display(spark.sql(\"select * from total_sales\"))"
   ]
  }
 ],
 "metadata": {
  "kernelspec": {
   "display_name": "Python 3 (ipykernel)",
   "language": "python",
   "name": "python3"
  },
  "language_info": {
   "codemirror_mode": {
    "name": "ipython",
    "version": 3
   },
   "file_extension": ".py",
   "mimetype": "text/x-python",
   "name": "python",
   "nbconvert_exporter": "python",
   "pygments_lexer": "ipython3",
   "version": "3.9.5"
  }
 },
 "nbformat": 4,
 "nbformat_minor": 5
}
