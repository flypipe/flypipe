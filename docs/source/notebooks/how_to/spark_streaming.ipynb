{
 "cells": [
  {
   "cell_type": "markdown",
   "id": "09a30792-ced0-4190-b38c-aed23268ff64",
   "metadata": {},
   "source": [
    "# Spark Streaming\n"
   ]
  },
  {
   "cell_type": "markdown",
   "id": "0dafede5-9356-4193-809e-13d086a38ac3",
   "metadata": {},
   "source": [
    "## title 2"
   ]
  },
  {
   "cell_type": "code",
   "execution_count": 1,
   "id": "e52a32ba-6508-4581-a361-aac3d246bbd7",
   "metadata": {},
   "outputs": [],
   "source": [
    "import shutil\n",
    "\n",
    "spark.sql(\"drop table if exists total_sales\")\n",
    "shutil.rmtree(\"/spark-warehouse/total_sales\", ignore_errors=True)\n",
    "shutil.rmtree(\"./tmp/stream/_checkpoints\", ignore_errors=True)\n",
    "shutil.rmtree(\"./tmp/stream/json\", ignore_errors=True)"
   ]
  },
  {
   "cell_type": "code",
   "execution_count": 2,
   "id": "c9a70d0f-93b4-4959-be2a-7fc10b760f12",
   "metadata": {},
   "outputs": [
    {
     "name": "stdout",
     "output_type": "stream",
     "text": [
      "Added ./tmp/stream/json/54b2a9b8-dafd-4ca0-8629-30760ac91c3b.json\n",
      "Added ./tmp/stream/json/9d29b975-f35e-4239-9a7b-d2a6d8b5e820.json\n",
      "Added ./tmp/stream/json/e1b29230-e96c-4068-a707-4d0c4286b7c6.json\n",
      "Added ./tmp/stream/json/0c346cc4-2bec-4454-b1be-bf9b17f86310.json\n",
      "Added ./tmp/stream/json/12643850-ff04-43d4-a5fc-4b35d58b9269.json\n",
      "Added ./tmp/stream/json/697e9e13-094f-4111-af71-5b059e52eac6.json\n",
      "Added ./tmp/stream/json/11b3f107-de61-4427-bad6-e888b22155e2.json\n",
      "Added ./tmp/stream/json/073b6134-af33-48cf-90ee-fea72e3c48ed.json\n",
      "Added ./tmp/stream/json/db8cb76b-3a2c-41e7-ae4d-527a84748555.json\n",
      "Added ./tmp/stream/json/fb33ae14-8c25-4ce3-8fac-ccdf7a6070ca.json\n"
     ]
    }
   ],
   "source": [
    "import json\n",
    "from time import time\n",
    "import os\n",
    "import uuid\n",
    "import random\n",
    "\n",
    "JSON_LOCATION = \"./tmp/stream/json\"\n",
    "\n",
    "os.makedirs(JSON_LOCATION, exist_ok=True)\n",
    "\n",
    "def add_sale(quantity):\n",
    "    \n",
    "    for _ in range(quantity):\n",
    "        sale_id = str(uuid.uuid4())\n",
    "        out_file = open(f\"{JSON_LOCATION}/{sale_id}.json\", \"w\")\n",
    "        \n",
    "        data = {\n",
    "            'sale_id': sale_id,\n",
    "            'product_id': random.randrange(1, 5, 1),\n",
    "            'price': random.randrange(100, 1000, 1),\n",
    "            'quantity': random.randrange(1, 10, 1),\n",
    "            'sale_datetime': int(time())\n",
    "        }\n",
    "\n",
    "        json.dump(data, out_file)\n",
    "        \n",
    "        print(f\"Added {JSON_LOCATION}/{sale_id}.json\")\n",
    "        \n",
    "add_sale(10)\n"
   ]
  },
  {
   "cell_type": "code",
   "execution_count": 3,
   "id": "f1885109-b75b-41f6-b553-e2c88d7f8a43",
   "metadata": {},
   "outputs": [],
   "source": [
    "from flypipe import node\n",
    "from flypipe.schema import Schema, Column\n",
    "from flypipe.schema.types import Decimal, String\n",
    "from flypipe.datasource.spark import Spark\n",
    "import pyspark.sql.functions as F\n",
    "@node(\n",
    "    type=\"pyspark\",\n",
    "    dependencies=[\n",
    "        Spark(\"sales\")\n",
    "    ],\n",
    "    output=Schema(\n",
    "     Column(\"product_id\", String(), \"product identifier\"),   \n",
    "     Column(\"total_sales\", Decimal(18,2), \"total sales amount\"),\n",
    "    )\n",
    ")\n",
    "def total_sales_node(sales):\n",
    "    df = sales.groupBy(\"product_id\").agg(F.sum(F.col(\"price\") * F.col(\"quantity\")).alias(\"total_sales\"))\n",
    "    return df"
   ]
  },
  {
   "cell_type": "code",
   "execution_count": 4,
   "id": "79976ae3-9cdd-4d55-bc95-3c82dc721a56",
   "metadata": {},
   "outputs": [
    {
     "name": "stdout",
     "output_type": "stream",
     "text": [
      "Batch dataframe received:\n"
     ]
    },
    {
     "data": {
      "text/html": [
       "<table border='1'>\n",
       "<tr><th>sale_id</th><th>product_id</th><th>price</th><th>quantity</th><th>sale_datetime</th></tr>\n",
       "<tr><td>54b2a9b8-dafd-4ca...</td><td>2</td><td>806.00</td><td>8</td><td>2022-11-29 06:45:42</td></tr>\n",
       "<tr><td>9d29b975-f35e-423...</td><td>1</td><td>458.00</td><td>1</td><td>2022-11-29 06:45:42</td></tr>\n",
       "<tr><td>e1b29230-e96c-406...</td><td>4</td><td>845.00</td><td>6</td><td>2022-11-29 06:45:42</td></tr>\n",
       "<tr><td>0c346cc4-2bec-445...</td><td>4</td><td>744.00</td><td>8</td><td>2022-11-29 06:45:42</td></tr>\n",
       "<tr><td>12643850-ff04-43d...</td><td>3</td><td>649.00</td><td>3</td><td>2022-11-29 06:45:42</td></tr>\n",
       "<tr><td>697e9e13-094f-411...</td><td>2</td><td>341.00</td><td>6</td><td>2022-11-29 06:45:42</td></tr>\n",
       "<tr><td>11b3f107-de61-442...</td><td>1</td><td>794.00</td><td>4</td><td>2022-11-29 06:45:42</td></tr>\n",
       "<tr><td>073b6134-af33-48c...</td><td>4</td><td>185.00</td><td>2</td><td>2022-11-29 06:45:42</td></tr>\n",
       "<tr><td>db8cb76b-3a2c-41e...</td><td>3</td><td>427.00</td><td>3</td><td>2022-11-29 06:45:42</td></tr>\n",
       "<tr><td>fb33ae14-8c25-4ce...</td><td>4</td><td>972.00</td><td>8</td><td>2022-11-29 06:45:42</td></tr>\n",
       "</table>\n"
      ],
      "text/plain": [
       "+--------------------+----------+------+--------+-------------------+\n",
       "|             sale_id|product_id| price|quantity|      sale_datetime|\n",
       "+--------------------+----------+------+--------+-------------------+\n",
       "|54b2a9b8-dafd-4ca...|         2|806.00|       8|2022-11-29 06:45:42|\n",
       "|9d29b975-f35e-423...|         1|458.00|       1|2022-11-29 06:45:42|\n",
       "|e1b29230-e96c-406...|         4|845.00|       6|2022-11-29 06:45:42|\n",
       "|0c346cc4-2bec-445...|         4|744.00|       8|2022-11-29 06:45:42|\n",
       "|12643850-ff04-43d...|         3|649.00|       3|2022-11-29 06:45:42|\n",
       "|697e9e13-094f-411...|         2|341.00|       6|2022-11-29 06:45:42|\n",
       "|11b3f107-de61-442...|         1|794.00|       4|2022-11-29 06:45:42|\n",
       "|073b6134-af33-48c...|         4|185.00|       2|2022-11-29 06:45:42|\n",
       "|db8cb76b-3a2c-41e...|         3|427.00|       3|2022-11-29 06:45:42|\n",
       "|fb33ae14-8c25-4ce...|         4|972.00|       8|2022-11-29 06:45:42|\n",
       "+--------------------+----------+------+--------+-------------------+"
      ]
     },
     "metadata": {},
     "output_type": "display_data"
    },
    {
     "name": "stdout",
     "output_type": "stream",
     "text": [
      "Total sales dataframe:\n"
     ]
    },
    {
     "name": "stderr",
     "output_type": "stream",
     "text": [
      "                                                                                \r"
     ]
    },
    {
     "data": {
      "text/html": [
       "<table border='1'>\n",
       "<tr><th>product_id</th><th>total_sales</th></tr>\n",
       "<tr><td>3</td><td>3228.00</td></tr>\n",
       "<tr><td>1</td><td>3634.00</td></tr>\n",
       "<tr><td>4</td><td>19168.00</td></tr>\n",
       "<tr><td>2</td><td>8494.00</td></tr>\n",
       "</table>\n"
      ],
      "text/plain": [
       "+----------+-----------+\n",
       "|product_id|total_sales|\n",
       "+----------+-----------+\n",
       "|         3|    3228.00|\n",
       "|         1|    3634.00|\n",
       "|         4|   19168.00|\n",
       "|         2|    8494.00|\n",
       "+----------+-----------+"
      ]
     },
     "metadata": {},
     "output_type": "display_data"
    },
    {
     "name": "stderr",
     "output_type": "stream",
     "text": [
      "                                                                                \r"
     ]
    }
   ],
   "source": [
    "from pyspark.sql.types import StructType, ArrayType, StructField, StringType, DecimalType, IntegerType, TimestampType\n",
    "\n",
    "\n",
    "def total_sales(batch_df, batch_id):\n",
    "    \n",
    "    print(\"Batch dataframe received:\")\n",
    "    display(batch_df)\n",
    "    \n",
    "    total_sales_df = (\n",
    "        total_sales_node\n",
    "        .run(inputs = {\n",
    "            Spark(\"sales\"): batch_df\n",
    "        })\n",
    "    )\n",
    "    \n",
    "    print(\"Total sales dataframe:\")\n",
    "    display(total_sales_df)\n",
    "    \n",
    "    (\n",
    "      total_sales_df\n",
    "      .write\n",
    "      .format('delta')\n",
    "      .mode('overwrite')\n",
    "      .saveAsTable(\"total_sales\")\n",
    "    )\n",
    "    \n",
    "    return total_sales_df\n",
    "\n",
    "\n",
    "\n",
    "\n",
    "# Create Stream\n",
    "json_schema = StructType([\n",
    "    StructField(\"sale_id\", StringType(), True),\n",
    "    StructField(\"product_id\", StringType(), True),\n",
    "    StructField(\"price\", DecimalType(18,2), True),\n",
    "    StructField(\"quantity\", IntegerType(), True),\n",
    "    StructField(\"sale_datetime\", TimestampType(), True),\n",
    "])\n",
    "\n",
    "\n",
    "(\n",
    "  spark\n",
    "  .readStream\n",
    "  .json(JSON_LOCATION, schema=json_schema)\n",
    "  .writeStream\n",
    "  .trigger(availableNow=True)\n",
    "  .option(\"checkpointLocation\", \"./tmp/stream/_checkpoints/\")\n",
    "  .foreachBatch(total_sales)\n",
    "  .start()\n",
    ")\n",
    "\n",
    "# Waitting process\n",
    "from time import sleep\n",
    "\n",
    "while True:\n",
    "    try:\n",
    "        spark.sql(\"select * from total_sales\")\n",
    "        break\n",
    "    except Exception as e:\n",
    "        sleep(2)"
   ]
  },
  {
   "cell_type": "code",
   "execution_count": 5,
   "id": "5b1d7803-e329-4ee3-a482-da0f14029e4a",
   "metadata": {},
   "outputs": [
    {
     "data": {
      "text/html": [
       "<table border='1'>\n",
       "<tr><th>product_id</th><th>total_sales</th></tr>\n",
       "<tr><td>3</td><td>3228.00</td></tr>\n",
       "<tr><td>1</td><td>3634.00</td></tr>\n",
       "<tr><td>4</td><td>19168.00</td></tr>\n",
       "<tr><td>2</td><td>8494.00</td></tr>\n",
       "</table>\n"
      ],
      "text/plain": [
       "+----------+-----------+\n",
       "|product_id|total_sales|\n",
       "+----------+-----------+\n",
       "|         3|    3228.00|\n",
       "|         1|    3634.00|\n",
       "|         4|   19168.00|\n",
       "|         2|    8494.00|\n",
       "+----------+-----------+"
      ]
     },
     "metadata": {},
     "output_type": "display_data"
    }
   ],
   "source": [
    "display(spark.sql(\"select * from total_sales\"))"
   ]
  }
 ],
 "metadata": {
  "kernelspec": {
   "display_name": "Python 3 (ipykernel)",
   "language": "python",
   "name": "python3"
  },
  "language_info": {
   "codemirror_mode": {
    "name": "ipython",
    "version": 3
   },
   "file_extension": ".py",
   "mimetype": "text/x-python",
   "name": "python",
   "nbconvert_exporter": "python",
   "pygments_lexer": "ipython3",
   "version": "3.9.5"
  }
 },
 "nbformat": 4,
 "nbformat_minor": 5
}
