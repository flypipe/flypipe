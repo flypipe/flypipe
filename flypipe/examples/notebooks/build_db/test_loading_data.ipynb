{
 "cells": [
  {
   "cell_type": "markdown",
   "id": "d8c347d2-e3f6-4470-9bc2-dd7ecfb0d056",
   "metadata": {},
   "source": [
    "## List Databases"
   ]
  },
  {
   "cell_type": "code",
   "execution_count": 1,
   "id": "eebf3d29-451d-4b5e-9e39-1814cb16c84e",
   "metadata": {},
   "outputs": [
    {
     "name": "stderr",
     "output_type": "stream",
     "text": [
      "Warning: Ignoring non-Spark config property: hive.metastore.uris\n",
      "WARNING: An illegal reflective access operation has occurred\n",
      "WARNING: Illegal reflective access by org.apache.spark.unsafe.Platform (file:/opt/spark/jars/spark-unsafe_2.12-3.2.2.jar) to constructor java.nio.DirectByteBuffer(long,int)\n",
      "WARNING: Please consider reporting this to the maintainers of org.apache.spark.unsafe.Platform\n",
      "WARNING: Use --illegal-access=warn to enable warnings of further illegal reflective access operations\n",
      "WARNING: All illegal access operations will be denied in a future release\n",
      "Using Spark's default log4j profile: org/apache/spark/log4j-defaults.properties\n",
      "Setting default log level to \"WARN\".\n",
      "To adjust logging level use sc.setLogLevel(newLevel). For SparkR, use setLogLevel(newLevel).\n",
      "22/09/01 02:51:32 WARN NativeCodeLoader: Unable to load native-hadoop library for your platform... using builtin-java classes where applicable\n",
      "22/09/01 02:51:32 WARN Utils: Service 'SparkUI' could not bind on port 4040. Attempting port 4041.\n"
     ]
    },
    {
     "data": {
      "text/plain": [
       "[Database(name='default', description='Default Hive database', locationUri='hdfs://namenode:8020/user/hive/warehouse'),\n",
       " Database(name='raw_nyc_trip', description='', locationUri='file:/spark-warehouse/raw_nyc_trip.db')]"
      ]
     },
     "execution_count": 1,
     "metadata": {},
     "output_type": "execute_result"
    }
   ],
   "source": [
    "from flypipe.tests.spark import spark\n",
    "spark.catalog.listDatabases()"
   ]
  },
  {
   "cell_type": "markdown",
   "id": "97baaad6-b102-4758-b574-9132ccb9f6bd",
   "metadata": {},
   "source": [
    "## Query raw_nyc_trip.yellow_trip\""
   ]
  },
  {
   "cell_type": "code",
   "execution_count": 2,
   "id": "0b58cb76-21d8-4fbf-b508-f5f9335cc155",
   "metadata": {},
   "outputs": [
    {
     "name": "stderr",
     "output_type": "stream",
     "text": [
      "                                                                                \r"
     ]
    },
    {
     "name": "stdout",
     "output_type": "stream",
     "text": [
      "+--------+\n",
      "|count(1)|\n",
      "+--------+\n",
      "| 9071244|\n",
      "+--------+\n",
      "\n"
     ]
    },
    {
     "name": "stderr",
     "output_type": "stream",
     "text": [
      "                                                                                \r"
     ]
    },
    {
     "data": {
      "text/html": [
       "<table border='1'>\n",
       "<tr><th>VendorID</th><th>tpep_pickup_datetime</th><th>tpep_dropoff_datetime</th><th>passenger_count</th><th>trip_distance</th><th>RatecodeID</th><th>store_and_fwd_flag</th><th>PULocationID</th><th>DOLocationID</th><th>payment_type</th><th>fare_amount</th><th>extra</th><th>mta_tax</th><th>tip_amount</th><th>tolls_amount</th><th>improvement_surcharge</th><th>total_amount</th><th>congestion_surcharge</th><th>airport_fee</th></tr>\n",
       "<tr><td>1</td><td>2022-03-01 00:13:08</td><td>2022-03-01 00:24:35</td><td>1.0</td><td>2.4</td><td>1.0</td><td>N</td><td>90</td><td>209</td><td>2</td><td>10.0</td><td>3.0</td><td>0.5</td><td>0.0</td><td>0.0</td><td>0.3</td><td>13.8</td><td>2.5</td><td>0.0</td></tr>\n",
       "<tr><td>1</td><td>2022-03-01 00:47:52</td><td>2022-03-01 01:00:08</td><td>1.0</td><td>2.2</td><td>1.0</td><td>N</td><td>148</td><td>234</td><td>2</td><td>10.5</td><td>3.0</td><td>0.5</td><td>0.0</td><td>0.0</td><td>0.3</td><td>14.3</td><td>2.5</td><td>0.0</td></tr>\n",
       "<tr><td>2</td><td>2022-03-01 00:02:46</td><td>2022-03-01 00:46:43</td><td>1.0</td><td>19.78</td><td>2.0</td><td>N</td><td>132</td><td>249</td><td>1</td><td>52.0</td><td>0.0</td><td>0.5</td><td>11.06</td><td>0.0</td><td>0.3</td><td>67.61</td><td>2.5</td><td>1.25</td></tr>\n",
       "<tr><td>2</td><td>2022-03-01 00:52:43</td><td>2022-03-01 01:03:40</td><td>2.0</td><td>2.94</td><td>1.0</td><td>N</td><td>211</td><td>66</td><td>1</td><td>11.0</td><td>0.5</td><td>0.5</td><td>4.44</td><td>0.0</td><td>0.3</td><td>19.24</td><td>2.5</td><td>0.0</td></tr>\n",
       "<tr><td>2</td><td>2022-03-01 00:15:35</td><td>2022-03-01 00:34:13</td><td>1.0</td><td>8.57</td><td>1.0</td><td>N</td><td>138</td><td>197</td><td>1</td><td>25.0</td><td>0.5</td><td>0.5</td><td>5.51</td><td>0.0</td><td>0.3</td><td>33.06</td><td>0.0</td><td>1.25</td></tr>\n",
       "<tr><td>1</td><td>2022-03-01 00:11:57</td><td>2022-03-01 00:53:05</td><td>2.0</td><td>14.0</td><td>1.0</td><td>N</td><td>132</td><td>33</td><td>1</td><td>43.5</td><td>1.75</td><td>0.5</td><td>9.2</td><td>0.0</td><td>0.3</td><td>55.25</td><td>0.0</td><td>1.25</td></tr>\n",
       "<tr><td>2</td><td>2022-03-01 00:05:11</td><td>2022-03-01 00:08:22</td><td>1.0</td><td>0.61</td><td>1.0</td><td>N</td><td>166</td><td>151</td><td>1</td><td>4.5</td><td>0.5</td><td>0.5</td><td>1.0</td><td>0.0</td><td>0.3</td><td>6.8</td><td>0.0</td><td>0.0</td></tr>\n",
       "<tr><td>2</td><td>2022-03-01 00:30:56</td><td>2022-03-01 00:46:21</td><td>1.0</td><td>2.83</td><td>1.0</td><td>N</td><td>74</td><td>238</td><td>1</td><td>13.0</td><td>0.5</td><td>0.5</td><td>3.7</td><td>0.0</td><td>0.3</td><td>18.0</td><td>0.0</td><td>0.0</td></tr>\n",
       "<tr><td>2</td><td>2022-03-01 00:30:28</td><td>2022-03-01 00:30:36</td><td>1.0</td><td>0.1</td><td>1.0</td><td>N</td><td>145</td><td>145</td><td>3</td><td>-2.5</td><td>-0.5</td><td>-0.5</td><td>0.0</td><td>0.0</td><td>-0.3</td><td>-3.8</td><td>0.0</td><td>0.0</td></tr>\n",
       "<tr><td>2</td><td>2022-03-01 00:30:28</td><td>2022-03-01 00:30:36</td><td>1.0</td><td>0.1</td><td>1.0</td><td>N</td><td>145</td><td>145</td><td>2</td><td>2.5</td><td>0.5</td><td>0.5</td><td>0.0</td><td>0.0</td><td>0.3</td><td>3.8</td><td>0.0</td><td>0.0</td></tr>\n",
       "<tr><td>2</td><td>2022-03-01 00:34:25</td><td>2022-03-01 00:39:43</td><td>1.0</td><td>1.4</td><td>2.0</td><td>N</td><td>170</td><td>90</td><td>1</td><td>52.0</td><td>0.0</td><td>0.5</td><td>8.0</td><td>6.55</td><td>0.3</td><td>69.85</td><td>2.5</td><td>0.0</td></tr>\n",
       "<tr><td>2</td><td>2022-03-01 00:35:11</td><td>2022-03-01 01:20:33</td><td>1.0</td><td>14.48</td><td>1.0</td><td>N</td><td>132</td><td>97</td><td>1</td><td>45.5</td><td>0.5</td><td>0.5</td><td>9.36</td><td>0.0</td><td>0.3</td><td>57.41</td><td>0.0</td><td>1.25</td></tr>\n",
       "<tr><td>2</td><td>2022-03-01 00:59:02</td><td>2022-03-01 01:13:38</td><td>1.0</td><td>7.98</td><td>1.0</td><td>N</td><td>138</td><td>255</td><td>1</td><td>23.5</td><td>0.5</td><td>0.5</td><td>4.0</td><td>0.0</td><td>0.3</td><td>30.05</td><td>0.0</td><td>1.25</td></tr>\n",
       "<tr><td>2</td><td>2022-03-01 00:16:00</td><td>2022-03-01 00:36:46</td><td>1.0</td><td>3.48</td><td>1.0</td><td>N</td><td>179</td><td>226</td><td>2</td><td>16.0</td><td>0.5</td><td>0.5</td><td>0.0</td><td>0.0</td><td>0.3</td><td>17.3</td><td>0.0</td><td>0.0</td></tr>\n",
       "<tr><td>2</td><td>2022-03-01 00:57:18</td><td>2022-03-01 01:38:31</td><td>1.0</td><td>8.57</td><td>1.0</td><td>N</td><td>226</td><td>70</td><td>2</td><td>34.0</td><td>0.5</td><td>0.5</td><td>0.0</td><td>0.0</td><td>0.3</td><td>35.3</td><td>0.0</td><td>0.0</td></tr>\n",
       "<tr><td>2</td><td>2022-03-01 00:01:50</td><td>2022-03-01 00:17:53</td><td>1.0</td><td>7.56</td><td>1.0</td><td>N</td><td>138</td><td>256</td><td>1</td><td>23.5</td><td>0.5</td><td>0.5</td><td>6.2</td><td>0.0</td><td>0.3</td><td>32.25</td><td>0.0</td><td>1.25</td></tr>\n",
       "<tr><td>2</td><td>2022-03-01 01:03:05</td><td>2022-03-01 01:06:05</td><td>5.0</td><td>0.62</td><td>1.0</td><td>N</td><td>80</td><td>255</td><td>2</td><td>4.5</td><td>0.5</td><td>0.5</td><td>0.0</td><td>0.0</td><td>0.3</td><td>5.8</td><td>0.0</td><td>0.0</td></tr>\n",
       "<tr><td>2</td><td>2022-03-01 00:28:14</td><td>2022-03-01 00:43:11</td><td>2.0</td><td>4.33</td><td>1.0</td><td>N</td><td>211</td><td>142</td><td>1</td><td>15.0</td><td>0.5</td><td>0.5</td><td>3.76</td><td>0.0</td><td>0.3</td><td>22.56</td><td>2.5</td><td>0.0</td></tr>\n",
       "<tr><td>2</td><td>2022-03-01 00:35:49</td><td>2022-03-01 01:14:54</td><td>1.0</td><td>20.76</td><td>2.0</td><td>N</td><td>132</td><td>238</td><td>1</td><td>52.0</td><td>0.0</td><td>0.5</td><td>12.12</td><td>6.55</td><td>0.3</td><td>72.72</td><td>0.0</td><td>1.25</td></tr>\n",
       "<tr><td>2</td><td>2022-03-01 00:22:31</td><td>2022-03-01 00:30:49</td><td>2.0</td><td>1.45</td><td>1.0</td><td>N</td><td>148</td><td>231</td><td>1</td><td>7.5</td><td>0.5</td><td>0.5</td><td>2.26</td><td>0.0</td><td>0.3</td><td>13.56</td><td>2.5</td><td>0.0</td></tr>\n",
       "</table>\n",
       "only showing top 20 rows\n"
      ],
      "text/plain": [
       "+--------+--------------------+---------------------+---------------+-------------+----------+------------------+------------+------------+------------+-----------+-----+-------+----------+------------+---------------------+------------+--------------------+-----------+\n",
       "|VendorID|tpep_pickup_datetime|tpep_dropoff_datetime|passenger_count|trip_distance|RatecodeID|store_and_fwd_flag|PULocationID|DOLocationID|payment_type|fare_amount|extra|mta_tax|tip_amount|tolls_amount|improvement_surcharge|total_amount|congestion_surcharge|airport_fee|\n",
       "+--------+--------------------+---------------------+---------------+-------------+----------+------------------+------------+------------+------------+-----------+-----+-------+----------+------------+---------------------+------------+--------------------+-----------+\n",
       "|       1| 2022-03-01 00:13:08|  2022-03-01 00:24:35|            1.0|          2.4|       1.0|                 N|          90|         209|           2|       10.0|  3.0|    0.5|       0.0|         0.0|                  0.3|        13.8|                 2.5|        0.0|\n",
       "|       1| 2022-03-01 00:47:52|  2022-03-01 01:00:08|            1.0|          2.2|       1.0|                 N|         148|         234|           2|       10.5|  3.0|    0.5|       0.0|         0.0|                  0.3|        14.3|                 2.5|        0.0|\n",
       "|       2| 2022-03-01 00:02:46|  2022-03-01 00:46:43|            1.0|        19.78|       2.0|                 N|         132|         249|           1|       52.0|  0.0|    0.5|     11.06|         0.0|                  0.3|       67.61|                 2.5|       1.25|\n",
       "|       2| 2022-03-01 00:52:43|  2022-03-01 01:03:40|            2.0|         2.94|       1.0|                 N|         211|          66|           1|       11.0|  0.5|    0.5|      4.44|         0.0|                  0.3|       19.24|                 2.5|        0.0|\n",
       "|       2| 2022-03-01 00:15:35|  2022-03-01 00:34:13|            1.0|         8.57|       1.0|                 N|         138|         197|           1|       25.0|  0.5|    0.5|      5.51|         0.0|                  0.3|       33.06|                 0.0|       1.25|\n",
       "|       1| 2022-03-01 00:11:57|  2022-03-01 00:53:05|            2.0|         14.0|       1.0|                 N|         132|          33|           1|       43.5| 1.75|    0.5|       9.2|         0.0|                  0.3|       55.25|                 0.0|       1.25|\n",
       "|       2| 2022-03-01 00:05:11|  2022-03-01 00:08:22|            1.0|         0.61|       1.0|                 N|         166|         151|           1|        4.5|  0.5|    0.5|       1.0|         0.0|                  0.3|         6.8|                 0.0|        0.0|\n",
       "|       2| 2022-03-01 00:30:56|  2022-03-01 00:46:21|            1.0|         2.83|       1.0|                 N|          74|         238|           1|       13.0|  0.5|    0.5|       3.7|         0.0|                  0.3|        18.0|                 0.0|        0.0|\n",
       "|       2| 2022-03-01 00:30:28|  2022-03-01 00:30:36|            1.0|          0.1|       1.0|                 N|         145|         145|           3|       -2.5| -0.5|   -0.5|       0.0|         0.0|                 -0.3|        -3.8|                 0.0|        0.0|\n",
       "|       2| 2022-03-01 00:30:28|  2022-03-01 00:30:36|            1.0|          0.1|       1.0|                 N|         145|         145|           2|        2.5|  0.5|    0.5|       0.0|         0.0|                  0.3|         3.8|                 0.0|        0.0|\n",
       "|       2| 2022-03-01 00:34:25|  2022-03-01 00:39:43|            1.0|          1.4|       2.0|                 N|         170|          90|           1|       52.0|  0.0|    0.5|       8.0|        6.55|                  0.3|       69.85|                 2.5|        0.0|\n",
       "|       2| 2022-03-01 00:35:11|  2022-03-01 01:20:33|            1.0|        14.48|       1.0|                 N|         132|          97|           1|       45.5|  0.5|    0.5|      9.36|         0.0|                  0.3|       57.41|                 0.0|       1.25|\n",
       "|       2| 2022-03-01 00:59:02|  2022-03-01 01:13:38|            1.0|         7.98|       1.0|                 N|         138|         255|           1|       23.5|  0.5|    0.5|       4.0|         0.0|                  0.3|       30.05|                 0.0|       1.25|\n",
       "|       2| 2022-03-01 00:16:00|  2022-03-01 00:36:46|            1.0|         3.48|       1.0|                 N|         179|         226|           2|       16.0|  0.5|    0.5|       0.0|         0.0|                  0.3|        17.3|                 0.0|        0.0|\n",
       "|       2| 2022-03-01 00:57:18|  2022-03-01 01:38:31|            1.0|         8.57|       1.0|                 N|         226|          70|           2|       34.0|  0.5|    0.5|       0.0|         0.0|                  0.3|        35.3|                 0.0|        0.0|\n",
       "|       2| 2022-03-01 00:01:50|  2022-03-01 00:17:53|            1.0|         7.56|       1.0|                 N|         138|         256|           1|       23.5|  0.5|    0.5|       6.2|         0.0|                  0.3|       32.25|                 0.0|       1.25|\n",
       "|       2| 2022-03-01 01:03:05|  2022-03-01 01:06:05|            5.0|         0.62|       1.0|                 N|          80|         255|           2|        4.5|  0.5|    0.5|       0.0|         0.0|                  0.3|         5.8|                 0.0|        0.0|\n",
       "|       2| 2022-03-01 00:28:14|  2022-03-01 00:43:11|            2.0|         4.33|       1.0|                 N|         211|         142|           1|       15.0|  0.5|    0.5|      3.76|         0.0|                  0.3|       22.56|                 2.5|        0.0|\n",
       "|       2| 2022-03-01 00:35:49|  2022-03-01 01:14:54|            1.0|        20.76|       2.0|                 N|         132|         238|           1|       52.0|  0.0|    0.5|     12.12|        6.55|                  0.3|       72.72|                 0.0|       1.25|\n",
       "|       2| 2022-03-01 00:22:31|  2022-03-01 00:30:49|            2.0|         1.45|       1.0|                 N|         148|         231|           1|        7.5|  0.5|    0.5|      2.26|         0.0|                  0.3|       13.56|                 2.5|        0.0|\n",
       "+--------+--------------------+---------------------+---------------+-------------+----------+------------------+------------+------------+------------+-----------+-----+-------+----------+------------+---------------------+------------+--------------------+-----------+\n",
       "only showing top 20 rows"
      ]
     },
     "execution_count": 2,
     "metadata": {},
     "output_type": "execute_result"
    }
   ],
   "source": [
    "print(spark.sql(\"select count(*) from raw_nyc_trip.yellow_trip\"))\n",
    "spark.sql(\"select * from raw_nyc_trip.yellow_trip\")"
   ]
  },
  {
   "cell_type": "code",
   "execution_count": 3,
   "id": "81fd8154-31b3-4e97-8904-602493c12524",
   "metadata": {},
   "outputs": [
    {
     "name": "stdout",
     "output_type": "stream",
     "text": [
      "Collecting tabulate\n",
      "  Downloading tabulate-0.9.0-py3-none-any.whl (35 kB)\n",
      "Installing collected packages: tabulate\n",
      "Successfully installed tabulate-0.9.0\n",
      "\u001b[33mWARNING: Running pip as the 'root' user can result in broken permissions and conflicting behaviour with the system package manager. It is recommended to use a virtual environment instead: https://pip.pypa.io/warnings/venv\u001b[0m\u001b[33m\n",
      "\u001b[0mNote: you may need to restart the kernel to use updated packages.\n"
     ]
    }
   ],
   "source": [
    "%pip install tabulate"
   ]
  },
  {
   "cell_type": "code",
   "execution_count": 24,
   "id": "c1f14271-9309-4400-a5d8-683f6ccefeb9",
   "metadata": {},
   "outputs": [
    {
     "data": {
      "text/html": [
       "\n",
       "        <iframe\n",
       "            width=\"1000\"\n",
       "            height=\"1000\"\n",
       "            src=\"_static/test.html\"\n",
       "            frameborder=\"0\"\n",
       "            allowfullscreen\n",
       "            \n",
       "        ></iframe>\n",
       "        "
      ],
      "text/plain": [
       "<IPython.lib.display.IFrame at 0x7f87a8579a90>"
      ]
     },
     "execution_count": 24,
     "metadata": {},
     "output_type": "execute_result"
    }
   ],
   "source": [
    "from IPython.display import display, HTML\n",
    "from IPython.display import IFrame\n",
    "IFrame(\"_static/test.html\", width=1000, height=1000)"
   ]
  }
 ],
 "metadata": {
  "kernelspec": {
   "display_name": "Python 3 (ipykernel)",
   "language": "python",
   "name": "python3"
  },
  "language_info": {
   "codemirror_mode": {
    "name": "ipython",
    "version": 3
   },
   "file_extension": ".py",
   "mimetype": "text/x-python",
   "name": "python",
   "nbconvert_exporter": "python",
   "pygments_lexer": "ipython3",
   "version": "3.9.5"
  }
 },
 "nbformat": 4,
 "nbformat_minor": 5
}
