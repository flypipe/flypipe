{
 "cells": [
  {
   "cell_type": "markdown",
   "id": "25618586",
   "metadata": {},
   "source": [
    "## Download data from NYC TLC Trip Record Data\n",
    "\n",
    "https://www1.nyc.gov/site/tlc/about/tlc-trip-record-data.page"
   ]
  },
  {
   "cell_type": "code",
   "execution_count": 1,
   "id": "28a38f1c",
   "metadata": {},
   "outputs": [
    {
     "name": "stdout",
     "output_type": "stream",
     "text": [
      "Collecting wget\n",
      "  Downloading wget-3.2.zip (10 kB)\n",
      "  Preparing metadata (setup.py) ... \u001b[?25ldone\n",
      "\u001b[?25hBuilding wheels for collected packages: wget\n",
      "  Building wheel for wget (setup.py) ... \u001b[?25ldone\n",
      "\u001b[?25h  Created wheel for wget: filename=wget-3.2-py3-none-any.whl size=9673 sha256=fd5a4728e530490b5dff80b996f02ef67b24f0948b6d336ac9a3f6faa8043db3\n",
      "  Stored in directory: /root/.cache/pip/wheels/ba/78/fb/e0c24a9e73d7483b073d15b7e05f43f3fc2ac75eff6899c7aa\n",
      "Successfully built wget\n",
      "Installing collected packages: wget\n",
      "Successfully installed wget-3.2\n",
      "\u001b[33mWARNING: Running pip as the 'root' user can result in broken permissions and conflicting behaviour with the system package manager. It is recommended to use a virtual environment instead: https://pip.pypa.io/warnings/venv\u001b[0m\u001b[33m\n",
      "\u001b[0mNote: you may need to restart the kernel to use updated packages.\n"
     ]
    }
   ],
   "source": [
    "%pip install wget"
   ]
  },
  {
   "cell_type": "code",
   "execution_count": 2,
   "id": "909dda53",
   "metadata": {},
   "outputs": [
    {
     "name": "stdout",
     "output_type": "stream",
     "text": [
      "Downloading https://d37ci6vzurychx.cloudfront.net/trip-data/yellow_tripdata_2022-01.parquet...\n",
      "Downloading https://d37ci6vzurychx.cloudfront.net/trip-data/yellow_tripdata_2022-02.parquet...\n",
      "Downloading https://d37ci6vzurychx.cloudfront.net/trip-data/yellow_tripdata_2022-03.parquet...\n"
     ]
    }
   ],
   "source": [
    "import wget\n",
    "import os\n",
    "import shutil\n",
    "path = \"/data/\"\n",
    "\n",
    "urls = [\n",
    "    'https://d37ci6vzurychx.cloudfront.net/trip-data/yellow_tripdata_2022-01.parquet',\n",
    "    'https://d37ci6vzurychx.cloudfront.net/trip-data/yellow_tripdata_2022-02.parquet',\n",
    "    'https://d37ci6vzurychx.cloudfront.net/trip-data/yellow_tripdata_2022-03.parquet'\n",
    "]\n",
    "\n",
    "for url in urls:\n",
    "    if os.path.exists(os.path.join(path, url.split(\"/\")[-1])):\n",
    "        continue\n",
    "    print(f\"Downloading {url}...\")\n",
    "    file_name = wget.download(url)\n",
    "    shutil.move(file_name, os.path.join(path,  file_name))  "
   ]
  },
  {
   "cell_type": "markdown",
   "id": "1d0f7c9c-67c0-425c-b3e0-f7ba11d090ed",
   "metadata": {},
   "source": [
    "## Auto reload libraries"
   ]
  },
  {
   "cell_type": "code",
   "execution_count": 3,
   "id": "26c4f586-c955-4849-aef5-d9115cdea88a",
   "metadata": {},
   "outputs": [],
   "source": [
    "%load_ext autoreload\n",
    "%autoreload 2"
   ]
  },
  {
   "cell_type": "markdown",
   "id": "9572e912-87c8-41cf-9db0-f097301f4457",
   "metadata": {},
   "source": [
    "## Initialise spark"
   ]
  },
  {
   "cell_type": "code",
   "execution_count": 4,
   "id": "ded0f2cc-3b59-4f89-89c8-fcc7a009bb9c",
   "metadata": {},
   "outputs": [
    {
     "name": "stderr",
     "output_type": "stream",
     "text": [
      "Warning: Ignoring non-Spark config property: hive.metastore.uris\n",
      "Setting default log level to \"WARN\".\n",
      "To adjust logging level use sc.setLogLevel(newLevel). For SparkR, use setLogLevel(newLevel).\n"
     ]
    },
    {
     "name": "stdout",
     "output_type": "stream",
     "text": [
      "22/11/22 04:02:44 WARN NativeCodeLoader: Unable to load native-hadoop library for your platform... using builtin-java classes where applicable\n"
     ]
    }
   ],
   "source": [
    "from flypipe.tests.spark import spark"
   ]
  },
  {
   "cell_type": "markdown",
   "id": "6b7c2939-47a1-445b-8bc5-647647b4990e",
   "metadata": {},
   "source": [
    "## Create database"
   ]
  },
  {
   "cell_type": "code",
   "execution_count": 5,
   "id": "1fb611f0-df6f-4a50-b564-a289fa87f66c",
   "metadata": {},
   "outputs": [
    {
     "data": {
      "text/html": [
       "<table border='1'>\n",
       "<tr><th>namespace</th></tr>\n",
       "<tr><td>default</td></tr>\n",
       "<tr><td>raw_nyc_trip</td></tr>\n",
       "</table>\n"
      ],
      "text/plain": [
       "+------------+\n",
       "|   namespace|\n",
       "+------------+\n",
       "|     default|\n",
       "|raw_nyc_trip|\n",
       "+------------+"
      ]
     },
     "execution_count": 5,
     "metadata": {},
     "output_type": "execute_result"
    }
   ],
   "source": [
    "spark.sql(\"drop database if exists raw_nyc_trip cascade\")\n",
    "spark.sql(\"create database raw_nyc_trip\")\n",
    "spark.sql(\"show databases\")"
   ]
  },
  {
   "cell_type": "markdown",
   "id": "3ba9eef6",
   "metadata": {},
   "source": [
    "## Load data into PySpark Dataframe"
   ]
  },
  {
   "cell_type": "code",
   "execution_count": 6,
   "id": "61ced0e5",
   "metadata": {},
   "outputs": [
    {
     "name": "stderr",
     "output_type": "stream",
     "text": [
      "                                                                                \r"
     ]
    }
   ],
   "source": [
    "df=spark.read.parquet(\"/data/*.parquet\")"
   ]
  },
  {
   "cell_type": "markdown",
   "id": "f159c541",
   "metadata": {},
   "source": [
    "## Save data into data warehouse"
   ]
  },
  {
   "cell_type": "code",
   "execution_count": 7,
   "id": "3d3e2758",
   "metadata": {},
   "outputs": [
    {
     "name": "stderr",
     "output_type": "stream",
     "text": [
      "                                                                                \r"
     ]
    },
    {
     "name": "stdout",
     "output_type": "stream",
     "text": [
      "22/11/22 04:03:41 WARN SessionState: METASTORE_FILTER_HOOK will be ignored, since hive.security.authorization.manager is set to instance of HiveAuthorizerFactory.\n"
     ]
    }
   ],
   "source": [
    "import shutil\n",
    "spark.sql(\"drop table if exists raw_nyc_trip.yellow_trip\")\n",
    "shutil.rmtree(\"/spark-warehouse/raw_nyc_trip.db/yellow_trip\", ignore_errors = True)\n",
    "df.write.mode(\"overwrite\").saveAsTable(\"raw_nyc_trip.yellow_trip\")"
   ]
  },
  {
   "cell_type": "code",
   "execution_count": 8,
   "id": "2fad1613-5556-4c9b-8d65-695a10bc3e57",
   "metadata": {},
   "outputs": [
    {
     "name": "stderr",
     "output_type": "stream",
     "text": [
      "                                                                                \r"
     ]
    },
    {
     "data": {
      "text/html": [
       "<table border='1'>\n",
       "<tr><th>VendorID</th><th>tpep_pickup_datetime</th><th>tpep_dropoff_datetime</th><th>passenger_count</th><th>trip_distance</th><th>RatecodeID</th><th>store_and_fwd_flag</th><th>PULocationID</th><th>DOLocationID</th><th>payment_type</th><th>fare_amount</th><th>extra</th><th>mta_tax</th><th>tip_amount</th><th>tolls_amount</th><th>improvement_surcharge</th><th>total_amount</th><th>congestion_surcharge</th><th>airport_fee</th></tr>\n",
       "<tr><td>1</td><td>2022-03-01 00:13:08</td><td>2022-03-01 00:24:35</td><td>1.0</td><td>2.4</td><td>1.0</td><td>N</td><td>90</td><td>209</td><td>2</td><td>10.0</td><td>3.0</td><td>0.5</td><td>0.0</td><td>0.0</td><td>0.3</td><td>13.8</td><td>2.5</td><td>0.0</td></tr>\n",
       "<tr><td>1</td><td>2022-03-01 00:47:52</td><td>2022-03-01 01:00:08</td><td>1.0</td><td>2.2</td><td>1.0</td><td>N</td><td>148</td><td>234</td><td>2</td><td>10.5</td><td>3.0</td><td>0.5</td><td>0.0</td><td>0.0</td><td>0.3</td><td>14.3</td><td>2.5</td><td>0.0</td></tr>\n",
       "<tr><td>2</td><td>2022-03-01 00:02:46</td><td>2022-03-01 00:46:43</td><td>1.0</td><td>19.78</td><td>2.0</td><td>N</td><td>132</td><td>249</td><td>1</td><td>52.0</td><td>0.0</td><td>0.5</td><td>11.06</td><td>0.0</td><td>0.3</td><td>67.61</td><td>2.5</td><td>1.25</td></tr>\n",
       "<tr><td>2</td><td>2022-03-01 00:52:43</td><td>2022-03-01 01:03:40</td><td>2.0</td><td>2.94</td><td>1.0</td><td>N</td><td>211</td><td>66</td><td>1</td><td>11.0</td><td>0.5</td><td>0.5</td><td>4.44</td><td>0.0</td><td>0.3</td><td>19.24</td><td>2.5</td><td>0.0</td></tr>\n",
       "<tr><td>2</td><td>2022-03-01 00:15:35</td><td>2022-03-01 00:34:13</td><td>1.0</td><td>8.57</td><td>1.0</td><td>N</td><td>138</td><td>197</td><td>1</td><td>25.0</td><td>0.5</td><td>0.5</td><td>5.51</td><td>0.0</td><td>0.3</td><td>33.06</td><td>0.0</td><td>1.25</td></tr>\n",
       "<tr><td>1</td><td>2022-03-01 00:11:57</td><td>2022-03-01 00:53:05</td><td>2.0</td><td>14.0</td><td>1.0</td><td>N</td><td>132</td><td>33</td><td>1</td><td>43.5</td><td>1.75</td><td>0.5</td><td>9.2</td><td>0.0</td><td>0.3</td><td>55.25</td><td>0.0</td><td>1.25</td></tr>\n",
       "<tr><td>2</td><td>2022-03-01 00:05:11</td><td>2022-03-01 00:08:22</td><td>1.0</td><td>0.61</td><td>1.0</td><td>N</td><td>166</td><td>151</td><td>1</td><td>4.5</td><td>0.5</td><td>0.5</td><td>1.0</td><td>0.0</td><td>0.3</td><td>6.8</td><td>0.0</td><td>0.0</td></tr>\n",
       "<tr><td>2</td><td>2022-03-01 00:30:56</td><td>2022-03-01 00:46:21</td><td>1.0</td><td>2.83</td><td>1.0</td><td>N</td><td>74</td><td>238</td><td>1</td><td>13.0</td><td>0.5</td><td>0.5</td><td>3.7</td><td>0.0</td><td>0.3</td><td>18.0</td><td>0.0</td><td>0.0</td></tr>\n",
       "<tr><td>2</td><td>2022-03-01 00:30:28</td><td>2022-03-01 00:30:36</td><td>1.0</td><td>0.1</td><td>1.0</td><td>N</td><td>145</td><td>145</td><td>3</td><td>-2.5</td><td>-0.5</td><td>-0.5</td><td>0.0</td><td>0.0</td><td>-0.3</td><td>-3.8</td><td>0.0</td><td>0.0</td></tr>\n",
       "<tr><td>2</td><td>2022-03-01 00:30:28</td><td>2022-03-01 00:30:36</td><td>1.0</td><td>0.1</td><td>1.0</td><td>N</td><td>145</td><td>145</td><td>2</td><td>2.5</td><td>0.5</td><td>0.5</td><td>0.0</td><td>0.0</td><td>0.3</td><td>3.8</td><td>0.0</td><td>0.0</td></tr>\n",
       "<tr><td>2</td><td>2022-03-01 00:34:25</td><td>2022-03-01 00:39:43</td><td>1.0</td><td>1.4</td><td>2.0</td><td>N</td><td>170</td><td>90</td><td>1</td><td>52.0</td><td>0.0</td><td>0.5</td><td>8.0</td><td>6.55</td><td>0.3</td><td>69.85</td><td>2.5</td><td>0.0</td></tr>\n",
       "<tr><td>2</td><td>2022-03-01 00:35:11</td><td>2022-03-01 01:20:33</td><td>1.0</td><td>14.48</td><td>1.0</td><td>N</td><td>132</td><td>97</td><td>1</td><td>45.5</td><td>0.5</td><td>0.5</td><td>9.36</td><td>0.0</td><td>0.3</td><td>57.41</td><td>0.0</td><td>1.25</td></tr>\n",
       "<tr><td>2</td><td>2022-03-01 00:59:02</td><td>2022-03-01 01:13:38</td><td>1.0</td><td>7.98</td><td>1.0</td><td>N</td><td>138</td><td>255</td><td>1</td><td>23.5</td><td>0.5</td><td>0.5</td><td>4.0</td><td>0.0</td><td>0.3</td><td>30.05</td><td>0.0</td><td>1.25</td></tr>\n",
       "<tr><td>2</td><td>2022-03-01 00:16:00</td><td>2022-03-01 00:36:46</td><td>1.0</td><td>3.48</td><td>1.0</td><td>N</td><td>179</td><td>226</td><td>2</td><td>16.0</td><td>0.5</td><td>0.5</td><td>0.0</td><td>0.0</td><td>0.3</td><td>17.3</td><td>0.0</td><td>0.0</td></tr>\n",
       "<tr><td>2</td><td>2022-03-01 00:57:18</td><td>2022-03-01 01:38:31</td><td>1.0</td><td>8.57</td><td>1.0</td><td>N</td><td>226</td><td>70</td><td>2</td><td>34.0</td><td>0.5</td><td>0.5</td><td>0.0</td><td>0.0</td><td>0.3</td><td>35.3</td><td>0.0</td><td>0.0</td></tr>\n",
       "<tr><td>2</td><td>2022-03-01 00:01:50</td><td>2022-03-01 00:17:53</td><td>1.0</td><td>7.56</td><td>1.0</td><td>N</td><td>138</td><td>256</td><td>1</td><td>23.5</td><td>0.5</td><td>0.5</td><td>6.2</td><td>0.0</td><td>0.3</td><td>32.25</td><td>0.0</td><td>1.25</td></tr>\n",
       "<tr><td>2</td><td>2022-03-01 01:03:05</td><td>2022-03-01 01:06:05</td><td>5.0</td><td>0.62</td><td>1.0</td><td>N</td><td>80</td><td>255</td><td>2</td><td>4.5</td><td>0.5</td><td>0.5</td><td>0.0</td><td>0.0</td><td>0.3</td><td>5.8</td><td>0.0</td><td>0.0</td></tr>\n",
       "<tr><td>2</td><td>2022-03-01 00:28:14</td><td>2022-03-01 00:43:11</td><td>2.0</td><td>4.33</td><td>1.0</td><td>N</td><td>211</td><td>142</td><td>1</td><td>15.0</td><td>0.5</td><td>0.5</td><td>3.76</td><td>0.0</td><td>0.3</td><td>22.56</td><td>2.5</td><td>0.0</td></tr>\n",
       "<tr><td>2</td><td>2022-03-01 00:35:49</td><td>2022-03-01 01:14:54</td><td>1.0</td><td>20.76</td><td>2.0</td><td>N</td><td>132</td><td>238</td><td>1</td><td>52.0</td><td>0.0</td><td>0.5</td><td>12.12</td><td>6.55</td><td>0.3</td><td>72.72</td><td>0.0</td><td>1.25</td></tr>\n",
       "<tr><td>2</td><td>2022-03-01 00:22:31</td><td>2022-03-01 00:30:49</td><td>2.0</td><td>1.45</td><td>1.0</td><td>N</td><td>148</td><td>231</td><td>1</td><td>7.5</td><td>0.5</td><td>0.5</td><td>2.26</td><td>0.0</td><td>0.3</td><td>13.56</td><td>2.5</td><td>0.0</td></tr>\n",
       "</table>\n",
       "only showing top 20 rows\n"
      ],
      "text/plain": [
       "+--------+--------------------+---------------------+---------------+-------------+----------+------------------+------------+------------+------------+-----------+-----+-------+----------+------------+---------------------+------------+--------------------+-----------+\n",
       "|VendorID|tpep_pickup_datetime|tpep_dropoff_datetime|passenger_count|trip_distance|RatecodeID|store_and_fwd_flag|PULocationID|DOLocationID|payment_type|fare_amount|extra|mta_tax|tip_amount|tolls_amount|improvement_surcharge|total_amount|congestion_surcharge|airport_fee|\n",
       "+--------+--------------------+---------------------+---------------+-------------+----------+------------------+------------+------------+------------+-----------+-----+-------+----------+------------+---------------------+------------+--------------------+-----------+\n",
       "|       1| 2022-03-01 00:13:08|  2022-03-01 00:24:35|            1.0|          2.4|       1.0|                 N|          90|         209|           2|       10.0|  3.0|    0.5|       0.0|         0.0|                  0.3|        13.8|                 2.5|        0.0|\n",
       "|       1| 2022-03-01 00:47:52|  2022-03-01 01:00:08|            1.0|          2.2|       1.0|                 N|         148|         234|           2|       10.5|  3.0|    0.5|       0.0|         0.0|                  0.3|        14.3|                 2.5|        0.0|\n",
       "|       2| 2022-03-01 00:02:46|  2022-03-01 00:46:43|            1.0|        19.78|       2.0|                 N|         132|         249|           1|       52.0|  0.0|    0.5|     11.06|         0.0|                  0.3|       67.61|                 2.5|       1.25|\n",
       "|       2| 2022-03-01 00:52:43|  2022-03-01 01:03:40|            2.0|         2.94|       1.0|                 N|         211|          66|           1|       11.0|  0.5|    0.5|      4.44|         0.0|                  0.3|       19.24|                 2.5|        0.0|\n",
       "|       2| 2022-03-01 00:15:35|  2022-03-01 00:34:13|            1.0|         8.57|       1.0|                 N|         138|         197|           1|       25.0|  0.5|    0.5|      5.51|         0.0|                  0.3|       33.06|                 0.0|       1.25|\n",
       "|       1| 2022-03-01 00:11:57|  2022-03-01 00:53:05|            2.0|         14.0|       1.0|                 N|         132|          33|           1|       43.5| 1.75|    0.5|       9.2|         0.0|                  0.3|       55.25|                 0.0|       1.25|\n",
       "|       2| 2022-03-01 00:05:11|  2022-03-01 00:08:22|            1.0|         0.61|       1.0|                 N|         166|         151|           1|        4.5|  0.5|    0.5|       1.0|         0.0|                  0.3|         6.8|                 0.0|        0.0|\n",
       "|       2| 2022-03-01 00:30:56|  2022-03-01 00:46:21|            1.0|         2.83|       1.0|                 N|          74|         238|           1|       13.0|  0.5|    0.5|       3.7|         0.0|                  0.3|        18.0|                 0.0|        0.0|\n",
       "|       2| 2022-03-01 00:30:28|  2022-03-01 00:30:36|            1.0|          0.1|       1.0|                 N|         145|         145|           3|       -2.5| -0.5|   -0.5|       0.0|         0.0|                 -0.3|        -3.8|                 0.0|        0.0|\n",
       "|       2| 2022-03-01 00:30:28|  2022-03-01 00:30:36|            1.0|          0.1|       1.0|                 N|         145|         145|           2|        2.5|  0.5|    0.5|       0.0|         0.0|                  0.3|         3.8|                 0.0|        0.0|\n",
       "|       2| 2022-03-01 00:34:25|  2022-03-01 00:39:43|            1.0|          1.4|       2.0|                 N|         170|          90|           1|       52.0|  0.0|    0.5|       8.0|        6.55|                  0.3|       69.85|                 2.5|        0.0|\n",
       "|       2| 2022-03-01 00:35:11|  2022-03-01 01:20:33|            1.0|        14.48|       1.0|                 N|         132|          97|           1|       45.5|  0.5|    0.5|      9.36|         0.0|                  0.3|       57.41|                 0.0|       1.25|\n",
       "|       2| 2022-03-01 00:59:02|  2022-03-01 01:13:38|            1.0|         7.98|       1.0|                 N|         138|         255|           1|       23.5|  0.5|    0.5|       4.0|         0.0|                  0.3|       30.05|                 0.0|       1.25|\n",
       "|       2| 2022-03-01 00:16:00|  2022-03-01 00:36:46|            1.0|         3.48|       1.0|                 N|         179|         226|           2|       16.0|  0.5|    0.5|       0.0|         0.0|                  0.3|        17.3|                 0.0|        0.0|\n",
       "|       2| 2022-03-01 00:57:18|  2022-03-01 01:38:31|            1.0|         8.57|       1.0|                 N|         226|          70|           2|       34.0|  0.5|    0.5|       0.0|         0.0|                  0.3|        35.3|                 0.0|        0.0|\n",
       "|       2| 2022-03-01 00:01:50|  2022-03-01 00:17:53|            1.0|         7.56|       1.0|                 N|         138|         256|           1|       23.5|  0.5|    0.5|       6.2|         0.0|                  0.3|       32.25|                 0.0|       1.25|\n",
       "|       2| 2022-03-01 01:03:05|  2022-03-01 01:06:05|            5.0|         0.62|       1.0|                 N|          80|         255|           2|        4.5|  0.5|    0.5|       0.0|         0.0|                  0.3|         5.8|                 0.0|        0.0|\n",
       "|       2| 2022-03-01 00:28:14|  2022-03-01 00:43:11|            2.0|         4.33|       1.0|                 N|         211|         142|           1|       15.0|  0.5|    0.5|      3.76|         0.0|                  0.3|       22.56|                 2.5|        0.0|\n",
       "|       2| 2022-03-01 00:35:49|  2022-03-01 01:14:54|            1.0|        20.76|       2.0|                 N|         132|         238|           1|       52.0|  0.0|    0.5|     12.12|        6.55|                  0.3|       72.72|                 0.0|       1.25|\n",
       "|       2| 2022-03-01 00:22:31|  2022-03-01 00:30:49|            2.0|         1.45|       1.0|                 N|         148|         231|           1|        7.5|  0.5|    0.5|      2.26|         0.0|                  0.3|       13.56|                 2.5|        0.0|\n",
       "+--------+--------------------+---------------------+---------------+-------------+----------+------------------+------------+------------+------------+-----------+-----+-------+----------+------------+---------------------+------------+--------------------+-----------+\n",
       "only showing top 20 rows"
      ]
     },
     "execution_count": 8,
     "metadata": {},
     "output_type": "execute_result"
    }
   ],
   "source": [
    "spark.sql(\"select * from raw_nyc_trip.yellow_trip\")"
   ]
  }
 ],
 "metadata": {
  "kernelspec": {
   "display_name": "Python 3 (ipykernel)",
   "language": "python",
   "name": "python3"
  },
  "language_info": {
   "codemirror_mode": {
    "name": "ipython",
    "version": 3
   },
   "file_extension": ".py",
   "mimetype": "text/x-python",
   "name": "python",
   "nbconvert_exporter": "python",
   "pygments_lexer": "ipython3",
   "version": "3.9.5"
  }
 },
 "nbformat": 4,
 "nbformat_minor": 5
}
